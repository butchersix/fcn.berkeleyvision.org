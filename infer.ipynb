{
 "cells": [
  {
   "cell_type": "markdown",
   "metadata": {},
   "source": [
    "# THESIS NOTEBOOK - infer.py"
   ]
  },
  {
   "cell_type": "markdown",
   "metadata": {},
   "source": [
    "### Libraries are imported here:"
   ]
  },
  {
   "cell_type": "code",
   "execution_count": 1,
   "metadata": {},
   "outputs": [],
   "source": [
    "import numpy as np\n",
    "from PIL import Image\n",
    "\n",
    "import caffe\n",
    "import vis\n",
    "\n",
    "# own libraries\n",
    "import colorgram\n",
    "import os\n",
    "from os import listdir\n",
    "from os.path import isfile, join\n",
    "from pathlib import Path\n",
    "import random\n",
    "import shutil\n",
    "import time\n",
    "import datetime\n",
    "import math\n",
    "import sys\n",
    "\n",
    "import score\n",
    "import voc_layers\n",
    "\n",
    "# sklearn libraries\n",
    "from sklearn.metrics import classification_report\n",
    "from sklearn.metrics import confusion_matrix\n",
    "\n",
    "# matplot libraries\n",
    "import matplotlib.pyplot as plt\n",
    "\n",
    "# graphviz library - visualization of trees library\n",
    "import graphviz"
   ]
  },
  {
   "cell_type": "markdown",
   "metadata": {},
   "source": [
    "### Constant and global variables:"
   ]
  },
  {
   "cell_type": "code",
   "execution_count": 2,
   "metadata": {},
   "outputs": [],
   "source": [
    "# own code - Jasper\n",
    "PRINT_SECONDS = 0.2\n",
    "REVIEW_SECONDS = 5\n",
    "REST_SECONDS = 10\n",
    "ERROR_ABOVE = \"Image {height, width} has above 1000 pixels\"\n",
    "PASS_BELOW = \"Image {height, width} has below 1000 pixels\"\n",
    "OUTPUT_FOLDER = \"output_score\" # no slashes both first and last\n",
    "OUTPUT_FOLDER_VALIDATION = \"output_validate\"\n",
    "dm = \"\" # global dimensions string\n",
    "JPG_FILETYPE = \".jpg\"\n",
    "PNG_FILETYPE = \".png\"\n",
    "loss = 0\n",
    "over_acc_scores = []\n",
    "mean_acc_scores = []\n",
    "iu_scores = []\n",
    "freq_scores = []\n",
    "session_count = 0\n",
    "plot = 0 # initialize plot for global use\n",
    "n = 0 # initialize number of paintings for global use\n",
    "LIMIT_X = 4 # limit columns for figure\n",
    "labels = [] # labels for the confusion_matrix_board (x and y axis)"
   ]
  },
  {
   "cell_type": "markdown",
   "metadata": {},
   "source": [
    "### Function section here:"
   ]
  },
  {
   "cell_type": "markdown",
   "metadata": {},
   "source": [
    "#### trackSession"
   ]
  },
  {
   "cell_type": "code",
   "execution_count": 3,
   "metadata": {},
   "outputs": [],
   "source": [
    "def trackSession():\n",
    "    global session_count\n",
    "    if session_count == 0:\n",
    "        session_count += 1\n",
    "        return True\n",
    "    else:\n",
    "        return False\n",
    "    return False"
   ]
  },
  {
   "cell_type": "markdown",
   "metadata": {},
   "source": [
    "#### setSession"
   ]
  },
  {
   "cell_type": "code",
   "execution_count": 4,
   "metadata": {},
   "outputs": [],
   "source": [
    "def setSession(file, flag=True):\n",
    "    now = datetime.datetime.now()\n",
    "    if flag:\n",
    "        file.write(\"\\n-------------------- SESSION - {} -------------------------\\n\".format(now.strftime(\"%Y-%m-%d %H:%M\")))\n",
    "    else:\n",
    "        file.write(\"-------------------- SESSION - {} -------------------------\\n\".format(now.strftime(\"%Y-%m-%d %H:%M\")))"
   ]
  },
  {
   "cell_type": "markdown",
   "metadata": {},
   "source": [
    "#### endSession"
   ]
  },
  {
   "cell_type": "code",
   "execution_count": 5,
   "metadata": {},
   "outputs": [],
   "source": [
    "def endSession(flag=True):\n",
    "    now = datetime.datetime.now()\n",
    "    if flag:\n",
    "        return \"\\n-------------------- END SESSION - {} -------------------------\\n\".format(now.strftime(\"%Y-%m-%d %H:%M\"))\n",
    "    else:\n",
    "        return \"-------------------- END SESSION - {} -------------------------\\n\".format(now.strftime(\"%Y-%m-%d %H:%M\"))\n",
    "    return \"\""
   ]
  },
  {
   "cell_type": "markdown",
   "metadata": {},
   "source": [
    "#### delayPrint"
   ]
  },
  {
   "cell_type": "code",
   "execution_count": 6,
   "metadata": {},
   "outputs": [],
   "source": [
    "def delayPrint(string, seconds): # n seconds delay printing\n",
    "    time.sleep(seconds)\n",
    "    exportLogs(string)\n",
    "    print(string)"
   ]
  },
  {
   "cell_type": "markdown",
   "metadata": {},
   "source": [
    "#### getPaintings"
   ]
  },
  {
   "cell_type": "code",
   "execution_count": 7,
   "metadata": {},
   "outputs": [],
   "source": [
    "def getPaintings(path):\n",
    "    paintings = [f.split(JPG_FILETYPE)[0] for f in listdir(path) if isfile(join(path, f))] # splits only for .jpg images\n",
    "    paintings.sort()\n",
    "    return paintings"
   ]
  },
  {
   "cell_type": "markdown",
   "metadata": {},
   "source": [
    "#### getLabels"
   ]
  },
  {
   "cell_type": "code",
   "execution_count": 8,
   "metadata": {},
   "outputs": [],
   "source": [
    "def getLabels(path):\n",
    "    paintings = [f.split(PNG_FILETYPE)[0] for f in listdir(path) if isfile(join(path, f))] # splits only for .png images\n",
    "    paintings.sort()\n",
    "    return paintings"
   ]
  },
  {
   "cell_type": "markdown",
   "metadata": {},
   "source": [
    "#### exportLogs"
   ]
  },
  {
   "cell_type": "code",
   "execution_count": 9,
   "metadata": {},
   "outputs": [],
   "source": [
    "def exportLogs(logs, f=\"demo/logs.log\"):\n",
    "    logs += \"\\n\"\n",
    "    if(isfile(f)):\n",
    "        file = open(f, \"a\")\n",
    "        if trackSession():\n",
    "            setSession(file)\n",
    "        file.write(logs)\n",
    "        file.close()\n",
    "    else:\n",
    "        print(\"Log file does not exist!\")\n",
    "        print(\"Creating {} file...\".format(f))\n",
    "        file = open(f, \"a+\")\n",
    "        if trackSession():\n",
    "            setSession(file)\n",
    "        file.write(logs)\n",
    "        file.close()"
   ]
  },
  {
   "cell_type": "markdown",
   "metadata": {},
   "source": [
    "#### createCurrentLog"
   ]
  },
  {
   "cell_type": "code",
   "execution_count": 10,
   "metadata": {},
   "outputs": [],
   "source": [
    "def createCurrentLog(fp, output_folder=OUTPUT_FOLDER):\n",
    "    filepath = fp.split(\"/\")\n",
    "    f = \"demo/{}/{}.log\".format(output_folder, filepath[len(filepath) - 1].split(JPG_FILETYPE)[0])\n",
    "    if(isfile(f)):\n",
    "        delayPrint(\"Resuming {} file\".format(f), PRINT_SECONDS)\n",
    "        file = open(f, \"w\")\n",
    "        setSession(file, False)\n",
    "        file.close()\n",
    "    else:\n",
    "        print(\"{} log file does not exist!\".format(f))\n",
    "        print(\"Creating {} file...\".format(f))\n",
    "        file = open(f, \"w+\")\n",
    "        setSession(file, False)\n",
    "        file.close()"
   ]
  },
  {
   "cell_type": "markdown",
   "metadata": {},
   "source": [
    "#### readResume"
   ]
  },
  {
   "cell_type": "code",
   "execution_count": 11,
   "metadata": {},
   "outputs": [],
   "source": [
    "def readResume(f=\"demo/resume.txt\"):\n",
    "    fp_resume = \"\"\n",
    "    delayPrint(\"Checking {} file...\".format(f), PRINT_SECONDS)\n",
    "    if(isfile(f)):\n",
    "        file = open(f, \"r\")\n",
    "        delayPrint(\"Reading file...\", PRINT_SECONDS)\n",
    "        fp_resume = file.read()\n",
    "        delayPrint(\"Last segmented image: {}\".format(fp_resume.rstrip()), PRINT_SECONDS)\n",
    "        delayPrint(\"Closing file...\", PRINT_SECONDS)\n",
    "        file.close()\n",
    "    else:\n",
    "        delayPrint(\"File does not exist!\", PRINT_SECONDS)\n",
    "    return fp_resume"
   ]
  },
  {
   "cell_type": "markdown",
   "metadata": {},
   "source": [
    "#### writeResume"
   ]
  },
  {
   "cell_type": "code",
   "execution_count": 12,
   "metadata": {},
   "outputs": [],
   "source": [
    "def writeResume(current_painting_path, f=\"demo/resume.txt\"):\n",
    "    delayPrint(\"Checking {} file...\".format(f), PRINT_SECONDS)\n",
    "    if(isfile(f)):\n",
    "        file = open(f, \"w+\")\n",
    "        delayPrint(\"Saving last segmented image path...\", PRINT_SECONDS)\n",
    "        delayPrint(\"Writing file...\", PRINT_SECONDS)\n",
    "        file.write(current_painting_path)\n",
    "        delayPrint(\"Closing file...\", PRINT_SECONDS)\n",
    "        file.close()\n",
    "    else:\n",
    "        delayPrint(\"File does not exist!\", PRINT_SECONDS)"
   ]
  },
  {
   "cell_type": "markdown",
   "metadata": {},
   "source": [
    "#### writeErrorFile"
   ]
  },
  {
   "cell_type": "code",
   "execution_count": 13,
   "metadata": {},
   "outputs": [],
   "source": [
    "def writeErrorFile(current_painting_path, error=\"\", f=\"demo/error.log\"):\n",
    "    delayPrint(\"Checking {} file...\".format(f), PRINT_SECONDS)\n",
    "    if(isfile(f)):\n",
    "        file = open(f, \"a\")\n",
    "        delayPrint(\"Writing error file...\", PRINT_SECONDS)\n",
    "        file.write(\"{} - {}\\n\".format(current_painting_path, error))\n",
    "        delayPrint(\"Closing error file...\", PRINT_SECONDS)\n",
    "        file.close()\n",
    "    else:\n",
    "        delayPrint(\"{} log file does not exist!\".format(f), PRINT_SECONDS)\n",
    "        delayPrint(\"Creating {} file...\".format(f), PRINT_SECONDS)\n",
    "        delayPrint(\"Writing error file...\", PRINT_SECONDS)\n",
    "        file = open(f, \"a+\")\n",
    "        file.write(\"{} - {}\\n\".format(current_painting_path, error))\n",
    "        delayPrint(\"Closing error file...\", PRINT_SECONDS)\n",
    "        file.close()"
   ]
  },
  {
   "cell_type": "markdown",
   "metadata": {},
   "source": [
    "#### reshapeInputLayer"
   ]
  },
  {
   "cell_type": "code",
   "execution_count": 14,
   "metadata": {},
   "outputs": [],
   "source": [
    "def reshapeInputLayer(img, LINE_NUMBER=7, f=\"voc-fcn8s/test.prototxt\"):\n",
    "    delayPrint(\"Checking {} file...\".format(f), PRINT_SECONDS)\n",
    "    # LINE_NUMBER = 7\n",
    "    width, height = img.size\n",
    "    if(isfile(f)):\n",
    "        with open(f, \"r\") as file:\n",
    "            delayPrint(\"Reading file...\", PRINT_SECONDS)\n",
    "            data = file.readlines()\n",
    "            delayPrint(\"Reshaping input layer...\", PRINT_SECONDS)\n",
    "            data[LINE_NUMBER] = \"    shape { dim: 1 dim: 3 dim: %s dim: %s }\\n\"%(height, width)\n",
    "            delayPrint(data[LINE_NUMBER], PRINT_SECONDS)\n",
    "        with open(f, \"w+\") as file:\n",
    "            delayPrint(\"Writing file...\", PRINT_SECONDS)\n",
    "            file.writelines(data)\n",
    "        delayPrint(\"Closing file...\", PRINT_SECONDS)\n",
    "        file.close()\n",
    "    else:\n",
    "        delayPrint(\"File does not exist!\", PRINT_SECONDS)"
   ]
  },
  {
   "cell_type": "markdown",
   "metadata": {},
   "source": [
    "#### reshapeLabelLayer"
   ]
  },
  {
   "cell_type": "code",
   "execution_count": 15,
   "metadata": {},
   "outputs": [],
   "source": [
    "def reshapeLabelLayer(img, LINE_NUMBER=7, f=\"voc-fcn8s/test.prototxt\"):\n",
    "    delayPrint(\"Checking {} file...\".format(f), PRINT_SECONDS)\n",
    "    # LINE_NUMBER = 7\n",
    "    width, height = img.size\n",
    "    if(isfile(f)):\n",
    "        with open(f, \"r\") as file:\n",
    "            delayPrint(\"Reading file...\", PRINT_SECONDS)\n",
    "            data = file.readlines()\n",
    "            delayPrint(\"Reshaping label layer...\", PRINT_SECONDS)\n",
    "            data[LINE_NUMBER] = \"    shape { dim: 1 dim: %s dim: %s }\\n\"%(height, width)\n",
    "            delayPrint(data[LINE_NUMBER], PRINT_SECONDS)\n",
    "        with open(f, \"w+\") as file:\n",
    "            delayPrint(\"Writing file...\", PRINT_SECONDS)\n",
    "            file.writelines(data)\n",
    "        delayPrint(\"Closing file...\", PRINT_SECONDS)\n",
    "        file.close()\n",
    "    else:\n",
    "        delayPrint(\"File does not exist!\", PRINT_SECONDS)"
   ]
  },
  {
   "cell_type": "markdown",
   "metadata": {},
   "source": [
    "#### checkImageSize1000000"
   ]
  },
  {
   "cell_type": "code",
   "execution_count": 16,
   "metadata": {},
   "outputs": [],
   "source": [
    "def checkImageSize1000000(img):\n",
    "    delayPrint(\"Checking if image {width, height} has 1,000,000 and above pixels...\", PRINT_SECONDS)\n",
    "    width, height = img.size\n",
    "    dimensions = \" - ({} x {})\".format(height, width)\n",
    "    global dm\n",
    "    dm = dimensions\n",
    "    ONE_MIL = 1000000\n",
    "    delayPrint(\"Images (H x W) has dimensions {} x {}\".format(height, width), PRINT_SECONDS)\n",
    "    if((width * height) >= ONE_MIL):\n",
    "        delayPrint(ERROR_ABOVE+dimensions, PRINT_SECONDS)\n",
    "        return True\n",
    "    else:\n",
    "        delayPrint(PASS_BELOW+dimensions, PRINT_SECONDS)\n",
    "        return False\n",
    "    return False"
   ]
  },
  {
   "cell_type": "markdown",
   "metadata": {},
   "source": [
    "#### validationResultsLog"
   ]
  },
  {
   "cell_type": "code",
   "execution_count": 17,
   "metadata": {},
   "outputs": [],
   "source": [
    "def validationResultsLog(current_painting_path, results, f=\"demo/results.log\"):\n",
    "    global loss\n",
    "    global over_acc_scores\n",
    "    global mean_acc_scores\n",
    "    global iu_scores\n",
    "    global freq_scores\n",
    "    loss += results['loss']\n",
    "    over_acc_scores.append(results['over_acc'])\n",
    "    mean_acc_scores.append(results['mean_acc'])\n",
    "    iu_scores.append(results['iu'])\n",
    "    freq_scores.append(results['freq'])\n",
    "    delayPrint(\"Checking {} file...\".format(f), PRINT_SECONDS)\n",
    "    if(isfile(f)):\n",
    "        file = open(f, \"a\")\n",
    "        delayPrint(\"Writing results file...\", PRINT_SECONDS)\n",
    "        file.write(\"{}\\n\".format(current_painting_path))\n",
    "        file.write(\"\\t\\tLoss: {}\\n\".format(results['loss']))\n",
    "        file.write(\"\\t\\tOverall accuracy: {}\\n\".format(results['over_acc']))\n",
    "        file.write(\"\\t\\tMean accuracy: {}\\n\".format(results['mean_acc']))\n",
    "        file.write(\"\\t\\tMean IU: {}\\n\".format(results['iu']))\n",
    "        file.write(\"\\t\\tFwavacc accuracy: {}\\n\".format(results['freq']))\n",
    "        file.write(\"\\n\")\n",
    "        delayPrint(\"Closing results file...\", PRINT_SECONDS)\n",
    "        file.close()\n",
    "    else:\n",
    "        delayPrint(\"{} log file does not exist!\".format(f), PRINT_SECONDS)\n",
    "        delayPrint(\"Creating {} file...\".format(f), PRINT_SECONDS)\n",
    "        delayPrint(\"Writing results file...\", PRINT_SECONDS)\n",
    "        file = open(f, \"a+\")\n",
    "        file.write(\"{}\\n\".format(current_painting_path))\n",
    "        file.write(\"\\t\\tLoss: {}\\n\".format(results['loss']))\n",
    "        file.write(\"\\t\\tOverall accuracy: {}\\n\".format(results['over_acc']))\n",
    "        file.write(\"\\t\\tMean accuracy: {}\\n\".format(results['mean_acc']))\n",
    "        file.write(\"\\t\\tMean IU: {}\\n\".format(results['iu']))\n",
    "        file.write(\"\\t\\tFwavacc accuracy: {}\\n\".format(results['freq']))\n",
    "        file.write(\"\\n\")\n",
    "        delayPrint(\"Closing results file...\", PRINT_SECONDS)\n",
    "        file.close()"
   ]
  },
  {
   "cell_type": "markdown",
   "metadata": {},
   "source": [
    "#### computeMeanScore"
   ]
  },
  {
   "cell_type": "code",
   "execution_count": 18,
   "metadata": {},
   "outputs": [],
   "source": [
    "def computeMeanScore(f=\"demo/results.log\"):\n",
    "    global loss\n",
    "    global over_acc_scores\n",
    "    global mean_acc_scores\n",
    "    global iu_scores\n",
    "    global freq_scores\n",
    "    over_acc_scores_m = np.mean(over_acc_scores)\n",
    "    mean_acc_scores_m = np.mean(mean_acc_scores)\n",
    "    iu_scores_m = np.mean(iu_scores)\n",
    "    freq_scores_m = np.mean(freq_scores)\n",
    "    delayPrint(\"Checking {} file...\".format(f), PRINT_SECONDS)\n",
    "    if(isfile(f)):\n",
    "        file = open(f, \"a\")\n",
    "        delayPrint(\"Writing mean results file...\", PRINT_SECONDS)\n",
    "        file.write(\"Mean Results:\\n\")\n",
    "        file.write(\"\\t\\tLoss: {}\\n\".format(loss))\n",
    "        file.write(\"\\t\\tOverall accuracy (mean): {}\\n\".format(over_acc_scores))\n",
    "        file.write(\"\\t\\tMean accuracy (mean): {}\\n\".format(mean_acc_scores))\n",
    "        file.write(\"\\t\\tMean IU (mean): {}\\n\".format(iu_scores))\n",
    "        file.write(\"\\t\\tFwavacc accuracy (mean): {}\\n\".format(freq_scores))\n",
    "        delayPrint(\"Closing mean results file...\", PRINT_SECONDS)\n",
    "        file.close()\n",
    "    else:\n",
    "        delayPrint(\"{} log file does not exist!\".format(f), PRINT_SECONDS)\n",
    "        delayPrint(\"Creating {} file...\".format(f), PRINT_SECONDS)\n",
    "        delayPrint(\"Writing mean results file...\", PRINT_SECONDS)\n",
    "        file = open(f, \"a+\")\n",
    "        file.write(\"Mean Results:\\n\")\n",
    "        file.write(\"\\t\\tLoss: {}\\n\".format(loss))\n",
    "        file.write(\"\\t\\tOverall accuracy (mean): {}\\n\".format(over_acc_scores))\n",
    "        file.write(\"\\t\\tMean accuracy (mean): {}\\n\".format(mean_acc_scores))\n",
    "        file.write(\"\\t\\tMean IU (mean): {}\\n\".format(iu_scores))\n",
    "        file.write(\"\\t\\tFwavacc accuracy (mean): {}\\n\".format(freq_scores))\n",
    "        delayPrint(\"Closing mean results file...\", PRINT_SECONDS)\n",
    "        file.close()\n",
    "    return {'loss_a' : loss, 'over_acc_m' : over_acc_scores_m, 'mean_acc_m' : mean_acc_scores_m, 'iu_m' : iu_scores_m, 'freq_m' : freq_scores_m}"
   ]
  },
  {
   "cell_type": "markdown",
   "metadata": {},
   "source": [
    "#### loop"
   ]
  },
  {
   "cell_type": "code",
   "execution_count": 19,
   "metadata": {},
   "outputs": [],
   "source": [
    "def loop(paintings_path, labels_path, paintings, current_painting):\n",
    "    global n\n",
    "    global plot\n",
    "    global LIMIT_X\n",
    "    global over_acc_scores\n",
    "    global mean_acc_scores\n",
    "    global iu_scores\n",
    "    global freq_scores\n",
    "    n = int(input(\"Enter number of images to segment: \"))\n",
    "    index = paintings.index(current_painting.split(JPG_FILETYPE)[0])\n",
    "    end = len(paintings) - 1\n",
    "    last = index+n\n",
    "    if(index != 0):\n",
    "        if(index == end):\n",
    "            last = end\n",
    "        else:\n",
    "            index += 1\n",
    "            last += 1\n",
    "    delayPrint(\"Choose one of the following:\\n\", PRINT_SECONDS)\n",
    "    delayPrint(\"[1] Segmentation\\t\\t[2] Validation\", PRINT_SECONDS)\n",
    "    option = int(input(\"Your answer [1/2]: \"))\n",
    "    while option != 1 and option != 2:\n",
    "        option = int(input(\"Your answer [1/2]: \"))\n",
    "\n",
    "    # creating Figure\n",
    "    plot = createFigure(getYLimitValue(n), LIMIT_X)\n",
    "    \n",
    "    # graphs\n",
    "    acc_plot = createFigure(1, 1)\n",
    "    \n",
    "    for x in range(index, last):\n",
    "        current_painting_path = paintings_path + \"/\" + paintings[x] + JPG_FILETYPE\n",
    "        current_label_path = labels_path + \"/\" + paintings[x] + PNG_FILETYPE\n",
    "        delayPrint(current_painting_path, PRINT_SECONDS)\n",
    "        createCurrentLog(paintings[x], OUTPUT_FOLDER) if option is 1 else createCurrentLog(paintings[x], OUTPUT_FOLDER_VALIDATION)\n",
    "        start_time = datetime.datetime.now()\n",
    "        delayPrint(\"---------- Start Time - {:s} ----------\".format(str(start_time)), PRINT_SECONDS)\n",
    "        delayPrint(\"Index of painting: {}\".format(x), PRINT_SECONDS)\n",
    "        delayPrint(\"Last expected painting index: {}\".format(last - 1), PRINT_SECONDS)\n",
    "        delayPrint(\"\", REVIEW_SECONDS)\n",
    "#         try:\n",
    "        if option == 1:\n",
    "            segmentation(current_painting_path, paintings[x])\n",
    "        else:\n",
    "            results = validation(current_painting_path, current_label_path, paintings[x])\n",
    "            plot = collectConfusionMatrix(plot, x-index+1, results[1], paintings[x])\n",
    "            validationResultsLog(current_painting_path, results[0])\n",
    "#         except:\n",
    "#             error = sys.exc_info()[0]\n",
    "#             print(\"Error {} found! Writing error log.\".format(error))\n",
    "#             writeErrorFile(current_painting_path, error)\n",
    "        end_time = datetime.datetime.now()\n",
    "        delayPrint(\"---------- End Time - {:s} ----------\".format(str(end_time)), PRINT_SECONDS)\n",
    "        elapsed_time = end_time - start_time\n",
    "        delayPrint(\"Elapsed time is: {:s}\".format(str(elapsed_time)), REVIEW_SECONDS)\n",
    "        delayPrint(\"Index of painting: {}\".format(x), PRINT_SECONDS)\n",
    "        delayPrint(\"Last expected painting index: {}\".format(last - 1), PRINT_SECONDS)\n",
    "        delayPrint(\"\", REVIEW_SECONDS)\n",
    "        if int(n) > 1 and x != last - 1: # rest (60 seconds) if images are greater to 1 and no rest if last image\n",
    "            time.sleep(REST_SECONDS)\n",
    "        # if x == last - 1:\n",
    "        writeResume(current_painting_path)\n",
    "    if option is 2:\n",
    "        mean_scores = computeMeanScore()\n",
    "        delayPrint(\"Loss: {}\".format(mean_scores[\"loss_a\"]), PRINT_SECONDS)\n",
    "        delayPrint(\"Overall Accuracy (mean): {}\".format(mean_scores[\"over_acc_m\"]), PRINT_SECONDS)\n",
    "        delayPrint(\"Mean Accuracy (mean): {}\".format(mean_scores[\"mean_acc_m\"]), PRINT_SECONDS)\n",
    "        delayPrint(\"Mean IU (mean): {}\".format(mean_scores[\"iu_m\"]), PRINT_SECONDS)\n",
    "        delayPrint(\"Fwavacc Accuracy (mean): {}\".format(mean_scores[\"freq_m\"]), PRINT_SECONDS)\n",
    "        \n",
    "        # show the figure of the collected confusion matrix\n",
    "        showFigure()\n",
    "        saveFigure(plot)\n",
    "        \n",
    "        # show the figure of accuracy scores\n",
    "        showAccPlot(acc_plot, [over_acc_scores, mean_acc_scores, iu_scores, freq_scores], [\"Overall Accuracy Scores\", \"Mean Accuracy Scores\", \"Mean IoU Scores\", \"Frequency Weighted Accuracy Scores\"])\n",
    "        \n",
    "    delayPrint(endSession(), PRINT_SECONDS)"
   ]
  },
  {
   "cell_type": "markdown",
   "metadata": {},
   "source": [
    "#### segmentation"
   ]
  },
  {
   "cell_type": "code",
   "execution_count": 20,
   "metadata": {},
   "outputs": [],
   "source": [
    "def segmentation(path, current_painting):\n",
    "    # the demo image is \"2007_000129\" from PASCAL VOC\n",
    "\n",
    "    # load image, switch to BGR, subtract mean, and make dims C x H x W for Caffe\n",
    "    # im = Image.open('demo/image.jpg')\n",
    "    # path = \"demo/Trials/twice.jpg\"\n",
    "    im = Image.open(path)\n",
    "    if checkImageSize1000000(im):\n",
    "        writeErrorFile(path, ERROR_ABOVE+dm)\n",
    "    else:\n",
    "        # reshape input layer from dimensions of image H x W\n",
    "        reshapeInputLayer(im, 7)\n",
    "        delayPrint(\"Starting to segment the image -- {} -- in {} seconds\".format(current_painting, REVIEW_SECONDS), PRINT_SECONDS)\n",
    "        # delay for 5 seconds for reviewing of image name\n",
    "        time.sleep(REVIEW_SECONDS)\n",
    "        in_ = np.array(im, dtype=np.float32)\n",
    "        # print(in_)\n",
    "        in_ = in_[:,:,::-1]\n",
    "        # time.sleep(120)\n",
    "        in_ -= np.array((104.00698793,116.66876762,122.67891434))\n",
    "        in_ = in_.transpose((2,0,1))\n",
    "\n",
    "        # Own code:\n",
    "        # Set mode to CPU since GPU can't handle much memory\n",
    "        caffe.set_mode_cpu()\n",
    "        # load net\n",
    "        net = caffe.Net('voc-fcn8s/test.prototxt', 'voc-fcn8s/fcn8s-heavy-pascal.caffemodel', caffe.TEST)\n",
    "        # shape for input (data blob is N x C x H x W), set data\n",
    "        net.blobs['data'].reshape(1, *in_.shape)\n",
    "        net.blobs['data'].data[...] = in_\n",
    "\n",
    "        # print(\"Stopping...\")\n",
    "        # return\n",
    "        \n",
    "\n",
    "        # run net and take argmax for prediction\n",
    "        net.forward()\n",
    "        out = net.blobs['score'].data[0].argmax(axis=0)\n",
    "\n",
    "        # visualize segmentation in PASCAL VOC colors\n",
    "        voc_palette = vis.make_palette(21)\n",
    "        out_im = Image.fromarray(vis.color_seg(out, voc_palette))\n",
    "        # image_pixels = \"\"\n",
    "        # ycount_gt = 0\n",
    "        # ycount_out = 0\n",
    "        # for y in gt_:\n",
    "        #     for x in y:\n",
    "        #         # image_pixels += str(x)\n",
    "        #         if x == 4:\n",
    "        #             ycount_gt += 1\n",
    "        #     # image_pixels += \"\\n\"\n",
    "        # for y in out_:\n",
    "        #     for x in y:\n",
    "        #         # image_pixels += str(x)\n",
    "        #         if x == 4:\n",
    "        #             ycount_out += 1\n",
    "            # image_pixels += \"\\n\"\n",
    "        # print(\"Accuracy of 4: {:.5f}\".format(ycount_out/ycount_gt))\n",
    "        # print(ycount)\n",
    "        # # print(image_pixels)\n",
    "        # with open(\"test.txt\", \"a+\") as file:\n",
    "        #     file.writelines(image_pixels)\n",
    "        # out_im.save('demo/output.png')\n",
    "        out_im.save('demo/%s/output_%s.png'%(OUTPUT_FOLDER, current_painting.split(JPG_FILETYPE)[0]))\n",
    "        logfile = \"demo/\"+OUTPUT_FOLDER+\"/\"+current_painting+\".log\"\n",
    "        masked_im = Image.fromarray(vis.vis_seg(im, out, voc_palette, 0.5, logfile))\n",
    "\n",
    "        # print extracted colors of original image\n",
    "        vis.extractColors(path, logfile)\n",
    "\n",
    "        # masked_im.save('demo/visualization.jpg')\n",
    "        masked_im.save('demo/%s/output_%s.jpg'%(OUTPUT_FOLDER, current_painting))"
   ]
  },
  {
   "cell_type": "markdown",
   "metadata": {},
   "source": [
    "#### valdation"
   ]
  },
  {
   "cell_type": "code",
   "execution_count": 21,
   "metadata": {},
   "outputs": [],
   "source": [
    "def validation(painting_path, label_path, current_painting):\n",
    "    im = Image.open(painting_path)\n",
    "    gt = Image.open(label_path)\n",
    "    gt = gt.resize(gt.size, Image.ANTIALIAS)\n",
    "    if checkImageSize1000000(im):\n",
    "        writeErrorFile(painting_path, ERROR_ABOVE+dm)\n",
    "    else:\n",
    "        # reshape input layer from dimensions of image H x W\n",
    "        reshapeInputLayer(im, 7)\n",
    "        reshapeLabelLayer(gt, 15)\n",
    "        delayPrint(\"Starting to validate the image -- {} -- in {} seconds\".format(current_painting, REVIEW_SECONDS), PRINT_SECONDS)\n",
    "        # delay for 5 seconds for reviewing of image name\n",
    "        time.sleep(REVIEW_SECONDS)\n",
    "        in_ = np.array(im, dtype=np.float32)\n",
    "\n",
    "        # try ground truth\n",
    "        gt_ = np.array(gt, dtype=np.float32)\n",
    "        # gt_ = gt_[np.newaxis, ...]\n",
    "        # print(in_)\n",
    "        in_ = in_[:,:,::-1]\n",
    "        # print(in_)\n",
    "        # print(gt_)\n",
    "        # gt_ = gt_[:,:,::-1]\n",
    "        # time.sleep(120)\n",
    "        in_ -= np.array((104.00698793,116.66876762,122.67891434))\n",
    "        in_ = in_.transpose((2,0,1))\n",
    "\n",
    "        # gt_ -= np.array((104.00698793,116.66876762,122.67891434))\n",
    "        # gt_ = gt_.transpose((2,0,1))\n",
    "\n",
    "        # Own code:\n",
    "        # Set mode to CPU since GPU can't handle much memory\n",
    "        caffe.set_mode_cpu()\n",
    "        # load net\n",
    "        net = caffe.Net('voc-fcn8s/test.prototxt', 'voc-fcn8s/fcn8s-heavy-pascal.caffemodel', caffe.TEST)\n",
    "        # shape for input (data blob is N x C x H x W), set data\n",
    "        # net.blobs['label'].data = gt_ \n",
    "        \n",
    "        # print(net.blobs)\n",
    "        \n",
    "        net.blobs['data'].reshape(1, *in_.shape)\n",
    "        net.blobs['data'].data[...] = in_\n",
    "        # net.blobs['label'].reshape(1, *gt_.shape)\n",
    "        net.blobs['label'].data[...] = gt_\n",
    "\n",
    "        # print(\"Stopping...\")\n",
    "        # return\n",
    "        \n",
    "\n",
    "        # run net and take argmax for prediction\n",
    "        net.forward()\n",
    "        \n",
    "        out = net.blobs['score'].data[0].argmax(axis=0)\n",
    "        voc_palette = vis.make_palette(21)\n",
    "        out_im = Image.fromarray(vis.color_seg(out, voc_palette))\n",
    "        out_im.save('demo/%s/output_%s.png'%(OUTPUT_FOLDER_VALIDATION, current_painting.split(JPG_FILETYPE)[0]))\n",
    "        logfile = \"demo/\"+OUTPUT_FOLDER_VALIDATION+\"/\"+current_painting+\".log\"\n",
    "        masked_im = Image.fromarray(vis.vis_seg(im, out, voc_palette, 0.5, logfile))\n",
    "\n",
    "        # print extracted colors of original image\n",
    "        vis.extractColors(painting_path, logfile)\n",
    "\n",
    "        # masked_im.save('demo/visualization.jpg')\n",
    "        masked_im.save('demo/%s/output_%s.jpg'%(OUTPUT_FOLDER_VALIDATION, current_painting))\n",
    "        \n",
    "        # store data for label and segmented \n",
    "        out_ = np.array(out, dtype=np.float32)\n",
    "        lbl_ = np.array(gt, dtype=np.float32)\n",
    "        \n",
    "        delayPrint(\"Ground truth image array: {}\".format(np.unique(gt_.flatten())), PRINT_SECONDS)\n",
    "        delayPrint(\"Segmentation result image array: {}\".format(np.unique(out_.flatten())), PRINT_SECONDS)\n",
    "        \n",
    "        # check accuracy\n",
    "        # val = np.loadtxt('demo/valid.txt', dtype=str)\n",
    "        val = np.array([1], dtype=np.uint8)\n",
    "\n",
    "        # reshaping blobs to 1-dimension\n",
    "        # net.blobs['data'].reshape(1,)\n",
    "        # net.blobs['label'].reshape(1,)\n",
    "        conf_mx = createConfusionMatrix(lbl_.flatten(), out_.flatten())\n",
    "        return (score.do_seg_tests(net, 1, False, val, layer='score', gt='label'), conf_mx)"
   ]
  },
  {
   "cell_type": "markdown",
   "metadata": {},
   "source": [
    "### Visualization section"
   ]
  },
  {
   "cell_type": "markdown",
   "metadata": {},
   "source": [
    "#### createConfusionMatrix"
   ]
  },
  {
   "cell_type": "code",
   "execution_count": 22,
   "metadata": {},
   "outputs": [],
   "source": [
    "def createConfusionMatrix(label, segmented):\n",
    "    global labels\n",
    "    class_names = [\"background\", \"aeroplane\", \"bicycle\", \"bird\",\n",
    "               \"boat\", \"bottle\", \"bus\", \"car\",\n",
    "               \"cat\", \"chair\", \"cow\", \"diningtable\",\n",
    "               \"dog\", \"horse\", \"motorbike\", \"person\",\n",
    "               \"pottedplant\", \"sheep\", \"sofa\", \"train\",\n",
    "               \"tvmonitor\"]\n",
    "    delayPrint(\"Creating confusion matrix...\", PRINT_SECONDS)\n",
    "    lbl_seg_ci_lst = list(map(int, list(set(list(np.unique(label)) + list(np.unique(segmented))))))\n",
    "    labels = lbl_seg_ci_lst\n",
    "#     print(labels)\n",
    "#     print(\"List of lbl_seg: {}\".format(lbl_seg_ci_lst))\n",
    "#     print(\"1st element of lbl_seg: {}\".format(class_names[lbl_seg_ci_lst[0]]))\n",
    "#     print(\"Type of ignore element of lbl: {}\".format(lbl_seg_ci_lst[5] == 255))\n",
    "#     label = list(map(int, label))\n",
    "#     segmented = list(map(int, segmented))\n",
    "#     label = list(map((lambda x: \"ignore\" if x == 255 else class_names[x]), label))\n",
    "#     segmented = list(map((lambda x: \"ignore\" if x == 255 else class_names[x]), segmented))\n",
    "#     conf_mx = confusion_matrix(label, segmented, labels=list(map((lambda x: \"ignore\" if x == 255 else class_names[x]), lbl_seg_ci_lst)))\n",
    "#     plt.matshow(conf_mx, cmap=plt.cm.gray)\n",
    "    conf_mx = confusion_matrix(label, segmented)\n",
    "    return conf_mx"
   ]
  },
  {
   "cell_type": "markdown",
   "metadata": {},
   "source": [
    "#### getYLimitValue"
   ]
  },
  {
   "cell_type": "code",
   "execution_count": 23,
   "metadata": {},
   "outputs": [],
   "source": [
    "def getYLimitValue(n):\n",
    "    global LIMIT_X\n",
    "#     if n % LIMIT_X == 0:\n",
    "#         y = int(math.ceil(n / LIMIT_X))\n",
    "#     else:\n",
    "#         y = int(math.ceil(n / LIMIT_X)) + 1\n",
    "    return int(math.ceil(n / LIMIT_X))"
   ]
  },
  {
   "cell_type": "markdown",
   "metadata": {},
   "source": [
    "#### createFigure"
   ]
  },
  {
   "cell_type": "code",
   "execution_count": 24,
   "metadata": {},
   "outputs": [],
   "source": [
    "def createFigure(y, x):\n",
    "#     y = getYLimitValue(n)\n",
    "#     x = LIMIT_X\n",
    "    delayPrint(\"Creating figure...\", PRINT_SECONDS)\n",
    "    fig, axes = plt.subplots(y, x)\n",
    "    fig.set_size_inches(30,20)\n",
    "    return fig, axes"
   ]
  },
  {
   "cell_type": "markdown",
   "metadata": {},
   "source": [
    "#### showAccPlot"
   ]
  },
  {
   "cell_type": "code",
   "execution_count": 25,
   "metadata": {},
   "outputs": [],
   "source": [
    "def showAccPlot(plot, data, labels):\n",
    "    fig, axes = plot\n",
    "    colors = ['b', 'g', 'r', 'c', 'm', 'y', 'k', 'w']\n",
    "    line_type = '-'\n",
    "    loc = list(map((lambda x: x+line_type), colors))\n",
    "    for x in range(len(labels)):\n",
    "        ri = random.randint(0, len(colors))\n",
    "        print(\"Index: {} data: {} label: {} ri: {} loc: {}\".format(x, data[x], labels[x], ri, loc[ri]))\n",
    "        axes.plot(data[x], loc[ri], label=labels[x])\n",
    "    axes.legend(loc='best')\n",
    "    plt.show()"
   ]
  },
  {
   "cell_type": "markdown",
   "metadata": {},
   "source": [
    "#### showFigure"
   ]
  },
  {
   "cell_type": "code",
   "execution_count": 26,
   "metadata": {},
   "outputs": [],
   "source": [
    "def showFigure():\n",
    "    delayPrint(\"Showing figure...\", PRINT_SECONDS)\n",
    "#     plt.subplots_adjust(wspace=0, hspace=0)\n",
    "    plt.show()"
   ]
  },
  {
   "cell_type": "markdown",
   "metadata": {},
   "source": [
    "#### saveFig"
   ]
  },
  {
   "cell_type": "code",
   "execution_count": 27,
   "metadata": {},
   "outputs": [],
   "source": [
    "def saveFigure(plot):\n",
    "    fig, axes = plot\n",
    "    delayPrint(\"Saving figure...\", PRINT_SECONDS)\n",
    "    fig.savefig(\"demo/{}/confusion matrices.png\".format(OUTPUT_FOLDER_VALIDATION))\n",
    "    "
   ]
  },
  {
   "cell_type": "markdown",
   "metadata": {},
   "source": [
    "#### collectConfusionMatrix"
   ]
  },
  {
   "cell_type": "code",
   "execution_count": 28,
   "metadata": {},
   "outputs": [],
   "source": [
    "def collectConfusionMatrix(plot, current_index, conf_mx, currrent_painting):\n",
    "    global LIMIT_X\n",
    "    global labels\n",
    "    global n\n",
    "    class_names = [\"background\", \"aeroplane\", \"bicycle\", \"bird\",\n",
    "               \"boat\", \"bottle\", \"bus\", \"car\",\n",
    "               \"cat\", \"chair\", \"cow\", \"diningtable\",\n",
    "               \"dog\", \"horse\", \"motorbike\", \"person\",\n",
    "               \"pottedplant\", \"sheep\", \"sofa\", \"train\",\n",
    "               \"tvmonitor\"]\n",
    "    \n",
    "    delayPrint(\"Collecting confusion matrix...\", PRINT_SECONDS)\n",
    "    index = 0\n",
    "    fig, axes = plot\n",
    "    for y in range(getYLimitValue(current_index)):\n",
    "        for x in range(LIMIT_X):\n",
    "#             print(\"{} check condition: {}\".format(index, (index is n - 1)))\n",
    "            if index == current_index - 1:\n",
    "                delayPrint(\"Storing confusion matrix...\", PRINT_SECONDS)\n",
    "#                 print(\"{}, {}\".format(y, x))\n",
    "                if n > LIMIT_X:\n",
    "                    axes[y, x].matshow(conf_mx, cmap=plt.cm.gray)\n",
    "                    axes[y, x].set_xticklabels([''] + list(map((lambda x: \"ignore\" if x == 255 else class_names[x]), labels)))\n",
    "                    axes[y, x].set_yticklabels([''] + list(map((lambda x: \"ignore\" if x == 255 else class_names[x]), labels)))\n",
    "                    axes[y, x].set_ylabel(\"Ground Truth\")\n",
    "                    axes[y, x].set_xlabel(\"Segmented Image\")\n",
    "                    axes[y, x].set_title(current_painting)\n",
    "                else:\n",
    "                    axes[x].matshow(conf_mx, cmap=plt.cm.gray)\n",
    "                    axes[x].set_xticklabels([''] + list(map((lambda x: \"ignore\" if x == 255 else class_names[x]), labels)))\n",
    "                    axes[x].set_yticklabels([''] + list(map((lambda x: \"ignore\" if x == 255 else class_names[x]), labels)))\n",
    "                    axes[x].set_ylabel(\"Ground Truth\")\n",
    "                    axes[x].set_xlabel(\"Segmented Image\")\n",
    "                    axes[x].set_title(current_painting)\n",
    "            elif index > current_index - 1:\n",
    "                if current_index > LIMIT_X:\n",
    "                    if current_index >= n:\n",
    "                        fig.delaxes(axes[y, x])\n",
    "                else:\n",
    "                    if current_index >= n:\n",
    "                        fig.delaxes(axes[x])\n",
    "            index += 1\n",
    "    return fig, axes"
   ]
  },
  {
   "cell_type": "markdown",
   "metadata": {},
   "source": [
    "### Main process here:"
   ]
  },
  {
   "cell_type": "code",
   "execution_count": 29,
   "metadata": {},
   "outputs": [
    {
     "name": "stdout",
     "output_type": "stream",
     "text": [
      "Checking demo/resume.txt file...\n",
      "Reading file...\n",
      "Last segmented image: demo/test/presentation_voc/JPEGImages/alexey-venetsianov_checkered-shawl.jpg\n",
      "Closing file...\n",
      "Enter number of images to segment: 1\n",
      "Choose one of the following:\n",
      "\n",
      "[1] Segmentation\t\t[2] Validation\n",
      "Your answer [1/2]: 2\n",
      "Creating figure...\n",
      "Creating figure...\n",
      "demo/test/presentation_voc/JPEGImages/alexey-venetsianov_peasant-woman-with-milk.jpg\n",
      "Resuming demo/output_validate/alexey-venetsianov_peasant-woman-with-milk.log file\n",
      "---------- Start Time - 2018-09-01 15:47:26.538547 ----------\n",
      "Index of painting: 2\n",
      "Last expected painting index: 2\n",
      "\n",
      "Checking if image {width, height} has 1,000,000 and above pixels...\n",
      "Images (H x W) has dimensions 344 x 269\n",
      "Image {height, width} has below 1000 pixels - (344 x 269)\n",
      "Checking voc-fcn8s/test.prototxt file...\n",
      "Reading file...\n",
      "Reshaping input layer...\n",
      "    shape { dim: 1 dim: 3 dim: 344 dim: 269 }\n",
      "\n",
      "Writing file...\n",
      "Closing file...\n",
      "Checking voc-fcn8s/test.prototxt file...\n",
      "Reading file...\n",
      "Reshaping label layer...\n",
      "    shape { dim: 1 dim: 344 dim: 269 }\n",
      "\n",
      "Writing file...\n",
      "Closing file...\n",
      "Starting to validate the image -- alexey-venetsianov_peasant-woman-with-milk -- in 5 seconds\n",
      "Number of pixels: 92536\n",
      "Extract Unique Pixel Classes:\n",
      "\n",
      "1. [0, 0, 0]\n",
      "2. [0, 192, 0]\n",
      "3. [192, 128, 128]\n",
      "---------- Class Names - RGB Value ----------\n",
      "Class ID: 0\n",
      "Class Color: (0, 0, 0)\n",
      "Class Name: background\n",
      "Percentage of region: 48.020%\n",
      "\n",
      "\n",
      "Class ID: 18\n",
      "Class Color: (0, 192, 0)\n",
      "Class Name: sofa\n",
      "Percentage of region: 2.715%\n",
      "\n",
      "\n",
      "Class ID: 15\n",
      "Class Color: (192, 128, 128)\n",
      "Class Name: person\n",
      "Percentage of region: 49.265%\n",
      "\n",
      "\n",
      "---------- Colors Present In Image ----------\n",
      "\n",
      "RGB Color - HSV - Proportion - Hue Color: Rgb(r=116, g=46, b=25) - (13.846153846153845, 0.7844827586206896, 116) - 3.3932739690498837% - red\n",
      "RGB Color - HSV - Proportion - Hue Color: Rgb(r=48, g=20, b=24) - (351.42857142857144, 0.5833333333333334, 48) - 0.1934382294458373% - magenta\n",
      "RGB Color - HSV - Proportion - Hue Color: Rgb(r=250, g=213, b=143) - (39.252336448598136, 0.428, 250) - 0.031339154491225034% - red\n",
      "RGB Color - HSV - Proportion - Hue Color: Rgb(r=13, g=21, b=28) - (208.00000000000003, 0.5357142857142857, 28) - 0.00864528399757932% - cyan\n",
      "RGB Color - HSV - Proportion - Hue Color: Rgb(r=239, g=194, b=109) - (39.23076923076923, 0.5439330543933054, 239) - 2.126739863404513% - red\n",
      "RGB Color - HSV - Proportion - Hue Color: Rgb(r=97, g=61, b=24) - (30.41095890410959, 0.7525773195876289, 97) - 0.3252788104089219% - red\n",
      "RGB Color - HSV - Proportion - Hue Color: Rgb(r=181, g=130, b=60) - (34.710743801652896, 0.6685082872928176, 181) - 2.7513616322296186% - red\n",
      "RGB Color - HSV - Proportion - Hue Color: Rgb(r=118, g=51, b=59) - (352.8358208955224, 0.5677966101694916, 118) - 0.0032419814990922455% - magenta\n",
      "RGB Color - HSV - Proportion - Hue Color: Rgb(r=47, g=27, b=13) - (24.705882352941174, 0.723404255319149, 47) - 58.8635774185182% - red\n",
      "RGB Color - HSV - Proportion - Hue Color: Rgb(r=105, g=37, b=41) - (356.47058823529414, 0.6476190476190476, 105) - 0.010806604996974152% - magenta\n",
      "RGB Color - HSV - Proportion - Hue Color: Rgb(r=13, g=26, b=9) - (105.88235294117648, 0.6538461538461539, 26) - 0.00216132099939483% - yellow\n",
      "RGB Color - HSV - Proportion - Hue Color: Rgb(r=150, g=80, b=37) - (22.831858407079647, 0.7533333333333333, 150) - 18.28693697587966% - red\n",
      "RGB Color - HSV - Proportion - Hue Color: Rgb(r=213, g=105, b=49) - (20.48780487804878, 0.7699530516431925, 213) - 0.12103397596611049% - red\n",
      "RGB Color - HSV - Proportion - Hue Color: Rgb(r=218, g=161, b=82) - (34.85294117647059, 0.6238532110091743, 218) - 13.881084118613296% - red\n",
      "RGB Color - HSV - Proportion - Hue Color: Rgb(r=168, g=100, b=101) - (359.11764705882354, 0.40476190476190477, 168) - 0.001080660499697415% - magenta\n",
      "\n",
      "\n",
      "---------- Hue Colors - Hue Proportions ----------\n",
      "\n",
      "Color\t -\t Color Proportion\t -\t No. of instances\n",
      "Red    \t -\t 99.781%\t\t\t -\t 9\n",
      "Yellow \t -\t 0.002%\t\t\t -\t 1\n",
      "Green \t -\t 0.000%\t\t\t -\t 0\n",
      "Cyan   \t -\t 0.009%\t\t\t -\t 1\n",
      "Blue   \t -\t 0.000%\t\t\t -\t 0\n",
      "Magenta\t -\t 0.209%\t\t\t -\t 4\n",
      "--------------------------------------------------\n",
      "Total number of colors: 15\n",
      "\n",
      "Ground truth image array: [ 0. 15.]\n",
      "Segmentation result image array: [ 0. 15. 18.]\n",
      "Creating confusion matrix...\n",
      "Ground truth: (92536,)\n",
      "Segmeted output: (92536,)\n",
      ">>>2018-09-01 15:47:51.894796 Iteration: 1 Loss: 59213.07421875\n",
      ">>>2018-09-01 15:47:52.095817 Iteration: 1 Overall accuracy: 0.8223826402697328\n"
     ]
    },
    {
     "name": "stderr",
     "output_type": "stream",
     "text": [
      "/home/butchersix/fcn.berkeleyvision.org/score.py:115: RuntimeWarning: invalid value encountered in true_divide\n",
      "  mean_acc = np.diag(hist) / hist.sum(1)\n",
      "/home/butchersix/fcn.berkeleyvision.org/score.py:119: RuntimeWarning: invalid value encountered in true_divide\n",
      "  iu = np.diag(hist) / (hist.sum(1) + hist.sum(0) - np.diag(hist))\n"
     ]
    },
    {
     "name": "stdout",
     "output_type": "stream",
     "text": [
      ">>>2018-09-01 15:47:52.299312 Iteration: 1 Mean Accuracy: 0.8486861659239341\n",
      ">>>2018-09-01 15:47:52.501127 Iteration: 1 Mean IU: 0.47586041779768745\n",
      ">>>2018-09-01 15:47:52.702533 Iteration: 1 Fwavacc: 0.7160318701961599\n",
      "Collecting confusion matrix...\n",
      "Storing confusion matrix...\n",
      "Checking demo/results.log file...\n",
      "Writing results file...\n",
      "Closing results file...\n",
      "---------- End Time - 2018-09-01 15:47:54.030566 ----------\n",
      "Elapsed time is: 0:00:27.492019\n",
      "Index of painting: 2\n",
      "Last expected painting index: 2\n",
      "\n",
      "Checking demo/resume.txt file...\n",
      "Saving last segmented image path...\n",
      "Writing file...\n",
      "Closing file...\n",
      "Checking demo/results.log file...\n",
      "Writing mean results file...\n",
      "Closing mean results file...\n",
      "Loss: 59213.07421875\n",
      "Overall Accuracy (mean): 0.8223826402697328\n",
      "Mean Accuracy (mean): 0.8486861659239341\n",
      "Mean IU (mean): 0.47586041779768745\n",
      "Fwavacc Accuracy (mean): 0.7160318701961599\n",
      "Showing figure...\n"
     ]
    },
    {
     "data": {
      "image/png": "[encoded data removed]",
      "text/plain": [
       "<Figure size 2160x1440 with 1 Axes>"
      ]
     },
     "metadata": {},
     "output_type": "display_data"
    },
    {
     "data": {
      "image/png": "[encoded data removed]",
      "text/plain": [
       "<Figure size 2160x1440 with 1 Axes>"
      ]
     },
     "metadata": {},
     "output_type": "display_data"
    },
    {
     "name": "stdout",
     "output_type": "stream",
     "text": [
      "Saving figure...\n",
      "Index: 0 data: [0.8223826402697328] label: Overall Accuracy Scores ri: 4 loc: m-\n",
      "Index: 1 data: [0.8486861659239341] label: Mean Accuracy Scores ri: 4 loc: m-\n",
      "Index: 2 data: [0.47586041779768745] label: Mean IoU Scores ri: 0 loc: b-\n",
      "Index: 3 data: [0.7160318701961599] label: Frequency Weighted Accuracy Scores ri: 6 loc: k-\n",
      "\n",
      "-------------------- END SESSION - 2018-09-01 15:48 -------------------------\n",
      "\n"
     ]
    }
   ],
   "source": [
    "# main process\n",
    "delimiter = \"/\"\n",
    "fp_resume = readResume()\n",
    "\n",
    "# current painting\n",
    "current_painting = fp_resume.split(\"/\")\n",
    "current_painting = current_painting[len(current_painting) - 1].rstrip() # rstrip() for removing white spaces and new line instances\n",
    "\n",
    "# paintings_path\n",
    "paintings_path = fp_resume.split(\"/\")\n",
    "paintings_path.remove(paintings_path[len(paintings_path) - 1])\n",
    "paintings_path = delimiter.join(paintings_path)\n",
    "\n",
    "# labels_path\n",
    "labels_path = fp_resume.split(\"/\")\n",
    "labels_path.remove(labels_path[len(labels_path) - 1])\n",
    "labels_path.remove(labels_path[len(labels_path) - 1])\n",
    "labels_path.append(\"SegmentationClassPNG\")\n",
    "labels_path = delimiter.join(labels_path)\n",
    "\n",
    "paintings = getPaintings(paintings_path)\n",
    "# print(paintings)\n",
    "\n",
    "loop(paintings_path, labels_path, paintings, current_painting)"
   ]
  },
  {
   "cell_type": "code",
   "execution_count": null,
   "metadata": {},
   "outputs": [],
   "source": []
  }
 ],
 "metadata": {
  "kernelspec": {
   "display_name": "Python 3",
   "language": "python",
   "name": "python3"
  },
  "language_info": {
   "codemirror_mode": {
    "name": "ipython",
    "version": 3
   },
   "file_extension": ".py",
   "mimetype": "text/x-python",
   "name": "python",
   "nbconvert_exporter": "python",
   "pygments_lexer": "ipython3",
   "version": "3.6.5"
  }
 },
 "nbformat": 4,
 "nbformat_minor": 2
}
