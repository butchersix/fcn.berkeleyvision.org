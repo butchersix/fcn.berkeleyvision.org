{
 "cells": [
  {
   "cell_type": "markdown",
   "metadata": {},
   "source": [
    "# THESIS NOTEBOOK - infer.py"
   ]
  },
  {
   "cell_type": "markdown",
   "metadata": {},
   "source": [
    "### Libraries are imported here:"
   ]
  },
  {
   "cell_type": "code",
   "execution_count": 49,
   "metadata": {},
   "outputs": [],
   "source": [
    "import numpy as np\n",
    "from PIL import Image\n",
    "\n",
    "import caffe\n",
    "import vis\n",
    "\n",
    "# own libraries\n",
    "import colorgram\n",
    "import os\n",
    "from os import listdir\n",
    "from os.path import isfile, join\n",
    "from pathlib import Path\n",
    "import random\n",
    "import shutil\n",
    "import time\n",
    "import datetime\n",
    "import math\n",
    "import sys\n",
    "\n",
    "import score\n",
    "import voc_layers"
   ]
  },
  {
   "cell_type": "markdown",
   "metadata": {},
   "source": [
    "### Constant and global variables:"
   ]
  },
  {
   "cell_type": "code",
   "execution_count": 50,
   "metadata": {},
   "outputs": [],
   "source": [
    "# own code - Jasper\n",
    "PRINT_SECONDS = 0.2\n",
    "REVIEW_SECONDS = 5\n",
    "REST_SECONDS = 10\n",
    "ERROR_ABOVE = \"Image {height, width} has above 1000 pixels\"\n",
    "PASS_BELOW = \"Image {height, width} has below 1000 pixels\"\n",
    "OUTPUT_FOLDER = \"output_score\" # no slashes both first and last\n",
    "OUTPUT_FOLDER_VALIDATION = \"output_validate\"\n",
    "dm = \"\" # global dimensions string\n",
    "JPG_FILETYPE = \".jpg\"\n",
    "PNG_FILETYPE = \".png\"\n",
    "loss = 0\n",
    "over_acc_scores = []\n",
    "mean_acc_scores = []\n",
    "iu_scores = []\n",
    "freq_scores = []\n",
    "session_count = 0"
   ]
  },
  {
   "cell_type": "markdown",
   "metadata": {},
   "source": [
    "### Function section here:"
   ]
  },
  {
   "cell_type": "markdown",
   "metadata": {},
   "source": [
    "#### trackSession"
   ]
  },
  {
   "cell_type": "code",
   "execution_count": 51,
   "metadata": {},
   "outputs": [],
   "source": [
    "def trackSession():\n",
    "    global session_count\n",
    "    if session_count == 0:\n",
    "        session_count += 1\n",
    "        return True\n",
    "    else:\n",
    "        return False\n",
    "    return False"
   ]
  },
  {
   "cell_type": "markdown",
   "metadata": {},
   "source": [
    "#### setSession"
   ]
  },
  {
   "cell_type": "code",
   "execution_count": 52,
   "metadata": {},
   "outputs": [],
   "source": [
    "def setSession(file, flag=True):\n",
    "    now = datetime.datetime.now()\n",
    "    if flag:\n",
    "        file.write(\"\\n-------------------- SESSION - {} -------------------------\\n\".format(now.strftime(\"%Y-%m-%d %H:%M\")))\n",
    "    else:\n",
    "        file.write(\"-------------------- SESSION - {} -------------------------\\n\".format(now.strftime(\"%Y-%m-%d %H:%M\")))"
   ]
  },
  {
   "cell_type": "markdown",
   "metadata": {},
   "source": [
    "#### endSession"
   ]
  },
  {
   "cell_type": "code",
   "execution_count": 53,
   "metadata": {},
   "outputs": [],
   "source": [
    "def endSession(flag=True):\n",
    "    now = datetime.datetime.now()\n",
    "    if flag:\n",
    "        return \"\\n-------------------- END SESSION - {} -------------------------\\n\".format(now.strftime(\"%Y-%m-%d %H:%M\"))\n",
    "    else:\n",
    "        return \"-------------------- END SESSION - {} -------------------------\\n\".format(now.strftime(\"%Y-%m-%d %H:%M\"))\n",
    "    return \"\""
   ]
  },
  {
   "cell_type": "markdown",
   "metadata": {},
   "source": [
    "#### delayPrint"
   ]
  },
  {
   "cell_type": "code",
   "execution_count": 54,
   "metadata": {},
   "outputs": [],
   "source": [
    "def delayPrint(string, seconds): # n seconds delay printing\n",
    "    time.sleep(seconds)\n",
    "    exportLogs(string)\n",
    "    print(string)"
   ]
  },
  {
   "cell_type": "markdown",
   "metadata": {},
   "source": [
    "#### getPaintings"
   ]
  },
  {
   "cell_type": "code",
   "execution_count": 55,
   "metadata": {},
   "outputs": [],
   "source": [
    "def getPaintings(path):\n",
    "    paintings = [f.split(JPG_FILETYPE)[0] for f in listdir(path) if isfile(join(path, f))] # splits only for .jpg images\n",
    "    paintings.sort()\n",
    "    return paintings"
   ]
  },
  {
   "cell_type": "markdown",
   "metadata": {},
   "source": [
    "#### getLabels"
   ]
  },
  {
   "cell_type": "code",
   "execution_count": 56,
   "metadata": {},
   "outputs": [],
   "source": [
    "def getLabels(path):\n",
    "    paintings = [f.split(PNG_FILETYPE)[0] for f in listdir(path) if isfile(join(path, f))] # splits only for .png images\n",
    "    paintings.sort()\n",
    "    return paintings"
   ]
  },
  {
   "cell_type": "markdown",
   "metadata": {},
   "source": [
    "#### exportLogs"
   ]
  },
  {
   "cell_type": "code",
   "execution_count": 57,
   "metadata": {},
   "outputs": [],
   "source": [
    "def exportLogs(logs, f=\"demo/logs.log\"):\n",
    "    logs += \"\\n\"\n",
    "    if(isfile(f)):\n",
    "        file = open(f, \"a\")\n",
    "        if trackSession():\n",
    "            setSession(file)\n",
    "        file.write(logs)\n",
    "        file.close()\n",
    "    else:\n",
    "        print(\"Log file does not exist!\")\n",
    "        print(\"Creating {} file...\".format(f))\n",
    "        file = open(f, \"a+\")\n",
    "        if trackSession():\n",
    "            setSession(file)\n",
    "        file.write(logs)\n",
    "        file.close()"
   ]
  },
  {
   "cell_type": "markdown",
   "metadata": {},
   "source": [
    "#### createCurrentLog"
   ]
  },
  {
   "cell_type": "code",
   "execution_count": 71,
   "metadata": {},
   "outputs": [],
   "source": [
    "def createCurrentLog(fp, output_folder=OUTPUT_FOLDER):\n",
    "    filepath = fp.split(\"/\")\n",
    "    f = \"demo/{}/{}.log\".format(output_folder, filepath[len(filepath) - 1].split(JPG_FILETYPE)[0])\n",
    "    if(isfile(f)):\n",
    "        delayPrint(\"Resuming {} file\".format(f), PRINT_SECONDS)\n",
    "        file = open(f, \"w\")\n",
    "        setSession(file, False)\n",
    "        file.close()\n",
    "    else:\n",
    "        print(\"{} log file does not exist!\".format(f))\n",
    "        print(\"Creating {} file...\".format(f))\n",
    "        file = open(f, \"w+\")\n",
    "        setSession(file, False)\n",
    "        file.close()"
   ]
  },
  {
   "cell_type": "markdown",
   "metadata": {},
   "source": [
    "#### readResume"
   ]
  },
  {
   "cell_type": "code",
   "execution_count": 59,
   "metadata": {},
   "outputs": [],
   "source": [
    "def readResume(f=\"demo/resume.txt\"):\n",
    "    fp_resume = \"\"\n",
    "    delayPrint(\"Checking {} file...\".format(f), PRINT_SECONDS)\n",
    "    if(isfile(f)):\n",
    "        file = open(f, \"r\")\n",
    "        delayPrint(\"Reading file...\", PRINT_SECONDS)\n",
    "        fp_resume = file.read()\n",
    "        delayPrint(\"Last segmented image: {}\".format(fp_resume.rstrip()), PRINT_SECONDS)\n",
    "        delayPrint(\"Closing file...\", PRINT_SECONDS)\n",
    "        file.close()\n",
    "    else:\n",
    "        delayPrint(\"File does not exist!\", PRINT_SECONDS)\n",
    "    return fp_resume"
   ]
  },
  {
   "cell_type": "markdown",
   "metadata": {},
   "source": [
    "#### writeResume"
   ]
  },
  {
   "cell_type": "code",
   "execution_count": 60,
   "metadata": {},
   "outputs": [],
   "source": [
    "def writeResume(current_painting_path, f=\"demo/resume.txt\"):\n",
    "    delayPrint(\"Checking {} file...\".format(f), PRINT_SECONDS)\n",
    "    if(isfile(f)):\n",
    "        file = open(f, \"w+\")\n",
    "        delayPrint(\"Saving last segmented image path...\", PRINT_SECONDS)\n",
    "        delayPrint(\"Writing file...\", PRINT_SECONDS)\n",
    "        file.write(current_painting_path)\n",
    "        delayPrint(\"Closing file...\", PRINT_SECONDS)\n",
    "        file.close()\n",
    "    else:\n",
    "        delayPrint(\"File does not exist!\", PRINT_SECONDS)"
   ]
  },
  {
   "cell_type": "markdown",
   "metadata": {},
   "source": [
    "#### writeErrorFile"
   ]
  },
  {
   "cell_type": "code",
   "execution_count": 61,
   "metadata": {},
   "outputs": [],
   "source": [
    "def writeErrorFile(current_painting_path, error=\"\", f=\"demo/error.log\"):\n",
    "    delayPrint(\"Checking {} file...\".format(f), PRINT_SECONDS)\n",
    "    if(isfile(f)):\n",
    "        file = open(f, \"a\")\n",
    "        delayPrint(\"Writing error file...\", PRINT_SECONDS)\n",
    "        file.write(\"{} - {}\\n\".format(current_painting_path, error))\n",
    "        delayPrint(\"Closing error file...\", PRINT_SECONDS)\n",
    "        file.close()\n",
    "    else:\n",
    "        delayPrint(\"{} log file does not exist!\".format(f), PRINT_SECONDS)\n",
    "        delayPrint(\"Creating {} file...\".format(f), PRINT_SECONDS)\n",
    "        delayPrint(\"Writing error file...\", PRINT_SECONDS)\n",
    "        file = open(f, \"a+\")\n",
    "        file.write(\"{} - {}\\n\".format(current_painting_path, error))\n",
    "        delayPrint(\"Closing error file...\", PRINT_SECONDS)\n",
    "        file.close()"
   ]
  },
  {
   "cell_type": "markdown",
   "metadata": {},
   "source": [
    "#### reshapeInputLayer"
   ]
  },
  {
   "cell_type": "code",
   "execution_count": 62,
   "metadata": {},
   "outputs": [],
   "source": [
    "def reshapeInputLayer(img, LINE_NUMBER=7, f=\"voc-fcn8s/test.prototxt\"):\n",
    "    delayPrint(\"Checking {} file...\".format(f), PRINT_SECONDS)\n",
    "    # LINE_NUMBER = 7\n",
    "    width, height = img.size\n",
    "    if(isfile(f)):\n",
    "        with open(f, \"r\") as file:\n",
    "            delayPrint(\"Reading file...\", PRINT_SECONDS)\n",
    "            data = file.readlines()\n",
    "            delayPrint(\"Reshaping input layer...\", PRINT_SECONDS)\n",
    "            data[LINE_NUMBER] = \"    shape { dim: 1 dim: 3 dim: %s dim: %s }\\n\"%(height, width)\n",
    "            delayPrint(data[LINE_NUMBER], PRINT_SECONDS)\n",
    "        with open(f, \"w+\") as file:\n",
    "            delayPrint(\"Writing file...\", PRINT_SECONDS)\n",
    "            file.writelines(data)\n",
    "        delayPrint(\"Closing file...\", PRINT_SECONDS)\n",
    "        file.close()\n",
    "    else:\n",
    "        delayPrint(\"File does not exist!\", PRINT_SECONDS)"
   ]
  },
  {
   "cell_type": "markdown",
   "metadata": {},
   "source": [
    "#### reshapeLabelLayer"
   ]
  },
  {
   "cell_type": "code",
   "execution_count": 63,
   "metadata": {},
   "outputs": [],
   "source": [
    "def reshapeLabelLayer(img, LINE_NUMBER=7, f=\"voc-fcn8s/test.prototxt\"):\n",
    "    delayPrint(\"Checking {} file...\".format(f), PRINT_SECONDS)\n",
    "    # LINE_NUMBER = 7\n",
    "    width, height = img.size\n",
    "    if(isfile(f)):\n",
    "        with open(f, \"r\") as file:\n",
    "            delayPrint(\"Reading file...\", PRINT_SECONDS)\n",
    "            data = file.readlines()\n",
    "            delayPrint(\"Reshaping label layer...\", PRINT_SECONDS)\n",
    "            data[LINE_NUMBER] = \"    shape { dim: 1 dim: %s dim: %s }\\n\"%(height, width)\n",
    "            delayPrint(data[LINE_NUMBER], PRINT_SECONDS)\n",
    "        with open(f, \"w+\") as file:\n",
    "            delayPrint(\"Writing file...\", PRINT_SECONDS)\n",
    "            file.writelines(data)\n",
    "        delayPrint(\"Closing file...\", PRINT_SECONDS)\n",
    "        file.close()\n",
    "    else:\n",
    "        delayPrint(\"File does not exist!\", PRINT_SECONDS)"
   ]
  },
  {
   "cell_type": "markdown",
   "metadata": {},
   "source": [
    "#### checkImageSize1000000"
   ]
  },
  {
   "cell_type": "code",
   "execution_count": 64,
   "metadata": {},
   "outputs": [],
   "source": [
    "def checkImageSize1000000(img):\n",
    "    delayPrint(\"Checking if image {width, height} has 1,000,000 and above pixels...\", PRINT_SECONDS)\n",
    "    width, height = img.size\n",
    "    dimensions = \" - ({} x {})\".format(height, width)\n",
    "    global dm\n",
    "    dm = dimensions\n",
    "    ONE_MIL = 1000000\n",
    "    delayPrint(\"Images (H x W) has dimensions {} x {}\".format(height, width), PRINT_SECONDS)\n",
    "    if((width * height) >= ONE_MIL):\n",
    "        delayPrint(ERROR_ABOVE+dimensions, PRINT_SECONDS)\n",
    "        return True\n",
    "    else:\n",
    "        delayPrint(PASS_BELOW+dimensions, PRINT_SECONDS)\n",
    "        return False\n",
    "    return False"
   ]
  },
  {
   "cell_type": "markdown",
   "metadata": {},
   "source": [
    "#### validationResultsLog"
   ]
  },
  {
   "cell_type": "code",
   "execution_count": 65,
   "metadata": {},
   "outputs": [],
   "source": [
    "def validationResultsLog(current_painting_path, results, f=\"demo/results.log\"):\n",
    "    global loss\n",
    "    global over_acc_scores\n",
    "    global mean_acc_scores\n",
    "    global iu_scores\n",
    "    global freq_scores\n",
    "    loss += results['loss']\n",
    "    over_acc_scores.append(results['over_acc'])\n",
    "    mean_acc_scores.append(results['mean_acc'])\n",
    "    iu_scores.append(results['iu'])\n",
    "    freq_scores.append(results['freq'])\n",
    "    delayPrint(\"Checking {} file...\".format(f), PRINT_SECONDS)\n",
    "    if(isfile(f)):\n",
    "        file = open(f, \"a\")\n",
    "        delayPrint(\"Writing results file...\", PRINT_SECONDS)\n",
    "        file.write(\"{}\\n\".format(current_painting_path))\n",
    "        file.write(\"\\t\\tLoss: {}\\n\".format(results['loss']))\n",
    "        file.write(\"\\t\\tOverall accuracy: {}\\n\".format(results['over_acc']))\n",
    "        file.write(\"\\t\\tMean accuracy: {}\\n\".format(results['mean_acc']))\n",
    "        file.write(\"\\t\\tMean IU: {}\\n\".format(results['iu']))\n",
    "        file.write(\"\\t\\tFwavacc accuracy: {}\\n\".format(results['freq']))\n",
    "        file.write(\"\\n\")\n",
    "        delayPrint(\"Closing results file...\", PRINT_SECONDS)\n",
    "        file.close()\n",
    "    else:\n",
    "        delayPrint(\"{} log file does not exist!\".format(f), PRINT_SECONDS)\n",
    "        delayPrint(\"Creating {} file...\".format(f), PRINT_SECONDS)\n",
    "        delayPrint(\"Writing results file...\", PRINT_SECONDS)\n",
    "        file = open(f, \"a+\")\n",
    "        file.write(\"{}\\n\".format(current_painting_path))\n",
    "        file.write(\"\\t\\tLoss: {}\\n\".format(results['loss']))\n",
    "        file.write(\"\\t\\tOverall accuracy: {}\\n\".format(results['over_acc']))\n",
    "        file.write(\"\\t\\tMean accuracy: {}\\n\".format(results['mean_acc']))\n",
    "        file.write(\"\\t\\tMean IU: {}\\n\".format(results['iu']))\n",
    "        file.write(\"\\t\\tFwavacc accuracy: {}\\n\".format(results['freq']))\n",
    "        file.write(\"\\n\")\n",
    "        delayPrint(\"Closing results file...\", PRINT_SECONDS)\n",
    "        file.close()"
   ]
  },
  {
   "cell_type": "markdown",
   "metadata": {},
   "source": [
    "#### computeMeanScore"
   ]
  },
  {
   "cell_type": "code",
   "execution_count": 66,
   "metadata": {},
   "outputs": [],
   "source": [
    "def computeMeanScore(f=\"demo/results.log\"):\n",
    "    global loss\n",
    "    global over_acc_scores\n",
    "    global mean_acc_scores\n",
    "    global iu_scores\n",
    "    global freq_scores\n",
    "    over_acc_scores = np.mean(over_acc_scores)\n",
    "    mean_acc_scores = np.mean(mean_acc_scores)\n",
    "    iu_scores = np.mean(iu_scores)\n",
    "    freq_scores = np.mean(freq_scores)\n",
    "    delayPrint(\"Checking {} file...\".format(f), PRINT_SECONDS)\n",
    "    if(isfile(f)):\n",
    "        file = open(f, \"a\")\n",
    "        delayPrint(\"Writing mean results file...\", PRINT_SECONDS)\n",
    "        file.write(\"Mean Results:\\n\")\n",
    "        file.write(\"\\t\\tLoss: {}\\n\".format(loss))\n",
    "        file.write(\"\\t\\tOverall accuracy (mean): {}\\n\".format(over_acc_scores))\n",
    "        file.write(\"\\t\\tMean accuracy (mean): {}\\n\".format(mean_acc_scores))\n",
    "        file.write(\"\\t\\tMean IU (mean): {}\\n\".format(iu_scores))\n",
    "        file.write(\"\\t\\tFwavacc accuracy (mean): {}\\n\".format(freq_scores))\n",
    "        delayPrint(\"Closing mean results file...\", PRINT_SECONDS)\n",
    "        file.close()\n",
    "    else:\n",
    "        delayPrint(\"{} log file does not exist!\".format(f), PRINT_SECONDS)\n",
    "        delayPrint(\"Creating {} file...\".format(f), PRINT_SECONDS)\n",
    "        delayPrint(\"Writing mean results file...\", PRINT_SECONDS)\n",
    "        file = open(f, \"a+\")\n",
    "        file.write(\"Mean Results:\\n\")\n",
    "        file.write(\"\\t\\tLoss: {}\\n\".format(loss))\n",
    "        file.write(\"\\t\\tOverall accuracy (mean): {}\\n\".format(over_acc_scores))\n",
    "        file.write(\"\\t\\tMean accuracy (mean): {}\\n\".format(mean_acc_scores))\n",
    "        file.write(\"\\t\\tMean IU (mean): {}\\n\".format(iu_scores))\n",
    "        file.write(\"\\t\\tFwavacc accuracy (mean): {}\\n\".format(freq_scores))\n",
    "        delayPrint(\"Closing mean results file...\", PRINT_SECONDS)\n",
    "        file.close()\n",
    "    return {'loss_a' : loss, 'over_acc_m' : over_acc_scores, 'mean_acc_m' : mean_acc_scores, 'iu_m' : iu_scores, 'freq_m' : freq_scores}"
   ]
  },
  {
   "cell_type": "markdown",
   "metadata": {},
   "source": [
    "#### loop"
   ]
  },
  {
   "cell_type": "code",
   "execution_count": 67,
   "metadata": {},
   "outputs": [],
   "source": [
    "def loop(paintings_path, labels_path, paintings, current_painting):\n",
    "    n = input(\"Enter number of images to segment: \")\n",
    "    index = paintings.index(current_painting.split(JPG_FILETYPE)[0])\n",
    "    end = len(paintings) - 1\n",
    "    last = index+int(n)\n",
    "    if(index != 0):\n",
    "        if(index == end):\n",
    "            last = end\n",
    "        else:\n",
    "            index += 1\n",
    "            last += 1\n",
    "    delayPrint(\"Choose one of the following:\\n\", PRINT_SECONDS)\n",
    "    delayPrint(\"[1] Segmentation\\t\\t[2] Validation\", PRINT_SECONDS)\n",
    "    option = int(input(\"Your answer [1/2]: \"))\n",
    "    while option != 1 and option != 2:\n",
    "        option = int(input(\"Your answer [1/2]: \"))\n",
    "    for x in range(index, last):\n",
    "        current_painting_path = paintings_path + \"/\" + paintings[x] + JPG_FILETYPE\n",
    "        current_label_path = labels_path + \"/\" + paintings[x] + PNG_FILETYPE\n",
    "        delayPrint(current_painting_path, PRINT_SECONDS)\n",
    "        createCurrentLog(paintings[x], OUTPUT_FOLDER) if option is 1 else createCurrentLog(paintings[x], OUTPUT_FOLDER_VALIDATION)\n",
    "        start_time = datetime.datetime.now()\n",
    "        delayPrint(\"---------- Start Time - {:s} ----------\".format(str(start_time)), PRINT_SECONDS)\n",
    "        delayPrint(\"Index of painting: {}\".format(x), PRINT_SECONDS)\n",
    "        delayPrint(\"Last expected painting index: {}\".format(last - 1), PRINT_SECONDS)\n",
    "        delayPrint(\"\", REVIEW_SECONDS)\n",
    "        try:\n",
    "            if option == 1:\n",
    "                segmentation(current_painting_path, paintings[x])\n",
    "            else:\n",
    "                results = validation(current_painting_path, current_label_path, paintings[x])\n",
    "                validationResultsLog(current_painting_path, results)\n",
    "        except:\n",
    "            error = sys.exc_info()[0]\n",
    "            print(\"Error {} found! Writing error log.\".format(error))\n",
    "            writeErrorFile(current_painting_path, error)\n",
    "        end_time = datetime.datetime.now()\n",
    "        delayPrint(\"---------- End Time - {:s} ----------\".format(str(end_time)), PRINT_SECONDS)\n",
    "        elapsed_time = end_time - start_time\n",
    "        delayPrint(\"Elapsed time is: {:s}\".format(str(elapsed_time)), REVIEW_SECONDS)\n",
    "        delayPrint(\"Index of painting: {}\".format(x), PRINT_SECONDS)\n",
    "        delayPrint(\"Last expected painting index: {}\".format(last - 1), PRINT_SECONDS)\n",
    "        delayPrint(\"\", REVIEW_SECONDS)\n",
    "        if int(n) > 1 and x != last - 1: # rest (60 seconds) if images are greater to 1 and no rest if last image\n",
    "            time.sleep(REST_SECONDS)\n",
    "        # if x == last - 1:\n",
    "        writeResume(current_painting_path)\n",
    "    if option is 2:\n",
    "        mean_scores = computeMeanScore()\n",
    "        delayPrint(\"Loss: {}\".format(mean_scores[\"loss_a\"]), PRINT_SECONDS)\n",
    "        delayPrint(\"Overall Accuracy (mean): {}\".format(mean_scores[\"over_acc_m\"]), PRINT_SECONDS)\n",
    "        delayPrint(\"Mean Accuracy (mean): {}\".format(mean_scores[\"mean_acc_m\"]), PRINT_SECONDS)\n",
    "        delayPrint(\"Mean IU (mean): {}\".format(mean_scores[\"iu_m\"]), PRINT_SECONDS)\n",
    "        delayPrint(\"Fwavacc Accuracy (mean): {}\".format(mean_scores[\"freq_m\"]), PRINT_SECONDS)\n",
    "    delayPrint(endSession(), PRINT_SECONDS)"
   ]
  },
  {
   "cell_type": "markdown",
   "metadata": {},
   "source": [
    "#### segmentation"
   ]
  },
  {
   "cell_type": "code",
   "execution_count": 68,
   "metadata": {},
   "outputs": [],
   "source": [
    "def segmentation(path, current_painting):\n",
    "    # the demo image is \"2007_000129\" from PASCAL VOC\n",
    "\n",
    "    # load image, switch to BGR, subtract mean, and make dims C x H x W for Caffe\n",
    "    # im = Image.open('demo/image.jpg')\n",
    "    # path = \"demo/Trials/twice.jpg\"\n",
    "    im = Image.open(path)\n",
    "    if checkImageSize1000000(im):\n",
    "        writeErrorFile(path, ERROR_ABOVE+dm)\n",
    "    else:\n",
    "        # reshape input layer from dimensions of image H x W\n",
    "        reshapeInputLayer(im, 7)\n",
    "        delayPrint(\"Starting to segment the image -- {} -- in {} seconds\".format(current_painting, REVIEW_SECONDS), PRINT_SECONDS)\n",
    "        # delay for 5 seconds for reviewing of image name\n",
    "        time.sleep(REVIEW_SECONDS)\n",
    "        in_ = np.array(im, dtype=np.float32)\n",
    "        # print(in_)\n",
    "        in_ = in_[:,:,::-1]\n",
    "        # time.sleep(120)\n",
    "        in_ -= np.array((104.00698793,116.66876762,122.67891434))\n",
    "        in_ = in_.transpose((2,0,1))\n",
    "\n",
    "        # Own code:\n",
    "        # Set mode to CPU since GPU can't handle much memory\n",
    "        caffe.set_mode_cpu()\n",
    "        # load net\n",
    "        net = caffe.Net('voc-fcn8s/test.prototxt', 'voc-fcn8s/fcn8s-heavy-pascal.caffemodel', caffe.TEST)\n",
    "        # shape for input (data blob is N x C x H x W), set data\n",
    "        net.blobs['data'].reshape(1, *in_.shape)\n",
    "        net.blobs['data'].data[...] = in_\n",
    "\n",
    "        # print(\"Stopping...\")\n",
    "        # return\n",
    "        \n",
    "\n",
    "        # run net and take argmax for prediction\n",
    "        net.forward()\n",
    "        out = net.blobs['score'].data[0].argmax(axis=0)\n",
    "\n",
    "        # visualize segmentation in PASCAL VOC colors\n",
    "        voc_palette = vis.make_palette(21)\n",
    "        out_im = Image.fromarray(vis.color_seg(out, voc_palette))\n",
    "        # image_pixels = \"\"\n",
    "        # ycount_gt = 0\n",
    "        # ycount_out = 0\n",
    "        # for y in gt_:\n",
    "        #     for x in y:\n",
    "        #         # image_pixels += str(x)\n",
    "        #         if x == 4:\n",
    "        #             ycount_gt += 1\n",
    "        #     # image_pixels += \"\\n\"\n",
    "        # for y in out_:\n",
    "        #     for x in y:\n",
    "        #         # image_pixels += str(x)\n",
    "        #         if x == 4:\n",
    "        #             ycount_out += 1\n",
    "            # image_pixels += \"\\n\"\n",
    "        # print(\"Accuracy of 4: {:.5f}\".format(ycount_out/ycount_gt))\n",
    "        # print(ycount)\n",
    "        # # print(image_pixels)\n",
    "        # with open(\"test.txt\", \"a+\") as file:\n",
    "        #     file.writelines(image_pixels)\n",
    "        # out_im.save('demo/output.png')\n",
    "        out_im.save('demo/%s/output_%s.png'%(OUTPUT_FOLDER, current_painting.split(JPG_FILETYPE)[0]))\n",
    "        logfile = \"demo/\"+OUTPUT_FOLDER+\"/\"+current_painting+\".log\"\n",
    "        masked_im = Image.fromarray(vis.vis_seg(im, out, voc_palette, 0.5, logfile))\n",
    "\n",
    "        # print extracted colors of original image\n",
    "        vis.extractColors(path, logfile)\n",
    "\n",
    "        # masked_im.save('demo/visualization.jpg')\n",
    "        masked_im.save('demo/%s/output_%s.jpg'%(OUTPUT_FOLDER, current_painting))"
   ]
  },
  {
   "cell_type": "markdown",
   "metadata": {},
   "source": [
    "#### valdation"
   ]
  },
  {
   "cell_type": "code",
   "execution_count": 69,
   "metadata": {},
   "outputs": [],
   "source": [
    "def validation(painting_path, label_path, current_painting):\n",
    "    im = Image.open(painting_path)\n",
    "    gt = Image.open(label_path)\n",
    "    gt = gt.resize(gt.size, Image.ANTIALIAS)\n",
    "    if checkImageSize1000000(im):\n",
    "        writeErrorFile(painting_path, ERROR_ABOVE+dm)\n",
    "    else:\n",
    "        # reshape input layer from dimensions of image H x W\n",
    "        reshapeInputLayer(im, 7)\n",
    "        reshapeLabelLayer(gt, 15)\n",
    "        delayPrint(\"Starting to validate the image -- {} -- in {} seconds\".format(current_painting, REVIEW_SECONDS), PRINT_SECONDS)\n",
    "        # delay for 5 seconds for reviewing of image name\n",
    "        time.sleep(REVIEW_SECONDS)\n",
    "        in_ = np.array(im, dtype=np.float32)\n",
    "\n",
    "        # try ground truth\n",
    "        gt_ = np.array(gt, dtype=np.float32)\n",
    "        # gt_ = gt_[np.newaxis, ...]\n",
    "        # print(in_)\n",
    "        in_ = in_[:,:,::-1]\n",
    "        # print(in_)\n",
    "        # print(gt_)\n",
    "        # gt_ = gt_[:,:,::-1]\n",
    "        # time.sleep(120)\n",
    "        in_ -= np.array((104.00698793,116.66876762,122.67891434))\n",
    "        in_ = in_.transpose((2,0,1))\n",
    "\n",
    "        # gt_ -= np.array((104.00698793,116.66876762,122.67891434))\n",
    "        # gt_ = gt_.transpose((2,0,1))\n",
    "\n",
    "        # Own code:\n",
    "        # Set mode to CPU since GPU can't handle much memory\n",
    "        caffe.set_mode_cpu()\n",
    "        # load net\n",
    "        net = caffe.Net('voc-fcn8s/test.prototxt', 'voc-fcn8s/fcn8s-heavy-pascal.caffemodel', caffe.TEST)\n",
    "        # shape for input (data blob is N x C x H x W), set data\n",
    "        # net.blobs['label'].data = gt_ \n",
    "        \n",
    "        # print(net.blobs)\n",
    "        \n",
    "        net.blobs['data'].reshape(1, *in_.shape)\n",
    "        net.blobs['data'].data[...] = in_\n",
    "        # net.blobs['label'].reshape(1, *gt_.shape)\n",
    "        net.blobs['label'].data[...] = gt_\n",
    "\n",
    "        # print(\"Stopping...\")\n",
    "        # return\n",
    "        \n",
    "\n",
    "        # run net and take argmax for prediction\n",
    "        net.forward()\n",
    "        \n",
    "        out = net.blobs['score'].data[0].argmax(axis=0)\n",
    "        voc_palette = vis.make_palette(21)\n",
    "        out_im = Image.fromarray(vis.color_seg(out, voc_palette))\n",
    "        out_im.save('demo/%s/output_%s.png'%(OUTPUT_FOLDER_VALIDATION, current_painting.split(JPG_FILETYPE)[0]))\n",
    "        logfile = \"demo/\"+OUTPUT_FOLDER_VALIDATION+\"/\"+current_painting+\".log\"\n",
    "        masked_im = Image.fromarray(vis.vis_seg(im, out, voc_palette, 0.5, logfile))\n",
    "\n",
    "        # print extracted colors of original image\n",
    "        vis.extractColors(painting_path, logfile)\n",
    "\n",
    "        # masked_im.save('demo/visualization.jpg')\n",
    "        masked_im.save('demo/%s/output_%s.jpg'%(OUTPUT_FOLDER_VALIDATION, current_painting))\n",
    "        # out_ = np.array(out, dtype=np.uint8)\n",
    "        # delayPrint(\"Ground truth image array: {}\".format(gt_.flatten().shape))\n",
    "        # print(\"Segmentation result image array: {}\".format(out_.flatten().shape))\n",
    "        \n",
    "        # check accuracy\n",
    "        # val = np.loadtxt('demo/valid.txt', dtype=str)\n",
    "        val = np.array([1], dtype=np.uint8)\n",
    "\n",
    "        # reshaping blobs to 1-dimension\n",
    "        # net.blobs['data'].reshape(1,)\n",
    "        # net.blobs['label'].reshape(1,)\n",
    "        return score.do_seg_tests(net, 1, False, val, layer='score', gt='label')"
   ]
  },
  {
   "cell_type": "markdown",
   "metadata": {},
   "source": [
    "### Main process here:"
   ]
  },
  {
   "cell_type": "code",
   "execution_count": 72,
   "metadata": {},
   "outputs": [
    {
     "name": "stdout",
     "output_type": "stream",
     "text": [
      "Checking demo/resume.txt file...\n",
      "Reading file...\n",
      "Last segmented image: demo/test/presentation_voc/JPEGImages/albert-bierstadt_bison-with-coyotes-in-the-background.jpg\n",
      "Closing file...\n",
      "Enter number of images to segment: 1\n",
      "Choose one of the following:\n",
      "\n",
      "[1] Segmentation\t\t[2] Validation\n",
      "Your answer [1/2]: 2\n",
      "demo/test/presentation_voc/JPEGImages/albert-bierstadt_bison-with-coyotes-in-the-background.jpg\n",
      "Resuming demo/output_validate/albert-bierstadt_bison-with-coyotes-in-the-background.log file\n",
      "---------- Start Time - 2018-08-31 14:12:52.220302 ----------\n",
      "Index of painting: 0\n",
      "Last expected painting index: 0\n",
      "\n",
      "Checking if image {width, height} has 1,000,000 and above pixels...\n",
      "Images (H x W) has dimensions 352 x 502\n",
      "Image {height, width} has below 1000 pixels - (352 x 502)\n",
      "Checking voc-fcn8s/test.prototxt file...\n",
      "Reading file...\n",
      "Reshaping input layer...\n",
      "    shape { dim: 1 dim: 3 dim: 352 dim: 502 }\n",
      "\n",
      "Writing file...\n",
      "Closing file...\n",
      "Checking voc-fcn8s/test.prototxt file...\n",
      "Reading file...\n",
      "Reshaping label layer...\n",
      "    shape { dim: 1 dim: 352 dim: 502 }\n",
      "\n",
      "Writing file...\n",
      "Closing file...\n",
      "Starting to validate the image -- albert-bierstadt_bison-with-coyotes-in-the-background -- in 5 seconds\n",
      "Number of pixels: 176704\n",
      "Extract Unique Pixel Classes:\n",
      "\n",
      "1. [0, 0, 0]\n",
      "2. [64, 0, 0]\n",
      "3. [64, 128, 0]\n",
      "4. [192, 0, 128]\n",
      "---------- Class Names - RGB Value ----------\n",
      "Class ID: 0\n",
      "Class Color: (0, 0, 0)\n",
      "Class Name: background\n",
      "Percentage of region: 73.071%\n",
      "\n",
      "\n",
      "Class ID: 8\n",
      "Class Color: (64, 0, 0)\n",
      "Class Name: cat\n",
      "Percentage of region: 0.389%\n",
      "\n",
      "\n",
      "Class ID: 10\n",
      "Class Color: (64, 128, 0)\n",
      "Class Name: cow\n",
      "Percentage of region: 22.607%\n",
      "\n",
      "\n",
      "Class ID: 13\n",
      "Class Color: (192, 0, 128)\n",
      "Class Name: horse\n",
      "Percentage of region: 3.933%\n",
      "\n",
      "\n",
      "---------- Colors Present In Image ----------\n",
      "\n",
      "RGB Color - HSV - Proportion - Hue Color: Rgb(r=97, g=68, b=73) - (349.6551724137931, 0.29896907216494845, 97) - 0.01245019920318725% - magenta\n",
      "RGB Color - HSV - Proportion - Hue Color: Rgb(r=83, g=82, b=89) - (248.5714285714286, 0.07865168539325842, 89) - 0.001131836291198841% - blue\n",
      "RGB Color - HSV - Proportion - Hue Color: Rgb(r=158, g=158, b=50) - (60.0, 0.6835443037974683, 158) - 35.08579319087287% - yellow\n",
      "RGB Color - HSV - Proportion - Hue Color: Rgb(r=59, g=57, b=71) - (248.5714285714286, 0.19718309859154928, 71) - 0.0005659181455994205% - blue\n",
      "RGB Color - HSV - Proportion - Hue Color: Rgb(r=104, g=161, b=66) - (96.0, 0.5900621118012422, 161) - 0.5342267294458529% - yellow\n",
      "RGB Color - HSV - Proportion - Hue Color: Rgb(r=197, g=183, b=76) - (53.05785123966942, 0.6142131979695431, 197) - 11.17235603042376% - red\n",
      "RGB Color - HSV - Proportion - Hue Color: Rgb(r=91, g=69, b=26) - (39.69230769230769, 0.7142857142857143, 91) - 0.7854943860919956% - red\n",
      "RGB Color - HSV - Proportion - Hue Color: Rgb(r=90, g=54, b=42) - (15.0, 0.5333333333333333, 90) - 0.3491714958348424% - red\n",
      "RGB Color - HSV - Proportion - Hue Color: Rgb(r=160, g=118, b=98) - (19.354838709677423, 0.3875, 160) - 0.001131836291198841% - red\n",
      "RGB Color - HSV - Proportion - Hue Color: Rgb(r=245, g=238, b=150) - (55.578947368421055, 0.3877551020408163, 245) - 0.036784679463962335% - red\n",
      "RGB Color - HSV - Proportion - Hue Color: Rgb(r=89, g=138, b=55) - (95.42168674698796, 0.6014492753623188, 138) - 0.06451466859833394% - yellow\n",
      "RGB Color - HSV - Proportion - Hue Color: Rgb(r=216, g=212, b=94) - (58.0327868852459, 0.5648148148148148, 216) - 24.05321894241217% - red\n",
      "RGB Color - HSV - Proportion - Hue Color: Rgb(r=34, g=22, b=26) - (340.0, 0.35294117647058826, 34) - 0.9015076059398769% - magenta\n",
      "RGB Color - HSV - Proportion - Hue Color: Rgb(r=123, g=101, b=46) - (42.85714285714286, 0.6260162601626016, 123) - 9.963554871423398% - red\n",
      "RGB Color - HSV - Proportion - Hue Color: Rgb(r=15, g=19, b=16) - (135.0, 0.21052631578947367, 19) - 0.3180459978268743% - green\n",
      "RGB Color - HSV - Proportion - Hue Color: Rgb(r=120, g=180, b=83) - (97.11340206185567, 0.5388888888888889, 180) - 0.06508058674393336% - yellow\n",
      "RGB Color - HSV - Proportion - Hue Color: Rgb(r=45, g=32, b=20) - (28.8, 0.5555555555555556, 45) - 16.17337468308584% - red\n",
      "RGB Color - HSV - Proportion - Hue Color: Rgb(r=149, g=127, b=137) - (332.7272727272727, 0.1476510067114094, 149) - 0.001131836291198841% - magenta\n",
      "RGB Color - HSV - Proportion - Hue Color: Rgb(r=208, g=206, b=41) - (59.2814371257485, 0.8028846153846154, 208) - 0.006225099601593625% - red\n",
      "RGB Color - HSV - Proportion - Hue Color: Rgb(r=18, g=18, b=24) - (240.0, 0.25, 24) - 0.4544322709163347% - blue\n",
      "RGB Color - HSV - Proportion - Hue Color: Rgb(r=80, g=53, b=58) - (348.88888888888886, 0.3375, 80) - 0.019807135095979717% - magenta\n",
      "\n",
      "\n",
      "---------- Hue Colors - Hue Proportions ----------\n",
      "\n",
      "Color\t -\t Color Proportion\t -\t No. of instances\n",
      "Red    \t -\t 62.541%\t\t\t -\t 9\n",
      "Yellow \t -\t 35.750%\t\t\t -\t 4\n",
      "Green \t -\t 0.318%\t\t\t -\t 1\n",
      "Cyan   \t -\t 0.000%\t\t\t -\t 0\n",
      "Blue   \t -\t 0.456%\t\t\t -\t 3\n",
      "Magenta\t -\t 0.935%\t\t\t -\t 4\n",
      "--------------------------------------------------\n",
      "Total number of colors: 21\n",
      "\n",
      "Ground truth: (176704,)\n",
      "Segmeted output: (176704,)\n",
      ">>>2018-08-31 14:13:36.103016 Iteration: 1 Loss: 53080.94921875\n",
      ">>>2018-08-31 14:13:36.303891 Iteration: 1 Overall accuracy: 0.956044398945646\n"
     ]
    },
    {
     "name": "stderr",
     "output_type": "stream",
     "text": [
      "/home/butchersix/fcn.berkeleyvision.org/score.py:115: RuntimeWarning: invalid value encountered in true_divide\n",
      "  mean_acc = np.diag(hist) / hist.sum(1)\n"
     ]
    },
    {
     "name": "stdout",
     "output_type": "stream",
     "text": [
      ">>>2018-08-31 14:13:36.507173 Iteration: 1 Mean Accuracy: 0.49793025852876227\n",
      ">>>2018-08-31 14:13:36.724853 Iteration: 1 Mean IU: 0.19220665570077705\n"
     ]
    },
    {
     "name": "stderr",
     "output_type": "stream",
     "text": [
      "/home/butchersix/fcn.berkeleyvision.org/score.py:119: RuntimeWarning: invalid value encountered in true_divide\n",
      "  iu = np.diag(hist) / (hist.sum(1) + hist.sum(0) - np.diag(hist))\n"
     ]
    },
    {
     "name": "stdout",
     "output_type": "stream",
     "text": [
      ">>>2018-08-31 14:13:36.926132 Iteration: 1 Fwavacc: 0.9226096098565758\n",
      "Checking demo/results.log file...\n",
      "Writing results file...\n",
      "Closing results file...\n",
      "---------- End Time - 2018-08-31 14:13:37.875380 ----------\n",
      "Elapsed time is: 0:00:45.655078\n",
      "Index of painting: 0\n",
      "Last expected painting index: 0\n",
      "\n",
      "Checking demo/resume.txt file...\n",
      "Saving last segmented image path...\n",
      "Writing file...\n",
      "Closing file...\n",
      "Checking demo/results.log file...\n",
      "Writing mean results file...\n",
      "Closing mean results file...\n",
      "Loss: 53080.94921875\n",
      "Overall Accuracy (mean): 0.956044398945646\n",
      "Mean Accuracy (mean): 0.49793025852876227\n",
      "Mean IU (mean): 0.19220665570077705\n",
      "Fwavacc Accuracy (mean): 0.9226096098565758\n",
      "\n",
      "-------------------- END SESSION - 2018-08-31 14:13 -------------------------\n",
      "\n"
     ]
    }
   ],
   "source": [
    "# main process\n",
    "delimiter = \"/\"\n",
    "fp_resume = readResume()\n",
    "\n",
    "# current painting\n",
    "current_painting = fp_resume.split(\"/\")\n",
    "current_painting = current_painting[len(current_painting) - 1].rstrip() # rstrip() for removing white spaces and new line instances\n",
    "\n",
    "# paintings_path\n",
    "paintings_path = fp_resume.split(\"/\")\n",
    "paintings_path.remove(paintings_path[len(paintings_path) - 1])\n",
    "paintings_path = delimiter.join(paintings_path)\n",
    "\n",
    "# labels_path\n",
    "labels_path = fp_resume.split(\"/\")\n",
    "labels_path.remove(labels_path[len(labels_path) - 1])\n",
    "labels_path.remove(labels_path[len(labels_path) - 1])\n",
    "labels_path.append(\"SegmentationClassPNG\")\n",
    "labels_path = delimiter.join(labels_path)\n",
    "\n",
    "paintings = getPaintings(paintings_path)\n",
    "# print(paintings)\n",
    "loop(paintings_path, labels_path, paintings, current_painting)"
   ]
  }
 ],
 "metadata": {
  "kernelspec": {
   "display_name": "Python 3",
   "language": "python",
   "name": "python3"
  },
  "language_info": {
   "codemirror_mode": {
    "name": "ipython",
    "version": 3
   },
   "file_extension": ".py",
   "mimetype": "text/x-python",
   "name": "python",
   "nbconvert_exporter": "python",
   "pygments_lexer": "ipython3",
   "version": "3.6.5"
  }
 },
 "nbformat": 4,
 "nbformat_minor": 2
}
