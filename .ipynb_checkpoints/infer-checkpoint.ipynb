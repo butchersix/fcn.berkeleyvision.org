{
 "cells": [
  {
   "cell_type": "markdown",
   "metadata": {},
   "source": [
    "# THESIS NOTEBOOK - infer.py"
   ]
  },
  {
   "cell_type": "markdown",
   "metadata": {},
   "source": [
    "### Libraries are imported here:"
   ]
  },
  {
   "cell_type": "code",
   "execution_count": 1,
   "metadata": {},
   "outputs": [],
   "source": [
    "import numpy as np\n",
    "import pandas as pd\n",
    "from PIL import Image\n",
    "\n",
    "import caffe\n",
    "import vis\n",
    "\n",
    "# own libraries\n",
    "import colorgram\n",
    "import os\n",
    "from os import listdir\n",
    "from os.path import isfile, join\n",
    "from pathlib import Path\n",
    "import random\n",
    "import shutil\n",
    "import time\n",
    "import datetime\n",
    "import math\n",
    "import sys\n",
    "import re\n",
    "\n",
    "import score\n",
    "import voc_layers\n",
    "\n",
    "# sklearn libraries\n",
    "from sklearn.metrics import classification_report\n",
    "from sklearn.metrics import confusion_matrix\n",
    "\n",
    "# matplot libraries\n",
    "import matplotlib.pyplot as plt\n",
    "\n",
    "# graphviz library - visualization of trees library\n",
    "import graphviz\n",
    "\n",
    "# ast library- used to convert string expressions to python expressions\n",
    "import ast\n",
    "\n",
    "# for bell sound\n",
    "import subprocess"
   ]
  },
  {
   "cell_type": "markdown",
   "metadata": {},
   "source": [
    "### Constant and global variables:"
   ]
  },
  {
   "cell_type": "code",
   "execution_count": 2,
   "metadata": {},
   "outputs": [],
   "source": [
    "# own code - Jasper\n",
    "PRINT_SECONDS = 0 # 0.2\n",
    "REVIEW_SECONDS = 0 # 5\n",
    "REST_SECONDS = 0 # 10\n",
    "ERROR_ABOVE = \"Image {height, width} has above 1000 pixels\"\n",
    "PASS_BELOW = \"Image {height, width} has below 1000 pixels\"\n",
    "OUTPUT_FOLDER = \"output_score\" # no slashes both first and last\n",
    "OUTPUT_FOLDER_VALIDATION = \"output_validate\"\n",
    "dm = \"\" # global dimensions string\n",
    "JPG_FILETYPE = \".jpg\"\n",
    "PNG_FILETYPE = \".png\"\n",
    "loss = 0\n",
    "over_acc_scores = []\n",
    "mean_acc_scores = []\n",
    "iu_scores = []\n",
    "freq_scores = []\n",
    "session_count = 0\n",
    "plot = 0 # initialize plot for global use\n",
    "n = 0 # initialize number of paintings for global use\n",
    "LIMIT_X = 4 # limit columns for figure\n",
    "labels = [] # labels for the confusion_matrix_board (x and y axis)\n",
    "figsize = (30, 20)"
   ]
  },
  {
   "cell_type": "markdown",
   "metadata": {},
   "source": [
    "### Function section here:"
   ]
  },
  {
   "cell_type": "markdown",
   "metadata": {},
   "source": [
    "#### trackSession"
   ]
  },
  {
   "cell_type": "code",
   "execution_count": 3,
   "metadata": {},
   "outputs": [],
   "source": [
    "def trackSession():\n",
    "    global session_count\n",
    "    if session_count == 0:\n",
    "        session_count += 1\n",
    "        return True\n",
    "    else:\n",
    "        return False\n",
    "    return False"
   ]
  },
  {
   "cell_type": "markdown",
   "metadata": {},
   "source": [
    "#### setSession"
   ]
  },
  {
   "cell_type": "code",
   "execution_count": 4,
   "metadata": {},
   "outputs": [],
   "source": [
    "def setSession(file, flag=True):\n",
    "    now = datetime.datetime.now()\n",
    "    if flag:\n",
    "        file.write(\"\\n-------------------- SESSION - {} -------------------------\\n\".format(now.strftime(\"%Y-%m-%d %H:%M\")))\n",
    "    else:\n",
    "        file.write(\"-------------------- SESSION - {} -------------------------\\n\".format(now.strftime(\"%Y-%m-%d %H:%M\")))"
   ]
  },
  {
   "cell_type": "markdown",
   "metadata": {},
   "source": [
    "#### endSession"
   ]
  },
  {
   "cell_type": "code",
   "execution_count": 5,
   "metadata": {},
   "outputs": [],
   "source": [
    "def endSession(flag=True):\n",
    "    now = datetime.datetime.now()\n",
    "    if flag:\n",
    "        return \"\\n-------------------- END SESSION - {} -------------------------\\n\".format(now.strftime(\"%Y-%m-%d %H:%M\"))\n",
    "    else:\n",
    "        return \"-------------------- END SESSION - {} -------------------------\\n\".format(now.strftime(\"%Y-%m-%d %H:%M\"))\n",
    "    return \"\""
   ]
  },
  {
   "cell_type": "markdown",
   "metadata": {},
   "source": [
    "#### delayPrint"
   ]
  },
  {
   "cell_type": "code",
   "execution_count": 6,
   "metadata": {},
   "outputs": [],
   "source": [
    "def delayPrint(string, seconds): # n seconds delay printing\n",
    "    time.sleep(seconds)\n",
    "    exportLogs(string)\n",
    "    print(string)"
   ]
  },
  {
   "cell_type": "markdown",
   "metadata": {},
   "source": [
    "#### getPaintings"
   ]
  },
  {
   "cell_type": "code",
   "execution_count": 7,
   "metadata": {},
   "outputs": [],
   "source": [
    "def getPaintings(path):\n",
    "    paintings = [f.split(JPG_FILETYPE)[0] for f in listdir(path) if isfile(join(path, f))] # splits only for .jpg images\n",
    "    paintings.sort()\n",
    "    return paintings"
   ]
  },
  {
   "cell_type": "markdown",
   "metadata": {},
   "source": [
    "#### getLabels"
   ]
  },
  {
   "cell_type": "code",
   "execution_count": 8,
   "metadata": {},
   "outputs": [],
   "source": [
    "def getLabels(path):\n",
    "    paintings = [f.split(PNG_FILETYPE)[0] for f in listdir(path) if isfile(join(path, f))] # splits only for .png images\n",
    "    paintings.sort()\n",
    "    return paintings"
   ]
  },
  {
   "cell_type": "markdown",
   "metadata": {},
   "source": [
    "#### exportLogs"
   ]
  },
  {
   "cell_type": "code",
   "execution_count": 9,
   "metadata": {},
   "outputs": [],
   "source": [
    "def exportLogs(logs, f=\"demo/logs.log\"):\n",
    "    logs += \"\\n\"\n",
    "    if(isfile(f)):\n",
    "        file = open(f, \"a\")\n",
    "        if trackSession():\n",
    "            setSession(file)\n",
    "        file.write(logs)\n",
    "        file.close()\n",
    "    else:\n",
    "        print(\"Log file does not exist!\")\n",
    "        print(\"Creating {} file...\".format(f))\n",
    "        file = open(f, \"a+\")\n",
    "        if trackSession():\n",
    "            setSession(file)\n",
    "        file.write(logs)\n",
    "        file.close()"
   ]
  },
  {
   "cell_type": "markdown",
   "metadata": {},
   "source": [
    "#### createCurrentLog"
   ]
  },
  {
   "cell_type": "code",
   "execution_count": 10,
   "metadata": {},
   "outputs": [],
   "source": [
    "def createCurrentLog(fp, output_folder=OUTPUT_FOLDER):\n",
    "    filepath = fp.split(\"/\")\n",
    "    f = \"demo/{}/{}.log\".format(output_folder, filepath[len(filepath) - 1].split(JPG_FILETYPE)[0])\n",
    "    if(isfile(f)):\n",
    "        delayPrint(\"Resuming {} file\".format(f), PRINT_SECONDS)\n",
    "        file = open(f, \"w\")\n",
    "        setSession(file, False)\n",
    "        file.close()\n",
    "    else:\n",
    "        print(\"{} log file does not exist!\".format(f))\n",
    "        print(\"Creating {} file...\".format(f))\n",
    "        file = open(f, \"w+\")\n",
    "        setSession(file, False)\n",
    "        file.close()"
   ]
  },
  {
   "cell_type": "markdown",
   "metadata": {},
   "source": [
    "#### readResume"
   ]
  },
  {
   "cell_type": "code",
   "execution_count": 11,
   "metadata": {},
   "outputs": [],
   "source": [
    "def readResume(f=\"demo/resume.txt\"):\n",
    "    fp_resume = \"\"\n",
    "    delayPrint(\"Checking {} file...\".format(f), PRINT_SECONDS)\n",
    "    if(isfile(f)):\n",
    "        file = open(f, \"r\")\n",
    "        delayPrint(\"Reading file...\", PRINT_SECONDS)\n",
    "        fp_resume = file.read()\n",
    "        delayPrint(\"Last segmented image: {}\".format(fp_resume.rstrip()), PRINT_SECONDS)\n",
    "        delayPrint(\"Closing file...\", PRINT_SECONDS)\n",
    "        file.close()\n",
    "    else:\n",
    "        delayPrint(\"File does not exist!\", PRINT_SECONDS)\n",
    "    return fp_resume"
   ]
  },
  {
   "cell_type": "markdown",
   "metadata": {},
   "source": [
    "#### writeResume"
   ]
  },
  {
   "cell_type": "code",
   "execution_count": 12,
   "metadata": {},
   "outputs": [],
   "source": [
    "def writeResume(current_painting_path, f=\"demo/resume.txt\"):\n",
    "    delayPrint(\"Checking {} file...\".format(f), PRINT_SECONDS)\n",
    "    if(isfile(f)):\n",
    "        file = open(f, \"w+\")\n",
    "        delayPrint(\"Saving last segmented image path...\", PRINT_SECONDS)\n",
    "        delayPrint(\"Writing file...\", PRINT_SECONDS)\n",
    "        file.write(current_painting_path)\n",
    "        delayPrint(\"Closing file...\", PRINT_SECONDS)\n",
    "        file.close()\n",
    "    else:\n",
    "        delayPrint(\"File does not exist!\", PRINT_SECONDS)"
   ]
  },
  {
   "cell_type": "markdown",
   "metadata": {},
   "source": [
    "#### writeErrorFile"
   ]
  },
  {
   "cell_type": "code",
   "execution_count": 13,
   "metadata": {},
   "outputs": [],
   "source": [
    "def writeErrorFile(current_painting_path, error=\"\", f=\"demo/error.log\"):\n",
    "    delayPrint(\"Checking {} file...\".format(f), PRINT_SECONDS)\n",
    "    if(isfile(f)):\n",
    "        file = open(f, \"a\")\n",
    "        delayPrint(\"Writing error file...\", PRINT_SECONDS)\n",
    "        file.write(\"{} - {}\\n\".format(current_painting_path, error))\n",
    "        delayPrint(\"Closing error file...\", PRINT_SECONDS)\n",
    "        file.close()\n",
    "    else:\n",
    "        delayPrint(\"{} log file does not exist!\".format(f), PRINT_SECONDS)\n",
    "        delayPrint(\"Creating {} file...\".format(f), PRINT_SECONDS)\n",
    "        delayPrint(\"Writing error file...\", PRINT_SECONDS)\n",
    "        file = open(f, \"a+\")\n",
    "        file.write(\"{} - {}\\n\".format(current_painting_path, error))\n",
    "        delayPrint(\"Closing error file...\", PRINT_SECONDS)\n",
    "        file.close()"
   ]
  },
  {
   "cell_type": "markdown",
   "metadata": {},
   "source": [
    "#### writeListOfPaintings"
   ]
  },
  {
   "cell_type": "code",
   "execution_count": null,
   "metadata": {},
   "outputs": [],
   "source": [
    "def writeListOfPaintings(lop, f=\"demo/list_of_paintings.txt\"):\n",
    "    with open(f, \"w+\") as file:\n",
    "        delayPrint(\"Writing list of paintings to {}\".format(f), PRINT_SECONDS)\n",
    "        file.write(\"{}\".format(lop))"
   ]
  },
  {
   "cell_type": "markdown",
   "metadata": {},
   "source": [
    "#### reshapeInputLayer"
   ]
  },
  {
   "cell_type": "code",
   "execution_count": 14,
   "metadata": {},
   "outputs": [],
   "source": [
    "def reshapeInputLayer(img, LINE_NUMBER=7, f=\"voc-fcn8s/test.prototxt\"):\n",
    "    delayPrint(\"Checking {} file...\".format(f), PRINT_SECONDS)\n",
    "    # LINE_NUMBER = 7\n",
    "    width, height = img.size\n",
    "    if(isfile(f)):\n",
    "        with open(f, \"r\") as file:\n",
    "            delayPrint(\"Reading file...\", PRINT_SECONDS)\n",
    "            data = file.readlines()\n",
    "            delayPrint(\"Reshaping input layer...\", PRINT_SECONDS)\n",
    "            data[LINE_NUMBER] = \"    shape { dim: 1 dim: 3 dim: %s dim: %s }\\n\"%(height, width)\n",
    "            delayPrint(data[LINE_NUMBER], PRINT_SECONDS)\n",
    "        with open(f, \"w+\") as file:\n",
    "            delayPrint(\"Writing file...\", PRINT_SECONDS)\n",
    "            file.writelines(data)\n",
    "        delayPrint(\"Closing file...\", PRINT_SECONDS)\n",
    "        file.close()\n",
    "    else:\n",
    "        delayPrint(\"File does not exist!\", PRINT_SECONDS)"
   ]
  },
  {
   "cell_type": "markdown",
   "metadata": {},
   "source": [
    "#### reshapeLabelLayer"
   ]
  },
  {
   "cell_type": "code",
   "execution_count": 15,
   "metadata": {},
   "outputs": [],
   "source": [
    "def reshapeLabelLayer(img, LINE_NUMBER=7, f=\"voc-fcn8s/test.prototxt\"):\n",
    "    delayPrint(\"Checking {} file...\".format(f), PRINT_SECONDS)\n",
    "    # LINE_NUMBER = 7\n",
    "    width, height = img.size\n",
    "    if(isfile(f)):\n",
    "        with open(f, \"r\") as file:\n",
    "            delayPrint(\"Reading file...\", PRINT_SECONDS)\n",
    "            data = file.readlines()\n",
    "            delayPrint(\"Reshaping label layer...\", PRINT_SECONDS)\n",
    "            data[LINE_NUMBER] = \"    shape { dim: 1 dim: %s dim: %s }\\n\"%(height, width)\n",
    "            delayPrint(data[LINE_NUMBER], PRINT_SECONDS)\n",
    "        with open(f, \"w+\") as file:\n",
    "            delayPrint(\"Writing file...\", PRINT_SECONDS)\n",
    "            file.writelines(data)\n",
    "        delayPrint(\"Closing file...\", PRINT_SECONDS)\n",
    "        file.close()\n",
    "    else:\n",
    "        delayPrint(\"File does not exist!\", PRINT_SECONDS)"
   ]
  },
  {
   "cell_type": "markdown",
   "metadata": {},
   "source": [
    "#### checkImageSize1000000"
   ]
  },
  {
   "cell_type": "code",
   "execution_count": 16,
   "metadata": {},
   "outputs": [],
   "source": [
    "def checkImageSize1000000(img):\n",
    "    delayPrint(\"Checking if image {width, height} has 1,000,000 and above pixels...\", PRINT_SECONDS)\n",
    "    width, height = img.size\n",
    "    dimensions = \" - ({} x {})\".format(height, width)\n",
    "    global dm\n",
    "    dm = dimensions\n",
    "    ONE_MIL = 1000000\n",
    "    delayPrint(\"Images (H x W) has dimensions {} x {}\".format(height, width), PRINT_SECONDS)\n",
    "    if((width * height) >= ONE_MIL):\n",
    "        delayPrint(ERROR_ABOVE+dimensions, PRINT_SECONDS)\n",
    "        return True\n",
    "    else:\n",
    "        delayPrint(PASS_BELOW+dimensions, PRINT_SECONDS)\n",
    "        return False\n",
    "    return False"
   ]
  },
  {
   "cell_type": "markdown",
   "metadata": {},
   "source": [
    "#### validationResultsLog"
   ]
  },
  {
   "cell_type": "code",
   "execution_count": 17,
   "metadata": {},
   "outputs": [],
   "source": [
    "def validationResultsLog(current_painting_path, results, f=\"demo/results.log\"):\n",
    "    global loss\n",
    "    global over_acc_scores\n",
    "    global mean_acc_scores\n",
    "    global iu_scores\n",
    "    global freq_scores\n",
    "    labels = [\"Overall accuracy\", \"Mean accuracy\", \"Mean IU\", \"Fwavacc accuracy\"]\n",
    "    initValidationScores(labels) # initialize file first\n",
    "    labels, scores = getValidationScores()\n",
    "    over_acc_scores = scores[0]\n",
    "    mean_acc_scores = scores[1]\n",
    "    iu_scores = scores[2]\n",
    "    freq_scores = scores[3]\n",
    "    loss += results['loss']\n",
    "    over_acc_scores.append(results['over_acc'])\n",
    "    mean_acc_scores.append(results['mean_acc'])\n",
    "    iu_scores.append(results['iu'])\n",
    "    freq_scores.append(results['freq'])\n",
    "    scores = [results['over_acc'], results['mean_acc'], results['iu'], results['freq']]\n",
    "    labels = [\"Overall accuracy\", \"Mean accuracy\", \"Mean IU\", \"Fwavacc accuracy\"]\n",
    "    delayPrint(\"Checking {} file...\".format(f), PRINT_SECONDS)\n",
    "    if(isfile(f)):\n",
    "        file = open(f, \"a\")\n",
    "        delayPrint(\"Writing results file...\", PRINT_SECONDS)\n",
    "        file.write(\"{}\\n\".format(current_painting_path))\n",
    "        file.write(\"\\t\\tLoss: {}\\n\".format(results['loss']))\n",
    "        if len(scores) == len(labels):\n",
    "            for x in range(len(labels)):\n",
    "                file.write(\"\\t\\t{}: {}\\n\".format(labels[x], scores[x]))\n",
    "        file.write(\"\\n\")\n",
    "        delayPrint(\"Closing results file...\", PRINT_SECONDS)\n",
    "        file.close()\n",
    "    else:\n",
    "        delayPrint(\"{} log file does not exist!\".format(f), PRINT_SECONDS)\n",
    "        delayPrint(\"Creating {} file...\".format(f), PRINT_SECONDS)\n",
    "        delayPrint(\"Writing results file...\", PRINT_SECONDS)\n",
    "        file = open(f, \"a+\")\n",
    "        file.write(\"{}\\n\".format(current_painting_path))\n",
    "        file.write(\"\\t\\tLoss: {}\\n\".format(results['loss']))\n",
    "        if len(scores) == len(labels):\n",
    "            for x in range(len(labels)):\n",
    "                file.write(\"\\t\\t{}: {}\\n\".format(labels[x], scores[x]))\n",
    "        file.write(\"\\n\")\n",
    "        delayPrint(\"Closing results file...\", PRINT_SECONDS)\n",
    "        file.close()\n",
    "    scores = [over_acc_scores, mean_acc_scores, iu_scores, freq_scores]\n",
    "    saveValidationScores(labels, scores)"
   ]
  },
  {
   "cell_type": "markdown",
   "metadata": {},
   "source": [
    "#### computeMeanScore"
   ]
  },
  {
   "cell_type": "code",
   "execution_count": 18,
   "metadata": {},
   "outputs": [],
   "source": [
    "def computeMeanScore(f=\"demo/results.log\"):\n",
    "    global loss\n",
    "    global over_acc_scores\n",
    "    global mean_acc_scores\n",
    "    global iu_scores\n",
    "    global freq_scores    \n",
    "    labels, scores = getValidationScores()\n",
    "    over_acc_scores = scores[0]\n",
    "    mean_acc_scores = scores[1]\n",
    "    iu_scores = scores[2]\n",
    "    freq_scores = scores[3]\n",
    "    over_acc_scores_m = np.mean(over_acc_scores)\n",
    "    mean_acc_scores_m = np.mean(mean_acc_scores)\n",
    "    iu_scores_m = np.mean(iu_scores)\n",
    "    freq_scores_m = np.mean(freq_scores)\n",
    "    delayPrint(\"Checking {} file...\".format(f), PRINT_SECONDS)\n",
    "    if(isfile(f)):\n",
    "        file = open(f, \"a\")\n",
    "        delayPrint(\"Writing mean results file...\", PRINT_SECONDS)\n",
    "        file.write(\"Mean Results:\\n\")\n",
    "        file.write(\"\\t\\tLoss: {}\\n\".format(loss))\n",
    "        file.write(\"\\t\\tOverall accuracy (mean): {}\\n\".format(over_acc_scores_m))\n",
    "        file.write(\"\\t\\tMean accuracy (mean): {}\\n\".format(mean_acc_scores_m))\n",
    "        file.write(\"\\t\\tMean IU (mean): {}\\n\".format(iu_scores_m))\n",
    "        file.write(\"\\t\\tFwavacc accuracy (mean): {}\\n\".format(freq_scores_m))\n",
    "        delayPrint(\"Closing mean results file...\", PRINT_SECONDS)\n",
    "        file.close()\n",
    "    else:\n",
    "        delayPrint(\"{} log file does not exist!\".format(f), PRINT_SECONDS)\n",
    "        delayPrint(\"Creating {} file...\".format(f), PRINT_SECONDS)\n",
    "        delayPrint(\"Writing mean results file...\", PRINT_SECONDS)\n",
    "        file = open(f, \"a+\")\n",
    "        file.write(\"Mean Results:\\n\")\n",
    "        file.write(\"\\t\\tLoss: {}\\n\".format(loss))\n",
    "        file.write(\"\\t\\tOverall accuracy (mean): {}\\n\".format(over_acc_scores_m))\n",
    "        file.write(\"\\t\\tMean accuracy (mean): {}\\n\".format(mean_acc_scores_m))\n",
    "        file.write(\"\\t\\tMean IU (mean): {}\\n\".format(iu_scores_m))\n",
    "        file.write(\"\\t\\tFwavacc accuracy (mean): {}\\n\".format(freq_scores_m))\n",
    "        delayPrint(\"Closing mean results file...\", PRINT_SECONDS)\n",
    "        file.close()\n",
    "    return {'loss_a' : loss, 'over_acc_m' : over_acc_scores_m, 'mean_acc_m' : mean_acc_scores_m, 'iu_m' : iu_scores_m, 'freq_m' : freq_scores_m}"
   ]
  },
  {
   "cell_type": "markdown",
   "metadata": {},
   "source": [
    "### Functions for results of validation scores"
   ]
  },
  {
   "cell_type": "markdown",
   "metadata": {},
   "source": [
    "#### initValidationScores"
   ]
  },
  {
   "cell_type": "code",
   "execution_count": 19,
   "metadata": {},
   "outputs": [],
   "source": [
    "def initValidationScores(labels, f=\"demo/validation_scores.txt\"):\n",
    "    delayPrint(\"Checking {} file if empty...\".format(f), PRINT_SECONDS)\n",
    "    with open(f, \"r+\") as file:\n",
    "        num_lines = sum(1 for line in file)\n",
    "        # print(num_lines)\n",
    "        if num_lines == 0:\n",
    "            delayPrint(\"Initializing {} file...\".format(f), PRINT_SECONDS)\n",
    "            for x in labels:\n",
    "                file.write(\"{}: []\\n\".format(x))\n",
    "            delayPrint(\"Done initializing {}\".format(f), PRINT_SECONDS)\n",
    "        else:\n",
    "            delayPrint(\"{} not empty...\".format(f), PRINT_SECONDS)"
   ]
  },
  {
   "cell_type": "markdown",
   "metadata": {},
   "source": [
    "#### getValidationScores"
   ]
  },
  {
   "cell_type": "code",
   "execution_count": 20,
   "metadata": {},
   "outputs": [],
   "source": [
    "def getValidationScores(f=\"demo/validation_scores.txt\"):\n",
    "    labels = []\n",
    "    scores = []\n",
    "    with open(f, \"r+\") as file:\n",
    "        data = file.readlines()\n",
    "        num_lines = len(data)\n",
    "        delayPrint(\"Reading {} file...\".format(f), PRINT_SECONDS)\n",
    "        # print(data)\n",
    "        for x in range(num_lines):\n",
    "            # print(data[x])\n",
    "            dt = list(filter(None, re.split(\"(:\\W)\", data[x].rstrip()))) # filter removes blank strings in data[x] list\n",
    "            label = dt[0]\n",
    "            score = ast.literal_eval(dt[len(dt) - 1])\n",
    "            # print(dt)\n",
    "            labels.append(label)\n",
    "            scores.append(score)\n",
    "            delayPrint(\"Fetched {} list...\".format(label), PRINT_SECONDS)\n",
    "        # print(\"Labels: {} Scores: {}\".format(labels, scores))\n",
    "    return labels, scores"
   ]
  },
  {
   "cell_type": "markdown",
   "metadata": {},
   "source": [
    "#### saveValidationScores"
   ]
  },
  {
   "cell_type": "code",
   "execution_count": 21,
   "metadata": {},
   "outputs": [],
   "source": [
    "def saveValidationScores(labels, scores, f=\"demo/validation_scores.txt\"):\n",
    "    with open(f, \"w+\") as file:\n",
    "        print(\"Labels: {} Scores: {}\".format(labels, scores))\n",
    "        if len(labels) == len(scores):\n",
    "            for x in range(len(labels)):\n",
    "                delayPrint(\"Saving validation scores...\", PRINT_SECONDS)\n",
    "                file.write(\"{} : {}\\n\".format(labels[x], scores[x]))\n",
    "            delayPrint(\"Saved validation scores...\", PRINT_SECONDS)"
   ]
  },
  {
   "cell_type": "markdown",
   "metadata": {},
   "source": [
    "#### loop"
   ]
  },
  {
   "cell_type": "code",
   "execution_count": 22,
   "metadata": {},
   "outputs": [],
   "source": [
    "def loop(paintings_path, labels_path, paintings, current_painting):\n",
    "    global n\n",
    "    global plot\n",
    "    global LIMIT_X\n",
    "    global over_acc_scores\n",
    "    global mean_acc_scores\n",
    "    global iu_scores\n",
    "    global freq_scores\n",
    "    n = int(input(\"Enter number of images to segment: \"))\n",
    "    index = paintings.index(current_painting.split(JPG_FILETYPE)[0])\n",
    "    end = len(paintings) - 1\n",
    "    last = index+n\n",
    "    if(index >= end):\n",
    "        last = end\n",
    "    elif last >= end:\n",
    "        last = end\n",
    "    else:\n",
    "        if(index != 0):\n",
    "            index += 1\n",
    "            last += 1\n",
    "    # convert current global n value to its real/absolute value in the entire process\n",
    "    n = len(range(index, last))\n",
    "    delayPrint(\"Choose one of the following:\\n\", PRINT_SECONDS)\n",
    "    delayPrint(\"[1] Segmentation\\t\\t[2] Validation\", PRINT_SECONDS)\n",
    "    option = int(input(\"Your answer [1/2]: \"))\n",
    "    while option != 1 and option != 2:\n",
    "        option = int(input(\"Your answer [1/2]: \"))\n",
    "    \n",
    "    if option == 2:\n",
    "        # creating Figure\n",
    "        plot = createFigure(getYLimitValue(n), LIMIT_X)\n",
    "\n",
    "        # graphs\n",
    "        acc_plot = createFigure(1, 1)\n",
    "\n",
    "        # mean graph\n",
    "        mean_acc_plot = createFigure(1, 1)\n",
    "    \n",
    "    for x in range(index, last):\n",
    "        current_painting_path = paintings_path + \"/\" + paintings[x] + JPG_FILETYPE\n",
    "        current_label_path = labels_path + \"/\" + paintings[x] + PNG_FILETYPE\n",
    "        delayPrint(current_painting_path, PRINT_SECONDS)\n",
    "        createCurrentLog(paintings[x], OUTPUT_FOLDER) if option is 1 else createCurrentLog(paintings[x], OUTPUT_FOLDER_VALIDATION)\n",
    "        start_time = datetime.datetime.now()\n",
    "        delayPrint(\"---------- Start Time - {:s} ----------\".format(str(start_time)), PRINT_SECONDS)\n",
    "        delayPrint(\"Index of painting: {}\".format(x), PRINT_SECONDS)\n",
    "        delayPrint(\"Last expected painting index: {}\".format(last - 1), PRINT_SECONDS)\n",
    "        delayPrint(\"\", REVIEW_SECONDS)\n",
    "        try:\n",
    "            if option == 1:\n",
    "                segmentation(current_painting_path, paintings[x])\n",
    "            else:\n",
    "                results = validation(current_painting_path, current_label_path, paintings[x])\n",
    "                # print(\"Current PAINTING: {}\".format(paintings[x]))\n",
    "                plot = collectConfusionMatrix(plot, x-index+1, results[1], paintings[index], paintings[x], paintings[last - 1])\n",
    "                validationResultsLog(current_painting_path, results[0])\n",
    "        except:\n",
    "            error = sys.exc_info()[0]\n",
    "            # make a bell sound 3 times when error is detected\n",
    "            for x in range(3):\n",
    "                delayPrint(\"Bell {}\".format(x), PRINT_SECONDS)\n",
    "                subprocess.call(['/usr/bin/canberra-gtk-play','--id','bell'])\n",
    "            print(\"Error {} found! Writing error log.\".format(error))\n",
    "            writeErrorFile(current_painting_path, error)\n",
    "        end_time = datetime.datetime.now()\n",
    "        delayPrint(\"---------- End Time - {:s} ----------\".format(str(end_time)), PRINT_SECONDS)\n",
    "        elapsed_time = end_time - start_time\n",
    "        delayPrint(\"Elapsed time is: {:s}\".format(str(elapsed_time)), REVIEW_SECONDS)\n",
    "        delayPrint(\"Index of painting: {}\".format(x), PRINT_SECONDS)\n",
    "        delayPrint(\"Last expected painting index: {}\".format(last - 1), PRINT_SECONDS)\n",
    "        delayPrint(\"\", REVIEW_SECONDS)\n",
    "        if int(n) > 1 and x != last - 1: # rest (60 seconds) if images are greater to 1 and no rest if last image\n",
    "            time.sleep(REST_SECONDS)\n",
    "        # if x == last - 1:\n",
    "        writeResume(current_painting_path)\n",
    "    try:\n",
    "        if option == 2:\n",
    "\n",
    "            # show the figure of accuracy scores\n",
    "            sap_option = input(\"Do you want to show accuracy plot? [y/n]: \")\n",
    "            while sap_option != 'y' and sap_option != 'n':\n",
    "                sap_option = input(\"Do you want to show accuracy plot? [y/n]: \")\n",
    "\n",
    "            if sap_option == 'y':\n",
    "                # data = [over_acc_scores, mean_acc_scores, iu_scores, freq_scores]\n",
    "                # labels = [\"Overall Accuracy Scores\", \"Mean Accuracy Scores\", \"Mean IoU Scores\", \"Frequency Weighted Average Accuracy Scores\"]\n",
    "\n",
    "                mean_labels = [\"Overall Accuracy (mean)\", \"Mean Accuracy (mean)\", \"Mean IU (mean)\", \"Fwavacc Accuracy (mean)\"]\n",
    "                # show mean scores\n",
    "                mean_scores = computeMeanScore()\n",
    "                delayPrint(\"Loss: {}\".format(mean_scores[\"loss_a\"]), PRINT_SECONDS)\n",
    "                delayPrint(\"{}: {}\".format(mean_labels[0], mean_scores[\"over_acc_m\"]), PRINT_SECONDS)\n",
    "                delayPrint(\"{}: {}\".format(mean_labels[1], mean_scores[\"mean_acc_m\"]), PRINT_SECONDS)\n",
    "                delayPrint(\"{}: {}\".format(mean_labels[2], mean_scores[\"iu_m\"]), PRINT_SECONDS)\n",
    "                delayPrint(\"{}: {}\".format(mean_labels[3], mean_scores[\"freq_m\"]), PRINT_SECONDS)\n",
    "\n",
    "                # method to call store figure of accuracy scores\n",
    "                labels, scores = getValidationScores()\n",
    "                storeAccPlot(acc_plot, labels, scores)\n",
    "\n",
    "                # method to call store figure of mean scores\n",
    "                mean_data = [mean_scores[\"over_acc_m\"], mean_scores[\"mean_acc_m\"], mean_scores[\"iu_m\"], mean_scores[\"freq_m\"]]\n",
    "                mean_acc_plot = storeMeanBarGraph(mean_acc_plot, mean_labels, mean_data)\n",
    "\n",
    "                # show the figure of the collected confusion matrix\n",
    "                # showFigures()\n",
    "\n",
    "                # saving figures\n",
    "                saveFigure(acc_plot, \"accuracy_graphs\", OUTPUT_FOLDER_VALIDATION) # accuracy scores\n",
    "                saveFigure(mean_acc_plot, \"mean_accuracy_bar_graph\", OUTPUT_FOLDER_VALIDATION) # bar graph for mean scores\n",
    "    except:\n",
    "        error = sys.exc_info()[0]\n",
    "        # make a bell sound 3 times when error is detected\n",
    "        for x in range(3):\n",
    "            delayPrint(\"Bell {}\".format(x), PRINT_SECONDS)\n",
    "            subprocess.call(['/usr/bin/canberra-gtk-play','--id','bell'])\n",
    "        print(\"Error {} found! Writing error log.\".format(error))\n",
    "    delayPrint(endSession(), PRINT_SECONDS)"
   ]
  },
  {
   "cell_type": "markdown",
   "metadata": {},
   "source": [
    "#### segmentation"
   ]
  },
  {
   "cell_type": "code",
   "execution_count": 23,
   "metadata": {},
   "outputs": [],
   "source": [
    "def segmentation(path, current_painting):\n",
    "    # the demo image is \"2007_000129\" from PASCAL VOC\n",
    "\n",
    "    # load image, switch to BGR, subtract mean, and make dims C x H x W for Caffe\n",
    "    # im = Image.open('demo/image.jpg')\n",
    "    # path = \"demo/Trials/twice.jpg\"\n",
    "    im = Image.open(path)\n",
    "    if checkImageSize1000000(im):\n",
    "        writeErrorFile(path, ERROR_ABOVE+dm)\n",
    "    else:\n",
    "        # reshape input layer from dimensions of image H x W\n",
    "        reshapeInputLayer(im, 7)\n",
    "        delayPrint(\"Starting to segment the image -- {} -- in {} seconds\".format(current_painting, REVIEW_SECONDS), PRINT_SECONDS)\n",
    "        # delay for 5 seconds for reviewing of image name\n",
    "        time.sleep(REVIEW_SECONDS)\n",
    "        in_ = np.array(im, dtype=np.float32)\n",
    "        # print(in_)\n",
    "        in_ = in_[:,:,::-1]\n",
    "        # time.sleep(120)\n",
    "        in_ -= np.array((104.00698793,116.66876762,122.67891434))\n",
    "        in_ = in_.transpose((2,0,1))\n",
    "\n",
    "        # Own code:\n",
    "        # Set mode to CPU since GPU can't handle much memory\n",
    "        caffe.set_mode_cpu()\n",
    "        # load net\n",
    "        net = caffe.Net('voc-fcn8s/test.prototxt', 'voc-fcn8s/fcn8s-heavy-pascal.caffemodel', caffe.TEST)\n",
    "        # shape for input (data blob is N x C x H x W), set data\n",
    "        net.blobs['data'].reshape(1, *in_.shape)\n",
    "        net.blobs['data'].data[...] = in_\n",
    "\n",
    "        # print(\"Stopping...\")\n",
    "        # return\n",
    "        \n",
    "\n",
    "        # run net and take argmax for prediction\n",
    "        net.forward()\n",
    "        out = net.blobs['score'].data[0].argmax(axis=0)\n",
    "\n",
    "        # visualize segmentation in PASCAL VOC colors\n",
    "        voc_palette = vis.make_palette(21)\n",
    "        out_im = Image.fromarray(vis.color_seg(out, voc_palette))\n",
    "        # image_pixels = \"\"\n",
    "        # ycount_gt = 0\n",
    "        # ycount_out = 0\n",
    "        # for y in gt_:\n",
    "        #     for x in y:\n",
    "        #         # image_pixels += str(x)\n",
    "        #         if x == 4:\n",
    "        #             ycount_gt += 1\n",
    "        #     # image_pixels += \"\\n\"\n",
    "        # for y in out_:\n",
    "        #     for x in y:\n",
    "        #         # image_pixels += str(x)\n",
    "        #         if x == 4:\n",
    "        #             ycount_out += 1\n",
    "            # image_pixels += \"\\n\"\n",
    "        # print(\"Accuracy of 4: {:.5f}\".format(ycount_out/ycount_gt))\n",
    "        # print(ycount)\n",
    "        # # print(image_pixels)\n",
    "        # with open(\"test.txt\", \"a+\") as file:\n",
    "        #     file.writelines(image_pixels)\n",
    "        # out_im.save('demo/output.png')\n",
    "        out_im.save('demo/%s/output_%s.png'%(OUTPUT_FOLDER, current_painting.split(JPG_FILETYPE)[0]))\n",
    "        logfile = \"demo/\"+OUTPUT_FOLDER+\"/\"+current_painting+\".log\"\n",
    "        masked_im = Image.fromarray(vis.vis_seg(im, out, voc_palette, 0.5, logfile))\n",
    "\n",
    "        # print extracted colors of original image\n",
    "        vis.extractColors(path, logfile)\n",
    "\n",
    "        # masked_im.save('demo/visualization.jpg')\n",
    "        masked_im.save('demo/%s/output_%s.jpg'%(OUTPUT_FOLDER, current_painting))"
   ]
  },
  {
   "cell_type": "markdown",
   "metadata": {},
   "source": [
    "#### valdation"
   ]
  },
  {
   "cell_type": "code",
   "execution_count": 24,
   "metadata": {},
   "outputs": [],
   "source": [
    "def validation(painting_path, label_path, current_painting):\n",
    "    im = Image.open(painting_path)\n",
    "    gt = Image.open(label_path)\n",
    "    gt = gt.resize(gt.size, Image.ANTIALIAS)\n",
    "    if checkImageSize1000000(im):\n",
    "        writeErrorFile(painting_path, ERROR_ABOVE+dm)\n",
    "    else:\n",
    "        # reshape input layer from dimensions of image H x W\n",
    "        reshapeInputLayer(im, 7)\n",
    "        reshapeLabelLayer(gt, 15)\n",
    "        delayPrint(\"Starting to validate the image -- {} -- in {} seconds\".format(current_painting, REVIEW_SECONDS), PRINT_SECONDS)\n",
    "        # delay for 5 seconds for reviewing of image name\n",
    "        time.sleep(REVIEW_SECONDS)\n",
    "        in_ = np.array(im, dtype=np.float32)\n",
    "\n",
    "        # try ground truth\n",
    "        gt_ = np.array(gt, dtype=np.float32)\n",
    "        # gt_ = gt_[np.newaxis, ...]\n",
    "        # print(in_)\n",
    "        in_ = in_[:,:,::-1]\n",
    "        # print(in_)\n",
    "        # print(gt_)\n",
    "        # gt_ = gt_[:,:,::-1]\n",
    "        # time.sleep(120)\n",
    "        in_ -= np.array((104.00698793,116.66876762,122.67891434))\n",
    "        in_ = in_.transpose((2,0,1))\n",
    "\n",
    "        # gt_ -= np.array((104.00698793,116.66876762,122.67891434))\n",
    "        # gt_ = gt_.transpose((2,0,1))\n",
    "\n",
    "        # Own code:\n",
    "        # Set mode to CPU since GPU can't handle much memory\n",
    "        caffe.set_mode_cpu()\n",
    "        # load net\n",
    "        net = caffe.Net('voc-fcn8s/test.prototxt', 'voc-fcn8s/fcn8s-heavy-pascal.caffemodel', caffe.TEST)\n",
    "        # shape for input (data blob is N x C x H x W), set data\n",
    "        # net.blobs['label'].data = gt_ \n",
    "        \n",
    "        # print(net.blobs)\n",
    "        \n",
    "        net.blobs['data'].reshape(1, *in_.shape)\n",
    "        net.blobs['data'].data[...] = in_\n",
    "        # net.blobs['label'].reshape(1, *gt_.shape)\n",
    "        net.blobs['label'].data[...] = gt_\n",
    "\n",
    "        # print(\"Stopping...\")\n",
    "        # return\n",
    "        \n",
    "\n",
    "        # run net and take argmax for prediction\n",
    "        net.forward()\n",
    "        \n",
    "        out = net.blobs['score'].data[0].argmax(axis=0)\n",
    "        voc_palette = vis.make_palette(21)\n",
    "        out_im = Image.fromarray(vis.color_seg(out, voc_palette))\n",
    "        out_im.save('demo/%s/output_%s.png'%(OUTPUT_FOLDER_VALIDATION, current_painting.split(JPG_FILETYPE)[0]))\n",
    "        logfile = \"demo/\"+OUTPUT_FOLDER_VALIDATION+\"/\"+current_painting+\".log\"\n",
    "        masked_im = Image.fromarray(vis.vis_seg(im, out, voc_palette, 0.5, logfile))\n",
    "\n",
    "        # print extracted colors of original image\n",
    "        vis.extractColors(painting_path, logfile)\n",
    "\n",
    "        # masked_im.save('demo/visualization.jpg')\n",
    "        masked_im.save('demo/%s/output_%s.jpg'%(OUTPUT_FOLDER_VALIDATION, current_painting))\n",
    "        \n",
    "        # store data for label and segmented \n",
    "        out_ = np.array(out, dtype=np.float32)\n",
    "        lbl_ = np.array(gt, dtype=np.float32)\n",
    "        \n",
    "        delayPrint(\"Ground truth image array: {}\".format(np.unique(gt_.flatten())), PRINT_SECONDS)\n",
    "        delayPrint(\"Segmentation result image array: {}\".format(np.unique(out_.flatten())), PRINT_SECONDS)\n",
    "        \n",
    "        # check accuracy\n",
    "        # val = np.loadtxt('demo/valid.txt', dtype=str)\n",
    "        val = np.array([1], dtype=np.uint8)\n",
    "\n",
    "        # reshaping blobs to 1-dimension\n",
    "        # net.blobs['data'].reshape(1,)\n",
    "        # net.blobs['label'].reshape(1,)\n",
    "        conf_mx = createConfusionMatrix(lbl_.flatten(), out_.flatten())\n",
    "        return (score.do_seg_tests(net, 1, False, val, layer='score', gt='label'), conf_mx)"
   ]
  },
  {
   "cell_type": "markdown",
   "metadata": {},
   "source": [
    "### Visualization section"
   ]
  },
  {
   "cell_type": "markdown",
   "metadata": {},
   "source": [
    "#### createConfusionMatrix"
   ]
  },
  {
   "cell_type": "code",
   "execution_count": 25,
   "metadata": {},
   "outputs": [],
   "source": [
    "def createConfusionMatrix(label, segmented):\n",
    "    global labels\n",
    "    class_names = [\"background\", \"aeroplane\", \"bicycle\", \"bird\",\n",
    "               \"boat\", \"bottle\", \"bus\", \"car\",\n",
    "               \"cat\", \"chair\", \"cow\", \"diningtable\",\n",
    "               \"dog\", \"horse\", \"motorbike\", \"person\",\n",
    "               \"pottedplant\", \"sheep\", \"sofa\", \"train\",\n",
    "               \"tvmonitor\"]\n",
    "    delayPrint(\"Creating confusion matrix...\", PRINT_SECONDS)\n",
    "    lbl_seg_ci_lst = list(map(int, list(set(list(np.unique(label)) + list(np.unique(segmented))))))\n",
    "    labels = lbl_seg_ci_lst\n",
    "#     print(labels)\n",
    "#     print(\"List of lbl_seg: {}\".format(lbl_seg_ci_lst))\n",
    "#     print(\"1st element of lbl_seg: {}\".format(class_names[lbl_seg_ci_lst[0]]))\n",
    "#     print(\"Type of ignore element of lbl: {}\".format(lbl_seg_ci_lst[5] == 255))\n",
    "#     label = list(map(int, label))\n",
    "#     segmented = list(map(int, segmented))\n",
    "#     label = list(map((lambda x: \"ignore\" if x == 255 else class_names[x]), label))\n",
    "#     segmented = list(map((lambda x: \"ignore\" if x == 255 else class_names[x]), segmented))\n",
    "#     conf_mx = confusion_matrix(label, segmented, labels=list(map((lambda x: \"ignore\" if x == 255 else class_names[x]), lbl_seg_ci_lst)))\n",
    "#     plt.matshow(conf_mx, cmap=plt.cm.gray)\n",
    "    conf_mx = confusion_matrix(label, segmented)\n",
    "    return conf_mx"
   ]
  },
  {
   "cell_type": "markdown",
   "metadata": {},
   "source": [
    "#### getYLimitValue"
   ]
  },
  {
   "cell_type": "code",
   "execution_count": 26,
   "metadata": {},
   "outputs": [],
   "source": [
    "def getYLimitValue(n):\n",
    "    global LIMIT_X\n",
    "#     if n % LIMIT_X == 0:\n",
    "#         y = int(math.ceil(n / LIMIT_X))\n",
    "#     else:\n",
    "#         y = int(math.ceil(n / LIMIT_X)) + 1\n",
    "    return int(math.ceil(n / LIMIT_X))"
   ]
  },
  {
   "cell_type": "markdown",
   "metadata": {},
   "source": [
    "#### createFigure"
   ]
  },
  {
   "cell_type": "code",
   "execution_count": 27,
   "metadata": {},
   "outputs": [],
   "source": [
    "def createFigure(y, x, fs=None):\n",
    "    global figsize\n",
    "    if fs == None:\n",
    "        fs = figsize\n",
    "#     y = getYLimitValue(n)\n",
    "#     x = LIMIT_X\n",
    "    delayPrint(\"Creating figure...\", PRINT_SECONDS)\n",
    "    fig, axes = plt.subplots(y, x)\n",
    "    fig.set_size_inches(fs)\n",
    "    return fig, axes"
   ]
  },
  {
   "cell_type": "markdown",
   "metadata": {},
   "source": [
    "#### storeAccPlot"
   ]
  },
  {
   "cell_type": "code",
   "execution_count": 28,
   "metadata": {},
   "outputs": [],
   "source": [
    "def storeAccPlot(plot, labels, data):\n",
    "    fig, axes = plot\n",
    "#     colors = ['b', 'g', 'r', 'c', 'm', 'y', 'k', 'w']\n",
    "    colors = ['g', 'c', 'm', 'y']\n",
    "    line_type = '.-'\n",
    "    loc = list(map((lambda x: x+line_type), colors))\n",
    "    for x in range(len(labels)):\n",
    "#         ri = random.randint(0, len(colors))\n",
    "#         print(\"type of array: {}\".format(type(data[x][0])))\n",
    "#         print(\"Index: {} data: {} label: {} ri: {} loc: {}\".format(x, data[x], labels[x], ri, loc[x]))\n",
    "        axes.plot(data[x], loc[x], label=labels[x])\n",
    "    axes.legend(loc='best')\n",
    "    axes.set_xticks(range(len(data[0])))\n",
    "    axes.set_title(\"Accuracy Score Graph\")\n",
    "    axes.set_xlabel(\"Image Index\")\n",
    "    axes.set_ylabel(\"Accuracy Score\")"
   ]
  },
  {
   "cell_type": "markdown",
   "metadata": {},
   "source": [
    "#### storeMeanBarGraph"
   ]
  },
  {
   "cell_type": "code",
   "execution_count": 29,
   "metadata": {},
   "outputs": [],
   "source": [
    "def storeMeanBarGraph(plot, labels, data):\n",
    "    fig, axes = plot\n",
    "    global figsize\n",
    "    # df = pd.DataFrame(np.array(data).reshape(4,1), index=labels)\n",
    "    # df.plot(kind='barh', ax=axes, color='k', alpha=0.7, figsize=(18, 13))\n",
    "    # fig = axes.get_figure()\n",
    "    barlist = axes.barh(range(len(data)), data, color=plt.cm.Pastel1(np.arange(len(data))), tick_label=labels)\n",
    "    axes.legend(barlist, labels)\n",
    "    axes.set_title(\"Mean Accuracy Score Graph\")\n",
    "    axes.set_xlabel(\"Mean Accuracy Score Value\")\n",
    "    axes.set_ylabel(\"Mean Accuracy Score Names\")\n",
    "    fig.set_size_inches((18, 12))\n",
    "    return fig, axes"
   ]
  },
  {
   "cell_type": "markdown",
   "metadata": {},
   "source": [
    "#### showFigures"
   ]
  },
  {
   "cell_type": "code",
   "execution_count": 30,
   "metadata": {},
   "outputs": [],
   "source": [
    "def showFigures():\n",
    "    delayPrint(\"Showing figure...\", PRINT_SECONDS)\n",
    "#     plt.subplots_adjust(wspace=0, hspace=0)\n",
    "    plt.show()"
   ]
  },
  {
   "cell_type": "markdown",
   "metadata": {},
   "source": [
    "#### saveFigure"
   ]
  },
  {
   "cell_type": "code",
   "execution_count": 31,
   "metadata": {},
   "outputs": [],
   "source": [
    "def saveFigure(plot, name, output_dir):\n",
    "    fig, axes = plot\n",
    "    delayPrint(\"Saving {} figure...\".format(name), PRINT_SECONDS)\n",
    "    fig.savefig(\"demo/{}/{}.png\".format(output_dir, name))\n",
    "    "
   ]
  },
  {
   "cell_type": "markdown",
   "metadata": {},
   "source": [
    "#### collectConfusionMatrix"
   ]
  },
  {
   "cell_type": "code",
   "execution_count": 32,
   "metadata": {},
   "outputs": [],
   "source": [
    "def collectConfusionMatrix(plot, current_index, conf_mx, sp, cp, ep):\n",
    "    global LIMIT_X\n",
    "    global labels\n",
    "    global n\n",
    "    class_names = [\"background\", \"aeroplane\", \"bicycle\", \"bird\",\n",
    "               \"boat\", \"bottle\", \"bus\", \"car\",\n",
    "               \"cat\", \"chair\", \"cow\", \"diningtable\",\n",
    "               \"dog\", \"horse\", \"motorbike\", \"person\",\n",
    "               \"pottedplant\", \"sheep\", \"sofa\", \"train\",\n",
    "               \"tvmonitor\"]\n",
    "    \n",
    "    delayPrint(\"Collecting confusion matrix...\", PRINT_SECONDS)\n",
    "    index = 0\n",
    "    fig, axes = plot\n",
    "    for y in range(getYLimitValue(current_index)):\n",
    "        for x in range(LIMIT_X):\n",
    "#             print(\"{} check condition: {}\".format(index, (index is n - 1)))\n",
    "            if index == current_index - 1:\n",
    "                delayPrint(\"Storing confusion matrix...\", PRINT_SECONDS)\n",
    "#                 print(\"{}, {}\".format(y, x))\n",
    "                if n > LIMIT_X:\n",
    "                    axes[y, x].axis(\"on\")\n",
    "                    axes[y, x].matshow(conf_mx, cmap=plt.cm.gray)\n",
    "                    axes[y, x].set_xticklabels([''] + list(map((lambda x: \"ignore\" if x == 255 else class_names[x]), labels)))\n",
    "                    axes[y, x].set_yticklabels([''] + list(map((lambda x: \"ignore\" if x == 255 else class_names[x]), labels)))\n",
    "                    axes[y, x].set_ylabel(\"Ground Truth\")\n",
    "                    axes[y, x].set_xlabel(\"Segmented Image\")\n",
    "                    axes[y, x].set_title(cp)\n",
    "                    \n",
    "                    # saving each confusion matrix\n",
    "#                     cm_fig, cm_axes = createFigure(1, 1)\n",
    "#                     cm_axes.set_figure(axes[y, x].get_figure())\n",
    "#                     cm = (cm_fig, cm_axes)\n",
    "#                     saveFigure(cm, \"cm_{}\".format(cp), OUTPUT_FOLDER_VALIDATION)\n",
    "#                     plt.close(cm_fig)\n",
    "                    # axes[y, x].get_figure().savefig(\"demo/{}/cm_{} - {}\".format(OUTPUT_FOLDER_VALIDATION, sp, ep))\n",
    "                else:\n",
    "                    axes[x].axis(\"on\")\n",
    "                    axes[x].matshow(conf_mx, cmap=plt.cm.gray)\n",
    "                    axes[x].set_xticklabels([''] + list(map((lambda x: \"ignore\" if x == 255 else class_names[x]), labels)))\n",
    "                    axes[x].set_yticklabels([''] + list(map((lambda x: \"ignore\" if x == 255 else class_names[x]), labels)))\n",
    "                    axes[x].set_ylabel(\"Ground Truth\")\n",
    "                    axes[x].set_xlabel(\"Segmented Image\")\n",
    "                    axes[x].set_title(cp)\n",
    "                    \n",
    "                    # saving each confusion matrix\n",
    "#                     cm_fig, cm_axes = createFigure(1, 1)\n",
    "#                     cm_fig = axes[x].get_figure()\n",
    "#                     cm = (cm_fig, cm_axes)\n",
    "#                     saveFigure(cm, \"cm_{}\".format(cp), OUTPUT_FOLDER_VALIDATION)\n",
    "#                     plt.close(cm_fig)\n",
    "                    # axes[x].get_figure().savefig(\"demo/{}/cm_{} - {}\".format(OUTPUT_FOLDER_VALIDATION, sp, ep))\n",
    "            elif index > current_index - 1:\n",
    "                if current_index > LIMIT_X:\n",
    "                    if current_index >= n:\n",
    "                        fig.delaxes(axes[y, x])\n",
    "                        # if cp == ep:\n",
    "                            # saving each confusion matrix\n",
    "                            # saveFigure((fig, axes), \"cm_{} - {}\".format(sp, ep), OUTPUT_FOLDER_VALIDATION)\n",
    "                            \n",
    "                else:\n",
    "                    if current_index >= n:\n",
    "                        fig.delaxes(axes[x])\n",
    "                        # if cp == ep:\n",
    "                            # saving each confusion matrix\n",
    "                            # saveFigure((fig, axes), \"cm_{} - {}\".format(sp, ep), OUTPUT_FOLDER_VALIDATION)\n",
    "            index += 1\n",
    "            \n",
    "    if cp == ep:\n",
    "        # saving each confusion matrix\n",
    "        fig.tight_layout() # fixes the overlapping confusion matrix subplots\n",
    "        print(\"Length of axes: {}\".format(len(axes.flatten())))\n",
    "        saveFigure((fig, axes), \"cm_{} - {}\".format(sp, ep), OUTPUT_FOLDER_VALIDATION)\n",
    "    return fig, axes"
   ]
  },
  {
   "cell_type": "markdown",
   "metadata": {},
   "source": [
    "### Main process here:"
   ]
  },
  {
   "cell_type": "code",
   "execution_count": 33,
   "metadata": {},
   "outputs": [
    {
     "name": "stdout",
     "output_type": "stream",
     "text": [
      "Checking demo/resume.txt file...\n",
      "Reading file...\n",
      "Last segmented image: demo/test/presentation_voc/JPEGImages/albert-bierstadt_bison-with-coyotes-in-the-background.jpg\n",
      "Closing file...\n",
      "Enter number of images to segment: 2\n",
      "Choose one of the following:\n",
      "\n",
      "[1] Segmentation\t\t[2] Validation\n",
      "Your answer [1/2]: 2\n",
      "Creating figure...\n",
      "Creating figure...\n",
      "Creating figure...\n",
      "demo/test/presentation_voc/JPEGImages/albert-bierstadt_bison-with-coyotes-in-the-background.jpg\n",
      "Resuming demo/output_validate/albert-bierstadt_bison-with-coyotes-in-the-background.log file\n",
      "---------- Start Time - 2018-09-16 13:08:33.395034 ----------\n",
      "Index of painting: 0\n",
      "Last expected painting index: 1\n",
      "\n",
      "Checking if image {width, height} has 1,000,000 and above pixels...\n",
      "Images (H x W) has dimensions 352 x 502\n",
      "Image {height, width} has below 1000 pixels - (352 x 502)\n",
      "Checking voc-fcn8s/test.prototxt file...\n",
      "Reading file...\n",
      "Reshaping input layer...\n",
      "    shape { dim: 1 dim: 3 dim: 352 dim: 502 }\n",
      "\n",
      "Writing file...\n",
      "Closing file...\n",
      "Checking voc-fcn8s/test.prototxt file...\n",
      "Reading file...\n",
      "Reshaping label layer...\n",
      "    shape { dim: 1 dim: 352 dim: 502 }\n",
      "\n",
      "Writing file...\n",
      "Closing file...\n",
      "Starting to validate the image -- albert-bierstadt_bison-with-coyotes-in-the-background -- in 0 seconds\n",
      "Number of pixels: 176704\n",
      "Extract Unique Pixel Classes:\n",
      "\n",
      "1. [0, 0, 0]\n",
      "2. [64, 0, 0]\n",
      "3. [64, 128, 0]\n",
      "4. [192, 0, 128]\n",
      "---------- Class Names - RGB Value ----------\n",
      "Class ID: 0\n",
      "Class Color: (0, 0, 0)\n",
      "Class Name: background\n",
      "Percentage of region: 73.071%\n",
      "\n",
      "\n",
      "Class ID: 8\n",
      "Class Color: (64, 0, 0)\n",
      "Class Name: cat\n",
      "Percentage of region: 0.389%\n",
      "\n",
      "\n",
      "Class ID: 10\n",
      "Class Color: (64, 128, 0)\n",
      "Class Name: cow\n",
      "Percentage of region: 22.607%\n",
      "\n",
      "\n",
      "Class ID: 13\n",
      "Class Color: (192, 0, 128)\n",
      "Class Name: horse\n",
      "Percentage of region: 3.933%\n",
      "\n",
      "\n",
      "---------- Colors Present In Image ----------\n",
      "\n",
      "RGB Color - HSV - Proportion - Hue Color: Rgb(r=97, g=68, b=73) - (349.6551724137931, 0.29896907216494845, 97) - 0.01245019920318725% - magenta\n",
      "RGB Color - HSV - Proportion - Hue Color: Rgb(r=245, g=238, b=150) - (55.578947368421055, 0.3877551020408163, 245) - 0.036784679463962335% - red\n",
      "RGB Color - HSV - Proportion - Hue Color: Rgb(r=216, g=212, b=94) - (58.0327868852459, 0.5648148148148148, 216) - 24.05321894241217% - red\n",
      "RGB Color - HSV - Proportion - Hue Color: Rgb(r=120, g=180, b=83) - (97.11340206185567, 0.5388888888888889, 180) - 0.06508058674393336% - yellow\n",
      "RGB Color - HSV - Proportion - Hue Color: Rgb(r=80, g=53, b=58) - (348.88888888888886, 0.3375, 80) - 0.019807135095979717% - magenta\n",
      "RGB Color - HSV - Proportion - Hue Color: Rgb(r=160, g=118, b=98) - (19.354838709677423, 0.3875, 160) - 0.001131836291198841% - red\n",
      "RGB Color - HSV - Proportion - Hue Color: Rgb(r=45, g=32, b=20) - (28.8, 0.5555555555555556, 45) - 16.17337468308584% - red\n",
      "RGB Color - HSV - Proportion - Hue Color: Rgb(r=123, g=101, b=46) - (42.85714285714286, 0.6260162601626016, 123) - 9.963554871423398% - red\n",
      "RGB Color - HSV - Proportion - Hue Color: Rgb(r=59, g=57, b=71) - (248.5714285714286, 0.19718309859154928, 71) - 0.0005659181455994205% - blue\n",
      "RGB Color - HSV - Proportion - Hue Color: Rgb(r=158, g=158, b=50) - (60.0, 0.6835443037974683, 158) - 35.08579319087287% - yellow\n",
      "RGB Color - HSV - Proportion - Hue Color: Rgb(r=91, g=69, b=26) - (39.69230769230769, 0.7142857142857143, 91) - 0.7854943860919956% - red\n",
      "RGB Color - HSV - Proportion - Hue Color: Rgb(r=89, g=138, b=55) - (95.42168674698796, 0.6014492753623188, 138) - 0.06451466859833394% - yellow\n",
      "RGB Color - HSV - Proportion - Hue Color: Rgb(r=90, g=54, b=42) - (15.0, 0.5333333333333333, 90) - 0.3491714958348424% - red\n",
      "RGB Color - HSV - Proportion - Hue Color: Rgb(r=15, g=19, b=16) - (135.0, 0.21052631578947367, 19) - 0.3180459978268743% - green\n",
      "RGB Color - HSV - Proportion - Hue Color: Rgb(r=104, g=161, b=66) - (96.0, 0.5900621118012422, 161) - 0.5342267294458529% - yellow\n",
      "RGB Color - HSV - Proportion - Hue Color: Rgb(r=18, g=18, b=24) - (240.0, 0.25, 24) - 0.4544322709163347% - blue\n",
      "RGB Color - HSV - Proportion - Hue Color: Rgb(r=208, g=206, b=41) - (59.2814371257485, 0.8028846153846154, 208) - 0.006225099601593625% - red\n",
      "RGB Color - HSV - Proportion - Hue Color: Rgb(r=34, g=22, b=26) - (340.0, 0.35294117647058826, 34) - 0.9015076059398769% - magenta\n",
      "RGB Color - HSV - Proportion - Hue Color: Rgb(r=197, g=183, b=76) - (53.05785123966942, 0.6142131979695431, 197) - 11.17235603042376% - red\n",
      "RGB Color - HSV - Proportion - Hue Color: Rgb(r=149, g=127, b=137) - (332.7272727272727, 0.1476510067114094, 149) - 0.001131836291198841% - magenta\n",
      "RGB Color - HSV - Proportion - Hue Color: Rgb(r=83, g=82, b=89) - (248.5714285714286, 0.07865168539325842, 89) - 0.001131836291198841% - blue\n",
      "\n",
      "\n",
      "---------- Hue Colors - Hue Proportions ----------\n",
      "\n",
      "Color\t -\t Color Proportion\t -\t No. of instances\n",
      "Red    \t -\t 62.541%\t\t\t -\t 9\n",
      "Yellow \t -\t 35.750%\t\t\t -\t 4\n",
      "Green \t -\t 0.318%\t\t\t -\t 1\n",
      "Cyan   \t -\t 0.000%\t\t\t -\t 0\n",
      "Blue   \t -\t 0.456%\t\t\t -\t 3\n",
      "Magenta\t -\t 0.935%\t\t\t -\t 4\n",
      "--------------------------------------------------\n",
      "Total number of colors: 21\n",
      "\n",
      "Ground truth image array: [  0.  12. 255.]\n",
      "Segmentation result image array: [ 0.  8. 10. 13.]\n",
      "Creating confusion matrix...\n",
      "Ground truth: (176704,)\n",
      "Segmeted output: (176704,)\n",
      ">>>2018-09-16 13:09:03.029007 Iteration: 1 Loss: 53080.94921875\n",
      ">>>2018-09-16 13:09:03.229720 Iteration: 1 Overall accuracy: 0.956044398945646\n"
     ]
    },
    {
     "name": "stderr",
     "output_type": "stream",
     "text": [
      "/home/butchersix/fcn.berkeleyvision.org/score.py:115: RuntimeWarning: invalid value encountered in true_divide\n",
      "  mean_acc = np.diag(hist) / hist.sum(1)\n"
     ]
    },
    {
     "name": "stdout",
     "output_type": "stream",
     "text": [
      ">>>2018-09-16 13:09:03.433299 Iteration: 1 Mean Accuracy: 0.49793025852876227\n",
      ">>>2018-09-16 13:09:03.635156 Iteration: 1 Mean IU: 0.19220665570077705\n"
     ]
    },
    {
     "name": "stderr",
     "output_type": "stream",
     "text": [
      "/home/butchersix/fcn.berkeleyvision.org/score.py:119: RuntimeWarning: invalid value encountered in true_divide\n",
      "  iu = np.diag(hist) / (hist.sum(1) + hist.sum(0) - np.diag(hist))\n"
     ]
    },
    {
     "name": "stdout",
     "output_type": "stream",
     "text": [
      ">>>2018-09-16 13:09:03.836332 Iteration: 1 Fwavacc: 0.9226096098565758\n",
      "Collecting confusion matrix...\n",
      "Storing confusion matrix...\n",
      "Checking demo/validation_scores.txt file if empty...\n",
      "Initializing demo/validation_scores.txt file...\n",
      "Done initializing demo/validation_scores.txt\n",
      "Reading demo/validation_scores.txt file...\n",
      "Fetched Overall accuracy list...\n",
      "Fetched Mean accuracy list...\n",
      "Fetched Mean IU list...\n",
      "Fetched Fwavacc accuracy list...\n",
      "Checking demo/results.log file...\n",
      "Writing results file...\n",
      "Closing results file...\n",
      "Labels: ['Overall accuracy', 'Mean accuracy', 'Mean IU', 'Fwavacc accuracy'] Scores: [[0.956044398945646], [0.49793025852876227], [0.19220665570077705], [0.9226096098565758]]\n",
      "Saving validation scores...\n",
      "Saving validation scores...\n",
      "Saving validation scores...\n",
      "Saving validation scores...\n",
      "Saved validation scores...\n",
      "---------- End Time - 2018-09-16 13:09:04.272175 ----------\n",
      "Elapsed time is: 0:00:30.877141\n",
      "Index of painting: 0\n",
      "Last expected painting index: 1\n",
      "\n",
      "Checking demo/resume.txt file...\n",
      "Saving last segmented image path...\n",
      "Writing file...\n",
      "Closing file...\n",
      "demo/test/presentation_voc/JPEGImages/alexey-venetsianov_checkered-shawl.jpg\n",
      "Resuming demo/output_validate/alexey-venetsianov_checkered-shawl.log file\n",
      "---------- Start Time - 2018-09-16 13:09:04.276505 ----------\n",
      "Index of painting: 1\n",
      "Last expected painting index: 1\n",
      "\n",
      "Checking if image {width, height} has 1,000,000 and above pixels...\n",
      "Images (H x W) has dimensions 256 x 185\n",
      "Image {height, width} has below 1000 pixels - (256 x 185)\n",
      "Checking voc-fcn8s/test.prototxt file...\n",
      "Reading file...\n",
      "Reshaping input layer...\n",
      "    shape { dim: 1 dim: 3 dim: 256 dim: 185 }\n",
      "\n",
      "Writing file...\n",
      "Closing file...\n",
      "Checking voc-fcn8s/test.prototxt file...\n",
      "Reading file...\n",
      "Reshaping label layer...\n",
      "    shape { dim: 1 dim: 256 dim: 185 }\n",
      "\n",
      "Writing file...\n",
      "Closing file...\n",
      "Starting to validate the image -- alexey-venetsianov_checkered-shawl -- in 0 seconds\n",
      "Number of pixels: 47360\n",
      "Extract Unique Pixel Classes:\n",
      "\n",
      "1. [0, 0, 0]\n",
      "2. [192, 128, 128]\n",
      "---------- Class Names - RGB Value ----------\n",
      "Class ID: 0\n",
      "Class Color: (0, 0, 0)\n",
      "Class Name: background\n",
      "Percentage of region: 17.130%\n",
      "\n",
      "\n",
      "Class ID: 15\n",
      "Class Color: (192, 128, 128)\n",
      "Class Name: person\n",
      "Percentage of region: 82.870%\n",
      "\n",
      "\n",
      "---------- Colors Present In Image ----------\n",
      "\n",
      "RGB Color - HSV - Proportion - Hue Color: Rgb(r=198, g=188, b=189) - (354.0, 0.050505050505050504, 198) - 0.0021114864864864866% - magenta\n",
      "RGB Color - HSV - Proportion - Hue Color: Rgb(r=214, g=199, b=154) - (45.0, 0.2803738317757009, 214) - 3.059543918918919% - red\n",
      "RGB Color - HSV - Proportion - Hue Color: Rgb(r=223, g=212, b=182) - (43.90243902439024, 0.18385650224215247, 223) - 4.005489864864865% - red\n",
      "RGB Color - HSV - Proportion - Hue Color: Rgb(r=59, g=66, b=61) - (137.14285714285714, 0.10606060606060606, 66) - 0.01900337837837838% - green\n",
      "RGB Color - HSV - Proportion - Hue Color: Rgb(r=154, g=160, b=156) - (140.0, 0.0375, 160) - 0.31461148648648646% - green\n",
      "RGB Color - HSV - Proportion - Hue Color: Rgb(r=22, g=23, b=32) - (234.0, 0.3125, 32) - 43.994932432432435% - cyan\n",
      "RGB Color - HSV - Proportion - Hue Color: Rgb(r=215, g=183, b=171) - (16.363636363636363, 0.20465116279069767, 215) - 0.04222972972972973% - red\n",
      "RGB Color - HSV - Proportion - Hue Color: Rgb(r=142, g=122, b=117) - (11.999999999999996, 0.176056338028169, 142) - 0.2005912162162162% - red\n",
      "RGB Color - HSV - Proportion - Hue Color: Rgb(r=84, g=85, b=94) - (234.0, 0.10638297872340426, 94) - 9.149070945945946% - cyan\n",
      "RGB Color - HSV - Proportion - Hue Color: Rgb(r=123, g=130, b=126) - (145.71428571428572, 0.05384615384615385, 130) - 0.010557432432432432% - green\n",
      "RGB Color - HSV - Proportion - Hue Color: Rgb(r=47, g=43, b=37) - (36.0, 0.2127659574468085, 47) - 1.5076013513513513% - red\n",
      "RGB Color - HSV - Proportion - Hue Color: Rgb(r=68, g=67, b=51) - (56.470588235294116, 0.25, 68) - 0.08657094594594596% - red\n",
      "RGB Color - HSV - Proportion - Hue Color: Rgb(r=147, g=149, b=157) - (228.0, 0.06369426751592357, 157) - 0.9290540540540541% - cyan\n",
      "RGB Color - HSV - Proportion - Hue Color: Rgb(r=184, g=196, b=196) - (180.0, 0.061224489795918366, 196) - 0.0021114864864864866% - cyan\n",
      "RGB Color - HSV - Proportion - Hue Color: Rgb(r=186, g=189, b=198) - (225.0, 0.06060606060606061, 198) - 0.01266891891891892% - cyan\n",
      "RGB Color - HSV - Proportion - Hue Color: Rgb(r=124, g=125, b=136) - (235.0, 0.08823529411764706, 136) - 0.13091216216216217% - cyan\n",
      "RGB Color - HSV - Proportion - Hue Color: Rgb(r=209, g=199, b=201) - (348.0, 0.04784688995215311, 209) - 0.008445945945945946% - magenta\n",
      "RGB Color - HSV - Proportion - Hue Color: Rgb(r=70, g=61, b=59) - (10.909090909090907, 0.15714285714285714, 70) - 0.1097972972972973% - red\n",
      "RGB Color - HSV - Proportion - Hue Color: Rgb(r=103, g=94, b=87) - (26.25, 0.1553398058252427, 103) - 7.164273648648649% - red\n",
      "RGB Color - HSV - Proportion - Hue Color: Rgb(r=87, g=79, b=85) - (315.0, 0.09195402298850575, 87) - 6.055743243243243% - magenta\n",
      "RGB Color - HSV - Proportion - Hue Color: Rgb(r=209, g=218, b=211) - (133.33333333333334, 0.04128440366972477, 218) - 0.13935810810810811% - green\n",
      "RGB Color - HSV - Proportion - Hue Color: Rgb(r=23, g=28, b=25) - (144.0, 0.17857142857142858, 28) - 1.201435810810811% - green\n",
      "RGB Color - HSV - Proportion - Hue Color: Rgb(r=125, g=129, b=130) - (192.0, 0.038461538461538464, 130) - 0.0021114864864864866% - cyan\n",
      "RGB Color - HSV - Proportion - Hue Color: Rgb(r=185, g=195, b=197) - (190.0, 0.06091370558375635, 197) - 0.00633445945945946% - cyan\n",
      "RGB Color - HSV - Proportion - Hue Color: Rgb(r=202, g=208, b=216) - (214.28571428571428, 0.06481481481481481, 216) - 0.10346283783783784% - cyan\n",
      "RGB Color - HSV - Proportion - Hue Color: Rgb(r=68, g=60, b=68) - (300.0, 0.11764705882352941, 68) - 0.6714527027027027% - magenta\n",
      "RGB Color - HSV - Proportion - Hue Color: Rgb(r=180, g=161, b=140) - (31.500000000000004, 0.2222222222222222, 180) - 14.560810810810812% - red\n",
      "RGB Color - HSV - Proportion - Hue Color: Rgb(r=86, g=91, b=88) - (144.0, 0.054945054945054944, 91) - 0.5743243243243243% - green\n",
      "RGB Color - HSV - Proportion - Hue Color: Rgb(r=140, g=133, b=107) - (47.272727272727266, 0.2357142857142857, 140) - 0.27871621621621623% - red\n",
      "RGB Color - HSV - Proportion - Hue Color: Rgb(r=60, g=60, b=73) - (240.0, 0.1780821917808219, 73) - 1.1613175675675675% - blue\n",
      "RGB Color - HSV - Proportion - Hue Color: Rgb(r=51, g=44, b=52) - (292.5, 0.15384615384615385, 52) - 3.6570945945945947% - blue\n",
      "RGB Color - HSV - Proportion - Hue Color: Rgb(r=155, g=144, b=149) - (332.7272727272727, 0.07096774193548387, 155) - 0.7474662162162162% - magenta\n",
      "RGB Color - HSV - Proportion - Hue Color: Rgb(r=56, g=67, b=71) - (195.99999999999997, 0.2112676056338028, 71) - 0.0021114864864864866% - cyan\n",
      "RGB Color - HSV - Proportion - Hue Color: Rgb(r=135, g=123, b=128) - (335.0, 0.08888888888888889, 135) - 0.08868243243243244% - magenta\n",
      "\n",
      "\n",
      "---------- Hue Colors - Hue Proportions ----------\n",
      "\n",
      "Color\t -\t Color Proportion\t -\t No. of instances\n",
      "Red    \t -\t 31.016%\t\t\t -\t 10\n",
      "Yellow \t -\t 0.000%\t\t\t -\t 0\n",
      "Green \t -\t 2.259%\t\t\t -\t 6\n",
      "Cyan   \t -\t 54.333%\t\t\t -\t 10\n",
      "Blue   \t -\t 4.818%\t\t\t -\t 2\n",
      "Magenta\t -\t 7.574%\t\t\t -\t 6\n",
      "--------------------------------------------------\n",
      "Total number of colors: 34\n",
      "\n",
      "Ground truth image array: [ 0. 15.]\n",
      "Segmentation result image array: [ 0. 15.]\n",
      "Creating confusion matrix...\n",
      "Ground truth: (47360,)\n",
      "Segmeted output: (47360,)\n",
      ">>>2018-09-16 13:09:15.736233 Iteration: 1 Loss: 5617.2294921875\n",
      ">>>2018-09-16 13:09:15.937313 Iteration: 1 Overall accuracy: 0.9556798986486487\n",
      ">>>2018-09-16 13:09:16.139849 Iteration: 1 Mean Accuracy: 0.9073453112005248\n",
      ">>>2018-09-16 13:09:16.341183 Iteration: 1 Mean IU: 0.865218380479851\n",
      ">>>2018-09-16 13:09:16.542538 Iteration: 1 Fwavacc: 0.9155341153559218\n",
      "Collecting confusion matrix...\n",
      "Storing confusion matrix...\n",
      "Length of axes: 4\n",
      "Saving cm_albert-bierstadt_bison-with-coyotes-in-the-background - alexey-venetsianov_checkered-shawl figure...\n",
      "Checking demo/validation_scores.txt file if empty...\n",
      "demo/validation_scores.txt not empty...\n",
      "Reading demo/validation_scores.txt file...\n",
      "Fetched Overall accuracy  list...\n",
      "Fetched Mean accuracy  list...\n",
      "Fetched Mean IU  list...\n",
      "Fetched Fwavacc accuracy  list...\n",
      "Checking demo/results.log file...\n",
      "Writing results file...\n",
      "Closing results file...\n",
      "Labels: ['Overall accuracy', 'Mean accuracy', 'Mean IU', 'Fwavacc accuracy'] Scores: [[0.956044398945646, 0.9556798986486487], [0.49793025852876227, 0.9073453112005248], [0.19220665570077705, 0.865218380479851], [0.9226096098565758, 0.9155341153559218]]\n",
      "Saving validation scores...\n",
      "Saving validation scores...\n",
      "Saving validation scores...\n",
      "Saving validation scores...\n",
      "Saved validation scores...\n",
      "---------- End Time - 2018-09-16 13:09:17.252562 ----------\n",
      "Elapsed time is: 0:00:12.976057\n",
      "Index of painting: 1\n",
      "Last expected painting index: 1\n",
      "\n",
      "Checking demo/resume.txt file...\n",
      "Saving last segmented image path...\n",
      "Writing file...\n",
      "Closing file...\n"
     ]
    },
    {
     "name": "stdout",
     "output_type": "stream",
     "text": [
      "Do you want to show accuracy plot? [y/n]: y\n",
      "Reading demo/validation_scores.txt file...\n",
      "Fetched Overall accuracy  list...\n",
      "Fetched Mean accuracy  list...\n",
      "Fetched Mean IU  list...\n",
      "Fetched Fwavacc accuracy  list...\n",
      "Checking demo/results.log file...\n",
      "Writing mean results file...\n",
      "Closing mean results file...\n",
      "Loss: 58698.1787109375\n",
      "Overall Accuracy (mean): 0.9558621487971473\n",
      "Mean Accuracy (mean): 0.7026377848646435\n",
      "Mean IU (mean): 0.528712518090314\n",
      "Fwavacc Accuracy (mean): 0.9190718626062488\n",
      "Reading demo/validation_scores.txt file...\n",
      "Fetched Overall accuracy  list...\n",
      "Fetched Mean accuracy  list...\n",
      "Fetched Mean IU  list...\n",
      "Fetched Fwavacc accuracy  list...\n",
      "Saving accuracy_graphs figure...\n",
      "Saving mean_accuracy_bar_graph figure...\n",
      "\n",
      "-------------------- END SESSION - 2018-09-16 13:09 -------------------------\n",
      "\n"
     ]
    },
    {
     "data": {
      "image/png": "[encoded data removed]",
      "text/plain": [
       "<Figure size 2160x1440 with 2 Axes>"
      ]
     },
     "metadata": {},
     "output_type": "display_data"
    },
    {
     "data": {
      "image/png": "[encoded data removed]",
      "text/plain": [
       "<Figure size 2160x1440 with 1 Axes>"
      ]
     },
     "metadata": {},
     "output_type": "display_data"
    },
    {
     "data": {
      "image/png": "[encoded data removed]",
      "text/plain": [
       "<Figure size 1296x864 with 1 Axes>"
      ]
     },
     "metadata": {},
     "output_type": "display_data"
    }
   ],
   "source": [
    "# main process\n",
    "delimiter = \"/\"\n",
    "fp_resume = readResume()\n",
    "\n",
    "# current painting\n",
    "current_painting = fp_resume.split(\"/\")\n",
    "current_painting = current_painting[len(current_painting) - 1].rstrip() # rstrip() for removing white spaces and new line instances\n",
    "\n",
    "# paintings_path\n",
    "paintings_path = fp_resume.split(\"/\")\n",
    "paintings_path.remove(paintings_path[len(paintings_path) - 1])\n",
    "paintings_path = delimiter.join(paintings_path)\n",
    "\n",
    "# labels_path\n",
    "labels_path = fp_resume.split(\"/\")\n",
    "labels_path.remove(labels_path[len(labels_path) - 1])\n",
    "labels_path.remove(labels_path[len(labels_path) - 1])\n",
    "labels_path.append(\"SegmentationClassPNG\")\n",
    "labels_path = delimiter.join(labels_path)\n",
    "\n",
    "paintings = getPaintings(paintings_path)\n",
    "# print(paintings)\n",
    "# write the paintings list to a text file\n",
    "lop_f = \"demo/list_of_paintings.txt\"\n",
    "with open(lop_f, \"r+\") as file:\n",
    "    delayPrint(\"Writing list of paintings to {}\".format(lop_f), PRINT_SECONDS)\n",
    "    file.write(paintings)\n",
    "\n",
    "loop(paintings_path, labels_path, paintings, current_painting)"
   ]
  },
  {
   "cell_type": "raw",
   "metadata": {},
   "source": []
  }
 ],
 "metadata": {
  "kernelspec": {
   "display_name": "Python 3",
   "language": "python",
   "name": "python3"
  },
  "language_info": {
   "codemirror_mode": {
    "name": "ipython",
    "version": 3
   },
   "file_extension": ".py",
   "mimetype": "text/x-python",
   "name": "python",
   "nbconvert_exporter": "python",
   "pygments_lexer": "ipython3",
   "version": "3.6.5"
  }
 },
 "nbformat": 4,
 "nbformat_minor": 2
}
