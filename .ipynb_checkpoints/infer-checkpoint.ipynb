{
 "cells": [
  {
   "cell_type": "markdown",
   "metadata": {},
   "source": [
    "# THESIS NOTEBOOK - infer.py"
   ]
  },
  {
   "cell_type": "markdown",
   "metadata": {},
   "source": [
    "### Libraries are imported here:"
   ]
  },
  {
   "cell_type": "code",
   "execution_count": 1,
   "metadata": {},
   "outputs": [],
   "source": [
    "import numpy as np\n",
    "from PIL import Image\n",
    "\n",
    "import caffe\n",
    "import vis\n",
    "\n",
    "# own libraries\n",
    "import colorgram\n",
    "import os\n",
    "from os import listdir\n",
    "from os.path import isfile, join\n",
    "from pathlib import Path\n",
    "import random\n",
    "import shutil\n",
    "import time\n",
    "import datetime\n",
    "import math\n",
    "import sys\n",
    "import re\n",
    "\n",
    "import score\n",
    "import voc_layers\n",
    "\n",
    "# sklearn libraries\n",
    "from sklearn.metrics import classification_report\n",
    "from sklearn.metrics import confusion_matrix\n",
    "\n",
    "# matplot libraries\n",
    "import matplotlib.pyplot as plt\n",
    "\n",
    "# graphviz library - visualization of trees library\n",
    "import graphviz"
   ]
  },
  {
   "cell_type": "markdown",
   "metadata": {},
   "source": [
    "### Constant and global variables:"
   ]
  },
  {
   "cell_type": "code",
   "execution_count": 2,
   "metadata": {},
   "outputs": [],
   "source": [
    "# own code - Jasper\n",
    "PRINT_SECONDS = 0 # 0.2\n",
    "REVIEW_SECONDS = 0 # 5\n",
    "REST_SECONDS = 0 # 10\n",
    "ERROR_ABOVE = \"Image {height, width} has above 1000 pixels\"\n",
    "PASS_BELOW = \"Image {height, width} has below 1000 pixels\"\n",
    "OUTPUT_FOLDER = \"output_score\" # no slashes both first and last\n",
    "OUTPUT_FOLDER_VALIDATION = \"output_validate\"\n",
    "dm = \"\" # global dimensions string\n",
    "JPG_FILETYPE = \".jpg\"\n",
    "PNG_FILETYPE = \".png\"\n",
    "loss = 0\n",
    "over_acc_scores = []\n",
    "mean_acc_scores = []\n",
    "iu_scores = []\n",
    "freq_scores = []\n",
    "session_count = 0\n",
    "plot = 0 # initialize plot for global use\n",
    "n = 0 # initialize number of paintings for global use\n",
    "LIMIT_X = 4 # limit columns for figure\n",
    "labels = [] # labels for the confusion_matrix_board (x and y axis)"
   ]
  },
  {
   "cell_type": "markdown",
   "metadata": {},
   "source": [
    "### Function section here:"
   ]
  },
  {
   "cell_type": "markdown",
   "metadata": {},
   "source": [
    "#### trackSession"
   ]
  },
  {
   "cell_type": "code",
   "execution_count": 3,
   "metadata": {},
   "outputs": [],
   "source": [
    "def trackSession():\n",
    "    global session_count\n",
    "    if session_count == 0:\n",
    "        session_count += 1\n",
    "        return True\n",
    "    else:\n",
    "        return False\n",
    "    return False"
   ]
  },
  {
   "cell_type": "markdown",
   "metadata": {},
   "source": [
    "#### setSession"
   ]
  },
  {
   "cell_type": "code",
   "execution_count": 4,
   "metadata": {},
   "outputs": [],
   "source": [
    "def setSession(file, flag=True):\n",
    "    now = datetime.datetime.now()\n",
    "    if flag:\n",
    "        file.write(\"\\n-------------------- SESSION - {} -------------------------\\n\".format(now.strftime(\"%Y-%m-%d %H:%M\")))\n",
    "    else:\n",
    "        file.write(\"-------------------- SESSION - {} -------------------------\\n\".format(now.strftime(\"%Y-%m-%d %H:%M\")))"
   ]
  },
  {
   "cell_type": "markdown",
   "metadata": {},
   "source": [
    "#### endSession"
   ]
  },
  {
   "cell_type": "code",
   "execution_count": 5,
   "metadata": {},
   "outputs": [],
   "source": [
    "def endSession(flag=True):\n",
    "    now = datetime.datetime.now()\n",
    "    if flag:\n",
    "        return \"\\n-------------------- END SESSION - {} -------------------------\\n\".format(now.strftime(\"%Y-%m-%d %H:%M\"))\n",
    "    else:\n",
    "        return \"-------------------- END SESSION - {} -------------------------\\n\".format(now.strftime(\"%Y-%m-%d %H:%M\"))\n",
    "    return \"\""
   ]
  },
  {
   "cell_type": "markdown",
   "metadata": {},
   "source": [
    "#### delayPrint"
   ]
  },
  {
   "cell_type": "code",
   "execution_count": 6,
   "metadata": {},
   "outputs": [],
   "source": [
    "def delayPrint(string, seconds): # n seconds delay printing\n",
    "    time.sleep(seconds)\n",
    "    exportLogs(string)\n",
    "    print(string)"
   ]
  },
  {
   "cell_type": "markdown",
   "metadata": {},
   "source": [
    "#### getPaintings"
   ]
  },
  {
   "cell_type": "code",
   "execution_count": 7,
   "metadata": {},
   "outputs": [],
   "source": [
    "def getPaintings(path):\n",
    "    paintings = [f.split(JPG_FILETYPE)[0] for f in listdir(path) if isfile(join(path, f))] # splits only for .jpg images\n",
    "    paintings.sort()\n",
    "    return paintings"
   ]
  },
  {
   "cell_type": "markdown",
   "metadata": {},
   "source": [
    "#### getLabels"
   ]
  },
  {
   "cell_type": "code",
   "execution_count": 8,
   "metadata": {},
   "outputs": [],
   "source": [
    "def getLabels(path):\n",
    "    paintings = [f.split(PNG_FILETYPE)[0] for f in listdir(path) if isfile(join(path, f))] # splits only for .png images\n",
    "    paintings.sort()\n",
    "    return paintings"
   ]
  },
  {
   "cell_type": "markdown",
   "metadata": {},
   "source": [
    "#### exportLogs"
   ]
  },
  {
   "cell_type": "code",
   "execution_count": 9,
   "metadata": {},
   "outputs": [],
   "source": [
    "def exportLogs(logs, f=\"demo/logs.log\"):\n",
    "    logs += \"\\n\"\n",
    "    if(isfile(f)):\n",
    "        file = open(f, \"a\")\n",
    "        if trackSession():\n",
    "            setSession(file)\n",
    "        file.write(logs)\n",
    "        file.close()\n",
    "    else:\n",
    "        print(\"Log file does not exist!\")\n",
    "        print(\"Creating {} file...\".format(f))\n",
    "        file = open(f, \"a+\")\n",
    "        if trackSession():\n",
    "            setSession(file)\n",
    "        file.write(logs)\n",
    "        file.close()"
   ]
  },
  {
   "cell_type": "markdown",
   "metadata": {},
   "source": [
    "#### createCurrentLog"
   ]
  },
  {
   "cell_type": "code",
   "execution_count": 10,
   "metadata": {},
   "outputs": [],
   "source": [
    "def createCurrentLog(fp, output_folder=OUTPUT_FOLDER):\n",
    "    filepath = fp.split(\"/\")\n",
    "    f = \"demo/{}/{}.log\".format(output_folder, filepath[len(filepath) - 1].split(JPG_FILETYPE)[0])\n",
    "    if(isfile(f)):\n",
    "        delayPrint(\"Resuming {} file\".format(f), PRINT_SECONDS)\n",
    "        file = open(f, \"w\")\n",
    "        setSession(file, False)\n",
    "        file.close()\n",
    "    else:\n",
    "        print(\"{} log file does not exist!\".format(f))\n",
    "        print(\"Creating {} file...\".format(f))\n",
    "        file = open(f, \"w+\")\n",
    "        setSession(file, False)\n",
    "        file.close()"
   ]
  },
  {
   "cell_type": "markdown",
   "metadata": {},
   "source": [
    "#### readResume"
   ]
  },
  {
   "cell_type": "code",
   "execution_count": 11,
   "metadata": {},
   "outputs": [],
   "source": [
    "def readResume(f=\"demo/resume.txt\"):\n",
    "    fp_resume = \"\"\n",
    "    delayPrint(\"Checking {} file...\".format(f), PRINT_SECONDS)\n",
    "    if(isfile(f)):\n",
    "        file = open(f, \"r\")\n",
    "        delayPrint(\"Reading file...\", PRINT_SECONDS)\n",
    "        fp_resume = file.read()\n",
    "        delayPrint(\"Last segmented image: {}\".format(fp_resume.rstrip()), PRINT_SECONDS)\n",
    "        delayPrint(\"Closing file...\", PRINT_SECONDS)\n",
    "        file.close()\n",
    "    else:\n",
    "        delayPrint(\"File does not exist!\", PRINT_SECONDS)\n",
    "    return fp_resume"
   ]
  },
  {
   "cell_type": "markdown",
   "metadata": {},
   "source": [
    "#### writeResume"
   ]
  },
  {
   "cell_type": "code",
   "execution_count": 12,
   "metadata": {},
   "outputs": [],
   "source": [
    "def writeResume(current_painting_path, f=\"demo/resume.txt\"):\n",
    "    delayPrint(\"Checking {} file...\".format(f), PRINT_SECONDS)\n",
    "    if(isfile(f)):\n",
    "        file = open(f, \"w+\")\n",
    "        delayPrint(\"Saving last segmented image path...\", PRINT_SECONDS)\n",
    "        delayPrint(\"Writing file...\", PRINT_SECONDS)\n",
    "        file.write(current_painting_path)\n",
    "        delayPrint(\"Closing file...\", PRINT_SECONDS)\n",
    "        file.close()\n",
    "    else:\n",
    "        delayPrint(\"File does not exist!\", PRINT_SECONDS)"
   ]
  },
  {
   "cell_type": "markdown",
   "metadata": {},
   "source": [
    "#### writeErrorFile"
   ]
  },
  {
   "cell_type": "code",
   "execution_count": 13,
   "metadata": {},
   "outputs": [],
   "source": [
    "def writeErrorFile(current_painting_path, error=\"\", f=\"demo/error.log\"):\n",
    "    delayPrint(\"Checking {} file...\".format(f), PRINT_SECONDS)\n",
    "    if(isfile(f)):\n",
    "        file = open(f, \"a\")\n",
    "        delayPrint(\"Writing error file...\", PRINT_SECONDS)\n",
    "        file.write(\"{} - {}\\n\".format(current_painting_path, error))\n",
    "        delayPrint(\"Closing error file...\", PRINT_SECONDS)\n",
    "        file.close()\n",
    "    else:\n",
    "        delayPrint(\"{} log file does not exist!\".format(f), PRINT_SECONDS)\n",
    "        delayPrint(\"Creating {} file...\".format(f), PRINT_SECONDS)\n",
    "        delayPrint(\"Writing error file...\", PRINT_SECONDS)\n",
    "        file = open(f, \"a+\")\n",
    "        file.write(\"{} - {}\\n\".format(current_painting_path, error))\n",
    "        delayPrint(\"Closing error file...\", PRINT_SECONDS)\n",
    "        file.close()"
   ]
  },
  {
   "cell_type": "markdown",
   "metadata": {},
   "source": [
    "#### reshapeInputLayer"
   ]
  },
  {
   "cell_type": "code",
   "execution_count": 14,
   "metadata": {},
   "outputs": [],
   "source": [
    "def reshapeInputLayer(img, LINE_NUMBER=7, f=\"voc-fcn8s/test.prototxt\"):\n",
    "    delayPrint(\"Checking {} file...\".format(f), PRINT_SECONDS)\n",
    "    # LINE_NUMBER = 7\n",
    "    width, height = img.size\n",
    "    if(isfile(f)):\n",
    "        with open(f, \"r\") as file:\n",
    "            delayPrint(\"Reading file...\", PRINT_SECONDS)\n",
    "            data = file.readlines()\n",
    "            delayPrint(\"Reshaping input layer...\", PRINT_SECONDS)\n",
    "            data[LINE_NUMBER] = \"    shape { dim: 1 dim: 3 dim: %s dim: %s }\\n\"%(height, width)\n",
    "            delayPrint(data[LINE_NUMBER], PRINT_SECONDS)\n",
    "        with open(f, \"w+\") as file:\n",
    "            delayPrint(\"Writing file...\", PRINT_SECONDS)\n",
    "            file.writelines(data)\n",
    "        delayPrint(\"Closing file...\", PRINT_SECONDS)\n",
    "        file.close()\n",
    "    else:\n",
    "        delayPrint(\"File does not exist!\", PRINT_SECONDS)"
   ]
  },
  {
   "cell_type": "markdown",
   "metadata": {},
   "source": [
    "#### reshapeLabelLayer"
   ]
  },
  {
   "cell_type": "code",
   "execution_count": 15,
   "metadata": {},
   "outputs": [],
   "source": [
    "def reshapeLabelLayer(img, LINE_NUMBER=7, f=\"voc-fcn8s/test.prototxt\"):\n",
    "    delayPrint(\"Checking {} file...\".format(f), PRINT_SECONDS)\n",
    "    # LINE_NUMBER = 7\n",
    "    width, height = img.size\n",
    "    if(isfile(f)):\n",
    "        with open(f, \"r\") as file:\n",
    "            delayPrint(\"Reading file...\", PRINT_SECONDS)\n",
    "            data = file.readlines()\n",
    "            delayPrint(\"Reshaping label layer...\", PRINT_SECONDS)\n",
    "            data[LINE_NUMBER] = \"    shape { dim: 1 dim: %s dim: %s }\\n\"%(height, width)\n",
    "            delayPrint(data[LINE_NUMBER], PRINT_SECONDS)\n",
    "        with open(f, \"w+\") as file:\n",
    "            delayPrint(\"Writing file...\", PRINT_SECONDS)\n",
    "            file.writelines(data)\n",
    "        delayPrint(\"Closing file...\", PRINT_SECONDS)\n",
    "        file.close()\n",
    "    else:\n",
    "        delayPrint(\"File does not exist!\", PRINT_SECONDS)"
   ]
  },
  {
   "cell_type": "markdown",
   "metadata": {},
   "source": [
    "#### checkImageSize1000000"
   ]
  },
  {
   "cell_type": "code",
   "execution_count": 16,
   "metadata": {},
   "outputs": [],
   "source": [
    "def checkImageSize1000000(img):\n",
    "    delayPrint(\"Checking if image {width, height} has 1,000,000 and above pixels...\", PRINT_SECONDS)\n",
    "    width, height = img.size\n",
    "    dimensions = \" - ({} x {})\".format(height, width)\n",
    "    global dm\n",
    "    dm = dimensions\n",
    "    ONE_MIL = 1000000\n",
    "    delayPrint(\"Images (H x W) has dimensions {} x {}\".format(height, width), PRINT_SECONDS)\n",
    "    if((width * height) >= ONE_MIL):\n",
    "        delayPrint(ERROR_ABOVE+dimensions, PRINT_SECONDS)\n",
    "        return True\n",
    "    else:\n",
    "        delayPrint(PASS_BELOW+dimensions, PRINT_SECONDS)\n",
    "        return False\n",
    "    return False"
   ]
  },
  {
   "cell_type": "markdown",
   "metadata": {},
   "source": [
    "#### validationResultsLog"
   ]
  },
  {
   "cell_type": "code",
   "execution_count": 17,
   "metadata": {},
   "outputs": [],
   "source": [
    "def validationResultsLog(current_painting_path, results, f=\"demo/results.log\"):\n",
    "    global loss\n",
    "    global over_acc_scores\n",
    "    global mean_acc_scores\n",
    "    global iu_scores\n",
    "    global freq_scores\n",
    "    labels, scores = getValidationScores()\n",
    "    over_acc_scores = scores[0]\n",
    "    mean_acc_scores = scores[1]\n",
    "    iu_scores = scores[2]\n",
    "    freq_scores = scores[3]\n",
    "    loss += results['loss']\n",
    "    over_acc_scores.append(results['over_acc'])\n",
    "    mean_acc_scores.append(results['mean_acc'])\n",
    "    iu_scores.append(results['iu'])\n",
    "    freq_scores.append(results['freq'])\n",
    "    scores = [over_acc_scores, mean_acc_scores, iu_scores, freq_scores]\n",
    "    labels = [\"Overall accuracy\", \"Mean accuracy\", \"Mean IU\", \"Fwavacc accuracy\"]\n",
    "    delayPrint(\"Checking {} file...\".format(f), PRINT_SECONDS)\n",
    "    if(isfile(f)):\n",
    "        file = open(f, \"a\")\n",
    "        delayPrint(\"Writing results file...\", PRINT_SECONDS)\n",
    "        file.write(\"{}\\n\".format(current_painting_path))\n",
    "        file.write(\"\\t\\tLoss: {}\\n\".format(results['loss']))\n",
    "        if len(scores) == len(labels):\n",
    "            for x in range(len(labels)):\n",
    "                file.write(\"\\t\\t{}: {}\\n\".format(labels[x], scores[x]))\n",
    "        file.write(\"\\n\")\n",
    "        delayPrint(\"Closing results file...\", PRINT_SECONDS)\n",
    "        file.close()\n",
    "    else:\n",
    "        delayPrint(\"{} log file does not exist!\".format(f), PRINT_SECONDS)\n",
    "        delayPrint(\"Creating {} file...\".format(f), PRINT_SECONDS)\n",
    "        delayPrint(\"Writing results file...\", PRINT_SECONDS)\n",
    "        file = open(f, \"a+\")\n",
    "        file.write(\"{}\\n\".format(current_painting_path))\n",
    "        file.write(\"\\t\\tLoss: {}\\n\".format(results['loss']))\n",
    "        if len(scores) == len(labels):\n",
    "            for x in range(len(labels)):\n",
    "                file.write(\"\\t\\t{}: {}\\n\".format(labels[x], scores[x]))\n",
    "        file.write(\"\\n\")\n",
    "        delayPrint(\"Closing results file...\", PRINT_SECONDS)\n",
    "        file.close()\n",
    "    saveValidationScores(labels, scores)"
   ]
  },
  {
   "cell_type": "markdown",
   "metadata": {},
   "source": [
    "#### computeMeanScore"
   ]
  },
  {
   "cell_type": "code",
   "execution_count": 18,
   "metadata": {},
   "outputs": [],
   "source": [
    "def computeMeanScore(f=\"demo/results.log\"):\n",
    "    global loss\n",
    "    global over_acc_scores\n",
    "    global mean_acc_scores\n",
    "    global iu_scores\n",
    "    global freq_scores\n",
    "    over_acc_scores_m = np.mean(over_acc_scores)\n",
    "    mean_acc_scores_m = np.mean(mean_acc_scores)\n",
    "    iu_scores_m = np.mean(iu_scores)\n",
    "    freq_scores_m = np.mean(freq_scores)\n",
    "    delayPrint(\"Checking {} file...\".format(f), PRINT_SECONDS)\n",
    "    if(isfile(f)):\n",
    "        file = open(f, \"a\")\n",
    "        delayPrint(\"Writing mean results file...\", PRINT_SECONDS)\n",
    "        file.write(\"Mean Results:\\n\")\n",
    "        file.write(\"\\t\\tLoss: {}\\n\".format(loss))\n",
    "        file.write(\"\\t\\tOverall accuracy (mean): {}\\n\".format(over_acc_scores_m))\n",
    "        file.write(\"\\t\\tMean accuracy (mean): {}\\n\".format(mean_acc_scores_m))\n",
    "        file.write(\"\\t\\tMean IU (mean): {}\\n\".format(iu_scores_m))\n",
    "        file.write(\"\\t\\tFwavacc accuracy (mean): {}\\n\".format(freq_scores_m))\n",
    "        delayPrint(\"Closing mean results file...\", PRINT_SECONDS)\n",
    "        file.close()\n",
    "    else:\n",
    "        delayPrint(\"{} log file does not exist!\".format(f), PRINT_SECONDS)\n",
    "        delayPrint(\"Creating {} file...\".format(f), PRINT_SECONDS)\n",
    "        delayPrint(\"Writing mean results file...\", PRINT_SECONDS)\n",
    "        file = open(f, \"a+\")\n",
    "        file.write(\"Mean Results:\\n\")\n",
    "        file.write(\"\\t\\tLoss: {}\\n\".format(loss))\n",
    "        file.write(\"\\t\\tOverall accuracy (mean): {}\\n\".format(over_acc_scores_m))\n",
    "        file.write(\"\\t\\tMean accuracy (mean): {}\\n\".format(mean_acc_scores_m))\n",
    "        file.write(\"\\t\\tMean IU (mean): {}\\n\".format(iu_scores_m))\n",
    "        file.write(\"\\t\\tFwavacc accuracy (mean): {}\\n\".format(freq_scores_m))\n",
    "        delayPrint(\"Closing mean results file...\", PRINT_SECONDS)\n",
    "        file.close()\n",
    "    return {'loss_a' : loss, 'over_acc_m' : over_acc_scores_m, 'mean_acc_m' : mean_acc_scores_m, 'iu_m' : iu_scores_m, 'freq_m' : freq_scores_m}"
   ]
  },
  {
   "cell_type": "markdown",
   "metadata": {},
   "source": [
    "### Functions for results of validation scores"
   ]
  },
  {
   "cell_type": "markdown",
   "metadata": {},
   "source": [
    "#### getValidationScores"
   ]
  },
  {
   "cell_type": "code",
   "execution_count": 19,
   "metadata": {},
   "outputs": [],
   "source": [
    "def getValidationScores(f=\"demo/validation_scores.txt\"):\n",
    "    labels = []\n",
    "    scores = []\n",
    "    with open(f, \"r+\") as file:\n",
    "        num_lines = sum(1 for line in file)\n",
    "        delayPrint(\"Reading {} file...\".format(f), PRINT_SECONDS)\n",
    "        data = file.readlines()\n",
    "        for x in range(num_lines):\n",
    "            dt = list(filter(None, re.split(\"(:\\W)\", data[x]))) # filter removes blank strings in data[x] list\n",
    "            label = dt[0]\n",
    "            score = dt[len(dt) - 1]\n",
    "            labels.append(label)\n",
    "            scores.append(score)\n",
    "            delayPrint(\"Fetched {} list...\".format(label), PRINT_SECONDS)\n",
    "    return labels, scores"
   ]
  },
  {
   "cell_type": "markdown",
   "metadata": {},
   "source": [
    "#### saveValidationScores"
   ]
  },
  {
   "cell_type": "code",
   "execution_count": 20,
   "metadata": {},
   "outputs": [],
   "source": [
    "def saveValidationScores(labels, scores, f=\"demo/validation_scores.txt\"):\n",
    "        with open(f, \"w+\") as file:\n",
    "            if len(labels) == len(scores):\n",
    "                for x in range(len(labels)):\n",
    "                    delayPrint(\"Saving validation scores...\", PRINT_SECONDS)\n",
    "                    file.write(\"{} : {}\\n\".format(labels[x], list(scores[x])))\n",
    "                delayPrint(\"Saved validation scores...\", PRINT_SECONDS)"
   ]
  },
  {
   "cell_type": "markdown",
   "metadata": {},
   "source": [
    "#### loop"
   ]
  },
  {
   "cell_type": "code",
   "execution_count": 21,
   "metadata": {},
   "outputs": [],
   "source": [
    "def loop(paintings_path, labels_path, paintings, current_painting):\n",
    "    global n\n",
    "    global plot\n",
    "    global LIMIT_X\n",
    "    global over_acc_scores\n",
    "    global mean_acc_scores\n",
    "    global iu_scores\n",
    "    global freq_scores\n",
    "    n = int(input(\"Enter number of images to segment: \"))\n",
    "    index = paintings.index(current_painting.split(JPG_FILETYPE)[0])\n",
    "    end = len(paintings) - 1\n",
    "    last = index+n\n",
    "    if(index != 0):\n",
    "        if(index == end):\n",
    "            last = end\n",
    "        else:\n",
    "            index += 1\n",
    "            last += 1\n",
    "    delayPrint(\"Choose one of the following:\\n\", PRINT_SECONDS)\n",
    "    delayPrint(\"[1] Segmentation\\t\\t[2] Validation\", PRINT_SECONDS)\n",
    "    option = int(input(\"Your answer [1/2]: \"))\n",
    "    while option != 1 and option != 2:\n",
    "        option = int(input(\"Your answer [1/2]: \"))\n",
    "\n",
    "    # creating Figure\n",
    "    plot = createFigure(getYLimitValue(n), LIMIT_X)\n",
    "    \n",
    "    # graphs\n",
    "    acc_plot = createFigure(1, 1)\n",
    "    \n",
    "    # mean graph\n",
    "    mean_acc_plot = createFigure(1, 1)\n",
    "    \n",
    "    for x in range(index, last):\n",
    "        current_painting_path = paintings_path + \"/\" + paintings[x] + JPG_FILETYPE\n",
    "        current_label_path = labels_path + \"/\" + paintings[x] + PNG_FILETYPE\n",
    "        delayPrint(current_painting_path, PRINT_SECONDS)\n",
    "        createCurrentLog(paintings[x], OUTPUT_FOLDER) if option is 1 else createCurrentLog(paintings[x], OUTPUT_FOLDER_VALIDATION)\n",
    "        start_time = datetime.datetime.now()\n",
    "        delayPrint(\"---------- Start Time - {:s} ----------\".format(str(start_time)), PRINT_SECONDS)\n",
    "        delayPrint(\"Index of painting: {}\".format(x), PRINT_SECONDS)\n",
    "        delayPrint(\"Last expected painting index: {}\".format(last - 1), PRINT_SECONDS)\n",
    "        delayPrint(\"\", REVIEW_SECONDS)\n",
    "        try:\n",
    "            if option == 1:\n",
    "                segmentation(current_painting_path, paintings[x])\n",
    "            else:\n",
    "                results = validation(current_painting_path, current_label_path, paintings[x])\n",
    "                plot = collectConfusionMatrix(plot, x-index+1, results[1], paintings[x])\n",
    "                validationResultsLog(current_painting_path, results[0])\n",
    "        except:\n",
    "            error = sys.exc_info()[0]\n",
    "            print(\"Error {} found! Writing error log.\".format(error))\n",
    "            writeErrorFile(current_painting_path, error)\n",
    "        end_time = datetime.datetime.now()\n",
    "        delayPrint(\"---------- End Time - {:s} ----------\".format(str(end_time)), PRINT_SECONDS)\n",
    "        elapsed_time = end_time - start_time\n",
    "        delayPrint(\"Elapsed time is: {:s}\".format(str(elapsed_time)), REVIEW_SECONDS)\n",
    "        delayPrint(\"Index of painting: {}\".format(x), PRINT_SECONDS)\n",
    "        delayPrint(\"Last expected painting index: {}\".format(last - 1), PRINT_SECONDS)\n",
    "        delayPrint(\"\", REVIEW_SECONDS)\n",
    "        if int(n) > 1 and x != last - 1: # rest (60 seconds) if images are greater to 1 and no rest if last image\n",
    "            time.sleep(REST_SECONDS)\n",
    "        # if x == last - 1:\n",
    "        writeResume(current_painting_path)\n",
    "#     try:\n",
    "    if option == 2:\n",
    "\n",
    "        # show the figure of accuracy scores\n",
    "        sap_option = input(\"Do you want to show accuracy plot? [y/n]: \")\n",
    "        while sap_option != 'y' and option != 'n':\n",
    "            sap_option = input(\"Do you want to show accuracy plot? [y/n]: \")\n",
    "\n",
    "        if sap_option == 'y':\n",
    "            # data = [over_acc_scores, mean_acc_scores, iu_scores, freq_scores]\n",
    "            # labels = [\"Overall Accuracy Scores\", \"Mean Accuracy Scores\", \"Mean IoU Scores\", \"Frequency Weighted Average Accuracy Scores\"]\n",
    "\n",
    "            # show mean scores\n",
    "            mean_scores = computeMeanScore()\n",
    "            delayPrint(\"Loss: {}\".format(mean_scores[\"loss_a\"]), PRINT_SECONDS)\n",
    "            delayPrint(\"Overall Accuracy (mean): {}\".format(mean_scores[\"over_acc_m\"]), PRINT_SECONDS)\n",
    "            delayPrint(\"Mean Accuracy (mean): {}\".format(mean_scores[\"mean_acc_m\"]), PRINT_SECONDS)\n",
    "            delayPrint(\"Mean IU (mean): {}\".format(mean_scores[\"iu_m\"]), PRINT_SECONDS)\n",
    "            delayPrint(\"Fwavacc Accuracy (mean): {}\".format(mean_scores[\"freq_m\"]), PRINT_SECONDS)\n",
    "\n",
    "            # method to call show figure of accuracy scores\n",
    "            labels, scores = getValidationScores()\n",
    "            showAccPlot(acc_plot, labels, scores)\n",
    "\n",
    "        # show the figure of the collected confusion matrix\n",
    "        showFigures()\n",
    "\n",
    "        # saving figures\n",
    "        saveFigure(plot, \"confusion_matrices\", OUTPUT_FOLDER_VALIDATION) # confusion matrix\n",
    "        saveFigure(acc_plot, \"accuracy_graphs\", OUTPUT_FOLDER_VALIDATION) # accuracy scores\n",
    "        saveFigure(mean_acc_plot, \"mean_accuracy_bar_graph\", OUTPUT_FOLDER_VALIDATION) # bar graph for mean scores\n",
    "#     except:\n",
    "#         error = sys.exc_info()[0]\n",
    "#         print(\"Error {} found! Writing error log.\".format(error))\n",
    "    delayPrint(endSession(), PRINT_SECONDS)"
   ]
  },
  {
   "cell_type": "markdown",
   "metadata": {},
   "source": [
    "#### segmentation"
   ]
  },
  {
   "cell_type": "code",
   "execution_count": 22,
   "metadata": {},
   "outputs": [],
   "source": [
    "def segmentation(path, current_painting):\n",
    "    # the demo image is \"2007_000129\" from PASCAL VOC\n",
    "\n",
    "    # load image, switch to BGR, subtract mean, and make dims C x H x W for Caffe\n",
    "    # im = Image.open('demo/image.jpg')\n",
    "    # path = \"demo/Trials/twice.jpg\"\n",
    "    im = Image.open(path)\n",
    "    if checkImageSize1000000(im):\n",
    "        writeErrorFile(path, ERROR_ABOVE+dm)\n",
    "    else:\n",
    "        # reshape input layer from dimensions of image H x W\n",
    "        reshapeInputLayer(im, 7)\n",
    "        delayPrint(\"Starting to segment the image -- {} -- in {} seconds\".format(current_painting, REVIEW_SECONDS), PRINT_SECONDS)\n",
    "        # delay for 5 seconds for reviewing of image name\n",
    "        time.sleep(REVIEW_SECONDS)\n",
    "        in_ = np.array(im, dtype=np.float32)\n",
    "        # print(in_)\n",
    "        in_ = in_[:,:,::-1]\n",
    "        # time.sleep(120)\n",
    "        in_ -= np.array((104.00698793,116.66876762,122.67891434))\n",
    "        in_ = in_.transpose((2,0,1))\n",
    "\n",
    "        # Own code:\n",
    "        # Set mode to CPU since GPU can't handle much memory\n",
    "        caffe.set_mode_cpu()\n",
    "        # load net\n",
    "        net = caffe.Net('voc-fcn8s/test.prototxt', 'voc-fcn8s/fcn8s-heavy-pascal.caffemodel', caffe.TEST)\n",
    "        # shape for input (data blob is N x C x H x W), set data\n",
    "        net.blobs['data'].reshape(1, *in_.shape)\n",
    "        net.blobs['data'].data[...] = in_\n",
    "\n",
    "        # print(\"Stopping...\")\n",
    "        # return\n",
    "        \n",
    "\n",
    "        # run net and take argmax for prediction\n",
    "        net.forward()\n",
    "        out = net.blobs['score'].data[0].argmax(axis=0)\n",
    "\n",
    "        # visualize segmentation in PASCAL VOC colors\n",
    "        voc_palette = vis.make_palette(21)\n",
    "        out_im = Image.fromarray(vis.color_seg(out, voc_palette))\n",
    "        # image_pixels = \"\"\n",
    "        # ycount_gt = 0\n",
    "        # ycount_out = 0\n",
    "        # for y in gt_:\n",
    "        #     for x in y:\n",
    "        #         # image_pixels += str(x)\n",
    "        #         if x == 4:\n",
    "        #             ycount_gt += 1\n",
    "        #     # image_pixels += \"\\n\"\n",
    "        # for y in out_:\n",
    "        #     for x in y:\n",
    "        #         # image_pixels += str(x)\n",
    "        #         if x == 4:\n",
    "        #             ycount_out += 1\n",
    "            # image_pixels += \"\\n\"\n",
    "        # print(\"Accuracy of 4: {:.5f}\".format(ycount_out/ycount_gt))\n",
    "        # print(ycount)\n",
    "        # # print(image_pixels)\n",
    "        # with open(\"test.txt\", \"a+\") as file:\n",
    "        #     file.writelines(image_pixels)\n",
    "        # out_im.save('demo/output.png')\n",
    "        out_im.save('demo/%s/output_%s.png'%(OUTPUT_FOLDER, current_painting.split(JPG_FILETYPE)[0]))\n",
    "        logfile = \"demo/\"+OUTPUT_FOLDER+\"/\"+current_painting+\".log\"\n",
    "        masked_im = Image.fromarray(vis.vis_seg(im, out, voc_palette, 0.5, logfile))\n",
    "\n",
    "        # print extracted colors of original image\n",
    "        vis.extractColors(path, logfile)\n",
    "\n",
    "        # masked_im.save('demo/visualization.jpg')\n",
    "        masked_im.save('demo/%s/output_%s.jpg'%(OUTPUT_FOLDER, current_painting))"
   ]
  },
  {
   "cell_type": "markdown",
   "metadata": {},
   "source": [
    "#### valdation"
   ]
  },
  {
   "cell_type": "code",
   "execution_count": 23,
   "metadata": {},
   "outputs": [],
   "source": [
    "def validation(painting_path, label_path, current_painting):\n",
    "    im = Image.open(painting_path)\n",
    "    gt = Image.open(label_path)\n",
    "    gt = gt.resize(gt.size, Image.ANTIALIAS)\n",
    "    if checkImageSize1000000(im):\n",
    "        writeErrorFile(painting_path, ERROR_ABOVE+dm)\n",
    "    else:\n",
    "        # reshape input layer from dimensions of image H x W\n",
    "        reshapeInputLayer(im, 7)\n",
    "        reshapeLabelLayer(gt, 15)\n",
    "        delayPrint(\"Starting to validate the image -- {} -- in {} seconds\".format(current_painting, REVIEW_SECONDS), PRINT_SECONDS)\n",
    "        # delay for 5 seconds for reviewing of image name\n",
    "        time.sleep(REVIEW_SECONDS)\n",
    "        in_ = np.array(im, dtype=np.float32)\n",
    "\n",
    "        # try ground truth\n",
    "        gt_ = np.array(gt, dtype=np.float32)\n",
    "        # gt_ = gt_[np.newaxis, ...]\n",
    "        # print(in_)\n",
    "        in_ = in_[:,:,::-1]\n",
    "        # print(in_)\n",
    "        # print(gt_)\n",
    "        # gt_ = gt_[:,:,::-1]\n",
    "        # time.sleep(120)\n",
    "        in_ -= np.array((104.00698793,116.66876762,122.67891434))\n",
    "        in_ = in_.transpose((2,0,1))\n",
    "\n",
    "        # gt_ -= np.array((104.00698793,116.66876762,122.67891434))\n",
    "        # gt_ = gt_.transpose((2,0,1))\n",
    "\n",
    "        # Own code:\n",
    "        # Set mode to CPU since GPU can't handle much memory\n",
    "        caffe.set_mode_cpu()\n",
    "        # load net\n",
    "        net = caffe.Net('voc-fcn8s/test.prototxt', 'voc-fcn8s/fcn8s-heavy-pascal.caffemodel', caffe.TEST)\n",
    "        # shape for input (data blob is N x C x H x W), set data\n",
    "        # net.blobs['label'].data = gt_ \n",
    "        \n",
    "        # print(net.blobs)\n",
    "        \n",
    "        net.blobs['data'].reshape(1, *in_.shape)\n",
    "        net.blobs['data'].data[...] = in_\n",
    "        # net.blobs['label'].reshape(1, *gt_.shape)\n",
    "        net.blobs['label'].data[...] = gt_\n",
    "\n",
    "        # print(\"Stopping...\")\n",
    "        # return\n",
    "        \n",
    "\n",
    "        # run net and take argmax for prediction\n",
    "        net.forward()\n",
    "        \n",
    "        out = net.blobs['score'].data[0].argmax(axis=0)\n",
    "        voc_palette = vis.make_palette(21)\n",
    "        out_im = Image.fromarray(vis.color_seg(out, voc_palette))\n",
    "        out_im.save('demo/%s/output_%s.png'%(OUTPUT_FOLDER_VALIDATION, current_painting.split(JPG_FILETYPE)[0]))\n",
    "        logfile = \"demo/\"+OUTPUT_FOLDER_VALIDATION+\"/\"+current_painting+\".log\"\n",
    "        masked_im = Image.fromarray(vis.vis_seg(im, out, voc_palette, 0.5, logfile))\n",
    "\n",
    "        # print extracted colors of original image\n",
    "        vis.extractColors(painting_path, logfile)\n",
    "\n",
    "        # masked_im.save('demo/visualization.jpg')\n",
    "        masked_im.save('demo/%s/output_%s.jpg'%(OUTPUT_FOLDER_VALIDATION, current_painting))\n",
    "        \n",
    "        # store data for label and segmented \n",
    "        out_ = np.array(out, dtype=np.float32)\n",
    "        lbl_ = np.array(gt, dtype=np.float32)\n",
    "        \n",
    "        delayPrint(\"Ground truth image array: {}\".format(np.unique(gt_.flatten())), PRINT_SECONDS)\n",
    "        delayPrint(\"Segmentation result image array: {}\".format(np.unique(out_.flatten())), PRINT_SECONDS)\n",
    "        \n",
    "        # check accuracy\n",
    "        # val = np.loadtxt('demo/valid.txt', dtype=str)\n",
    "        val = np.array([1], dtype=np.uint8)\n",
    "\n",
    "        # reshaping blobs to 1-dimension\n",
    "        # net.blobs['data'].reshape(1,)\n",
    "        # net.blobs['label'].reshape(1,)\n",
    "        conf_mx = createConfusionMatrix(lbl_.flatten(), out_.flatten())\n",
    "        return (score.do_seg_tests(net, 1, False, val, layer='score', gt='label'), conf_mx)"
   ]
  },
  {
   "cell_type": "markdown",
   "metadata": {},
   "source": [
    "### Visualization section"
   ]
  },
  {
   "cell_type": "markdown",
   "metadata": {},
   "source": [
    "#### createConfusionMatrix"
   ]
  },
  {
   "cell_type": "code",
   "execution_count": 24,
   "metadata": {},
   "outputs": [],
   "source": [
    "def createConfusionMatrix(label, segmented):\n",
    "    global labels\n",
    "    class_names = [\"background\", \"aeroplane\", \"bicycle\", \"bird\",\n",
    "               \"boat\", \"bottle\", \"bus\", \"car\",\n",
    "               \"cat\", \"chair\", \"cow\", \"diningtable\",\n",
    "               \"dog\", \"horse\", \"motorbike\", \"person\",\n",
    "               \"pottedplant\", \"sheep\", \"sofa\", \"train\",\n",
    "               \"tvmonitor\"]\n",
    "    delayPrint(\"Creating confusion matrix...\", PRINT_SECONDS)\n",
    "    lbl_seg_ci_lst = list(map(int, list(set(list(np.unique(label)) + list(np.unique(segmented))))))\n",
    "    labels = lbl_seg_ci_lst\n",
    "#     print(labels)\n",
    "#     print(\"List of lbl_seg: {}\".format(lbl_seg_ci_lst))\n",
    "#     print(\"1st element of lbl_seg: {}\".format(class_names[lbl_seg_ci_lst[0]]))\n",
    "#     print(\"Type of ignore element of lbl: {}\".format(lbl_seg_ci_lst[5] == 255))\n",
    "#     label = list(map(int, label))\n",
    "#     segmented = list(map(int, segmented))\n",
    "#     label = list(map((lambda x: \"ignore\" if x == 255 else class_names[x]), label))\n",
    "#     segmented = list(map((lambda x: \"ignore\" if x == 255 else class_names[x]), segmented))\n",
    "#     conf_mx = confusion_matrix(label, segmented, labels=list(map((lambda x: \"ignore\" if x == 255 else class_names[x]), lbl_seg_ci_lst)))\n",
    "#     plt.matshow(conf_mx, cmap=plt.cm.gray)\n",
    "    conf_mx = confusion_matrix(label, segmented)\n",
    "    return conf_mx"
   ]
  },
  {
   "cell_type": "markdown",
   "metadata": {},
   "source": [
    "#### getYLimitValue"
   ]
  },
  {
   "cell_type": "code",
   "execution_count": 25,
   "metadata": {},
   "outputs": [],
   "source": [
    "def getYLimitValue(n):\n",
    "    global LIMIT_X\n",
    "#     if n % LIMIT_X == 0:\n",
    "#         y = int(math.ceil(n / LIMIT_X))\n",
    "#     else:\n",
    "#         y = int(math.ceil(n / LIMIT_X)) + 1\n",
    "    return int(math.ceil(n / LIMIT_X))"
   ]
  },
  {
   "cell_type": "markdown",
   "metadata": {},
   "source": [
    "#### createFigure"
   ]
  },
  {
   "cell_type": "code",
   "execution_count": 26,
   "metadata": {},
   "outputs": [],
   "source": [
    "def createFigure(y, x):\n",
    "#     y = getYLimitValue(n)\n",
    "#     x = LIMIT_X\n",
    "    delayPrint(\"Creating figure...\", PRINT_SECONDS)\n",
    "    fig, axes = plt.subplots(y, x)\n",
    "    fig.set_size_inches(30,20)\n",
    "    return fig, axes"
   ]
  },
  {
   "cell_type": "markdown",
   "metadata": {},
   "source": [
    "#### showAccPlot"
   ]
  },
  {
   "cell_type": "code",
   "execution_count": 27,
   "metadata": {},
   "outputs": [],
   "source": [
    "def showAccPlot(plot, labels, data):\n",
    "    fig, axes = plot\n",
    "#     colors = ['b', 'g', 'r', 'c', 'm', 'y', 'k', 'w']\n",
    "    colors = ['g', 'c', 'm', 'y']\n",
    "    line_type = '.-'\n",
    "    loc = list(map((lambda x: x+line_type), colors))\n",
    "    for x in range(len(labels)):\n",
    "#         ri = random.randint(0, len(colors))\n",
    "#         print(\"type of array: {}\".format(type(data[x][0])))\n",
    "#         print(\"Index: {} data: {} label: {} ri: {} loc: {}\".format(x, data[x], labels[x], ri, loc[x]))\n",
    "        axes.plot(data[x], loc[x], label=labels[x])\n",
    "    axes.legend(loc='best')\n",
    "    axes.set_title(\"Accuracy Score Graph\")\n",
    "    axes.set_xlabel(\"Number of Images\")\n",
    "    axes.set_ylabel(\"Accuracy Score\")"
   ]
  },
  {
   "cell_type": "markdown",
   "metadata": {},
   "source": [
    "#### showMeanBarGraph"
   ]
  },
  {
   "cell_type": "code",
   "execution_count": 28,
   "metadata": {},
   "outputs": [],
   "source": [
    "def showMeanBarGraph(plot, data, labels):\n",
    "    fig, axes = plot\n",
    "    axes.bar(len(labels))"
   ]
  },
  {
   "cell_type": "markdown",
   "metadata": {},
   "source": [
    "#### showFigures"
   ]
  },
  {
   "cell_type": "code",
   "execution_count": 29,
   "metadata": {},
   "outputs": [],
   "source": [
    "def showFigures():\n",
    "    delayPrint(\"Showing figure...\", PRINT_SECONDS)\n",
    "#     plt.subplots_adjust(wspace=0, hspace=0)\n",
    "    plt.show()"
   ]
  },
  {
   "cell_type": "markdown",
   "metadata": {},
   "source": [
    "#### saveFigure"
   ]
  },
  {
   "cell_type": "code",
   "execution_count": 30,
   "metadata": {},
   "outputs": [],
   "source": [
    "def saveFigure(plot, name, output_dir):\n",
    "    fig, axes = plot\n",
    "    delayPrint(\"Saving {} figure...\".format(name), PRINT_SECONDS)\n",
    "    fig.savefig(\"demo/{}/{}.png\".format(output_dir, name))\n",
    "    "
   ]
  },
  {
   "cell_type": "markdown",
   "metadata": {},
   "source": [
    "#### collectConfusionMatrix"
   ]
  },
  {
   "cell_type": "code",
   "execution_count": 31,
   "metadata": {},
   "outputs": [],
   "source": [
    "def collectConfusionMatrix(plot, current_index, conf_mx, currrent_painting):\n",
    "    global LIMIT_X\n",
    "    global labels\n",
    "    global n\n",
    "    class_names = [\"background\", \"aeroplane\", \"bicycle\", \"bird\",\n",
    "               \"boat\", \"bottle\", \"bus\", \"car\",\n",
    "               \"cat\", \"chair\", \"cow\", \"diningtable\",\n",
    "               \"dog\", \"horse\", \"motorbike\", \"person\",\n",
    "               \"pottedplant\", \"sheep\", \"sofa\", \"train\",\n",
    "               \"tvmonitor\"]\n",
    "    \n",
    "    delayPrint(\"Collecting confusion matrix...\", PRINT_SECONDS)\n",
    "    index = 0\n",
    "    fig, axes = plot\n",
    "    for y in range(getYLimitValue(current_index)):\n",
    "        for x in range(LIMIT_X):\n",
    "#             print(\"{} check condition: {}\".format(index, (index is n - 1)))\n",
    "            if index == current_index - 1:\n",
    "                delayPrint(\"Storing confusion matrix...\", PRINT_SECONDS)\n",
    "#                 print(\"{}, {}\".format(y, x))\n",
    "                if n > LIMIT_X:\n",
    "                    axes[y, x].matshow(conf_mx, cmap=plt.cm.gray)\n",
    "                    axes[y, x].set_xticklabels([''] + list(map((lambda x: \"ignore\" if x == 255 else class_names[x]), labels)))\n",
    "                    axes[y, x].set_yticklabels([''] + list(map((lambda x: \"ignore\" if x == 255 else class_names[x]), labels)))\n",
    "                    axes[y, x].set_ylabel(\"Ground Truth\")\n",
    "                    axes[y, x].set_xlabel(\"Segmented Image\")\n",
    "                    axes[y, x].set_title(current_painting)\n",
    "                else:\n",
    "                    axes[x].matshow(conf_mx, cmap=plt.cm.gray)\n",
    "                    axes[x].set_xticklabels([''] + list(map((lambda x: \"ignore\" if x == 255 else class_names[x]), labels)))\n",
    "                    axes[x].set_yticklabels([''] + list(map((lambda x: \"ignore\" if x == 255 else class_names[x]), labels)))\n",
    "                    axes[x].set_ylabel(\"Ground Truth\")\n",
    "                    axes[x].set_xlabel(\"Segmented Image\")\n",
    "                    axes[x].set_title(current_painting)\n",
    "            elif index > current_index - 1:\n",
    "                if current_index > LIMIT_X:\n",
    "                    if current_index >= n:\n",
    "                        fig.delaxes(axes[y, x])\n",
    "                else:\n",
    "                    if current_index >= n:\n",
    "                        fig.delaxes(axes[x])\n",
    "            index += 1\n",
    "    return fig, axes"
   ]
  },
  {
   "cell_type": "markdown",
   "metadata": {},
   "source": [
    "### Main process here:"
   ]
  },
  {
   "cell_type": "code",
   "execution_count": 32,
   "metadata": {
    "scrolled": false
   },
   "outputs": [
    {
     "name": "stdout",
     "output_type": "stream",
     "text": [
      "Checking demo/resume.txt file...\n",
      "Reading file...\n",
      "Last segmented image: demo/test/presentation_voc/JPEGImages/boris-kustodiev_portrait-of-z-e-roze.jpg\n",
      "Closing file...\n",
      "Enter number of images to segment: 2\n",
      "Choose one of the following:\n",
      "\n",
      "[1] Segmentation\t\t[2] Validation\n",
      "Your answer [1/2]: 2\n",
      "Creating figure...\n",
      "Creating figure...\n",
      "Creating figure...\n",
      "demo/test/presentation_voc/JPEGImages/camille-corot_cow-in-a-stable-also-known-as-the-black-cow.jpg\n",
      "Resuming demo/output_validate/camille-corot_cow-in-a-stable-also-known-as-the-black-cow.log file\n",
      "---------- Start Time - 2018-09-07 16:03:27.785944 ----------\n",
      "Index of painting: 6\n",
      "Last expected painting index: 7\n",
      "\n",
      "Checking if image {width, height} has 1,000,000 and above pixels...\n",
      "Images (H x W) has dimensions 332 x 453\n",
      "Image {height, width} has below 1000 pixels - (332 x 453)\n",
      "Checking voc-fcn8s/test.prototxt file...\n",
      "Reading file...\n",
      "Reshaping input layer...\n",
      "    shape { dim: 1 dim: 3 dim: 332 dim: 453 }\n",
      "\n",
      "Writing file...\n",
      "Closing file...\n",
      "Checking voc-fcn8s/test.prototxt file...\n",
      "Reading file...\n",
      "Reshaping label layer...\n",
      "    shape { dim: 1 dim: 332 dim: 453 }\n",
      "\n",
      "Writing file...\n",
      "Closing file...\n",
      "Starting to validate the image -- camille-corot_cow-in-a-stable-also-known-as-the-black-cow -- in 0 seconds\n",
      "Number of pixels: 150396\n",
      "Extract Unique Pixel Classes:\n",
      "\n",
      "1. [0, 0, 0]\n",
      "2. [64, 0, 128]\n",
      "3. [64, 128, 0]\n",
      "4. [192, 0, 128]\n",
      "---------- Class Names - RGB Value ----------\n",
      "Class ID: 0\n",
      "Class Color: (0, 0, 0)\n",
      "Class Name: background\n",
      "Percentage of region: 81.913%\n",
      "\n",
      "\n",
      "Class ID: 12\n",
      "Class Color: (64, 0, 128)\n",
      "Class Name: dog\n",
      "Percentage of region: 0.001%\n",
      "\n",
      "\n",
      "Class ID: 10\n",
      "Class Color: (64, 128, 0)\n",
      "Class Name: cow\n",
      "Percentage of region: 17.308%\n",
      "\n",
      "\n",
      "Class ID: 13\n",
      "Class Color: (192, 0, 128)\n",
      "Class Name: horse\n",
      "Percentage of region: 0.779%\n",
      "\n",
      "\n",
      "---------- Colors Present In Image ----------\n",
      "\n",
      "RGB Color - HSV - Proportion - Hue Color: Rgb(r=199, g=162, b=98) - (38.01980198019802, 0.507537688442211, 199) - 31.558685071411475% - red\n",
      "RGB Color - HSV - Proportion - Hue Color: Rgb(r=107, g=88, b=91) - (350.5263157894737, 0.17757009345794392, 107) - 0.0026596452033298755% - magenta\n",
      "RGB Color - HSV - Proportion - Hue Color: Rgb(r=237, g=222, b=175) - (45.483870967741936, 0.2616033755274262, 237) - 13.590122077714833% - red\n",
      "RGB Color - HSV - Proportion - Hue Color: Rgb(r=147, g=124, b=110) - (22.702702702702705, 0.25170068027210885, 147) - 0.0006649113008324689% - red\n",
      "RGB Color - HSV - Proportion - Hue Color: Rgb(r=78, g=53, b=57) - (350.40000000000003, 0.32051282051282054, 78) - 0.0006649113008324689% - magenta\n",
      "RGB Color - HSV - Proportion - Hue Color: Rgb(r=36, g=21, b=11) - (24.0, 0.6944444444444444, 36) - 23.869650788584803% - red\n",
      "RGB Color - HSV - Proportion - Hue Color: Rgb(r=88, g=64, b=33) - (33.81818181818182, 0.625, 88) - 0.45612915237107376% - red\n",
      "RGB Color - HSV - Proportion - Hue Color: Rgb(r=34, g=16, b=20) - (346.6666666666667, 0.5294117647058824, 34) - 0.3464187877337163% - magenta\n",
      "RGB Color - HSV - Proportion - Hue Color: Rgb(r=86, g=56, b=44) - (17.142857142857142, 0.4883720930232558, 86) - 0.03391047634245591% - red\n",
      "RGB Color - HSV - Proportion - Hue Color: Rgb(r=20, g=25, b=19) - (110.00000000000001, 0.24, 25) - 0.005319290406659751% - yellow\n",
      "RGB Color - HSV - Proportion - Hue Color: Rgb(r=32, g=31, b=40) - (246.66666666666663, 0.225, 40) - 0.0033245565041623445% - blue\n",
      "RGB Color - HSV - Proportion - Hue Color: Rgb(r=172, g=131, b=70) - (35.88235294117647, 0.5930232558139535, 172) - 7.574669539083486% - red\n",
      "RGB Color - HSV - Proportion - Hue Color: Rgb(r=224, g=199, b=137) - (42.758620689655174, 0.38839285714285715, 224) - 8.66911354025373% - red\n",
      "RGB Color - HSV - Proportion - Hue Color: Rgb(r=138, g=102, b=56) - (33.65853658536586, 0.5942028985507246, 138) - 13.888667251788611% - red\n",
      "\n",
      "\n",
      "---------- Hue Colors - Hue Proportions ----------\n",
      "\n",
      "Color\t -\t Color Proportion\t -\t No. of instances\n",
      "Red    \t -\t 99.642%\t\t\t -\t 9\n",
      "Yellow \t -\t 0.005%\t\t\t -\t 1\n",
      "Green \t -\t 0.000%\t\t\t -\t 0\n",
      "Cyan   \t -\t 0.000%\t\t\t -\t 0\n",
      "Blue   \t -\t 0.003%\t\t\t -\t 1\n",
      "Magenta\t -\t 0.350%\t\t\t -\t 3\n",
      "--------------------------------------------------\n",
      "Total number of colors: 14\n",
      "\n",
      "Ground truth image array: [ 0. 10.]\n",
      "Segmentation result image array: [ 0. 10. 12. 13.]\n",
      "Creating confusion matrix...\n",
      "Ground truth: (150396,)\n",
      "Segmeted output: (150396,)\n",
      ">>>2018-09-07 16:03:43.125774 Iteration: 1 Loss: 77150.6796875\n",
      ">>>2018-09-07 16:03:43.326914 Iteration: 1 Overall accuracy: 0.8646240591505093\n"
     ]
    },
    {
     "name": "stderr",
     "output_type": "stream",
     "text": [
      "/home/butchersix/fcn.berkeleyvision.org/score.py:115: RuntimeWarning: invalid value encountered in true_divide\n",
      "  mean_acc = np.diag(hist) / hist.sum(1)\n",
      "/home/butchersix/fcn.berkeleyvision.org/score.py:119: RuntimeWarning: invalid value encountered in true_divide\n",
      "  iu = np.diag(hist) / (hist.sum(1) + hist.sum(0) - np.diag(hist))\n"
     ]
    },
    {
     "name": "stdout",
     "output_type": "stream",
     "text": [
      ">>>2018-09-07 16:03:43.529751 Iteration: 1 Mean Accuracy: 0.7787746534952698\n",
      ">>>2018-09-07 16:03:43.731397 Iteration: 1 Mean IU: 0.3502661774410135\n",
      ">>>2018-09-07 16:03:43.932622 Iteration: 1 Fwavacc: 0.7578776868835407\n",
      "Collecting confusion matrix...\n",
      "Storing confusion matrix...\n",
      "Reading demo/validation_scores.txt file...\n",
      "Error <class 'IndexError'> found! Writing error log.\n",
      "Checking demo/error.log file...\n",
      "Writing error file...\n",
      "Closing error file...\n",
      "---------- End Time - 2018-09-07 16:03:44.290774 ----------\n",
      "Elapsed time is: 0:00:16.504830\n",
      "Index of painting: 6\n",
      "Last expected painting index: 7\n",
      "\n",
      "Checking demo/resume.txt file...\n",
      "Saving last segmented image path...\n",
      "Writing file...\n",
      "Closing file...\n",
      "demo/test/presentation_voc/JPEGImages/camille-corot_head-of-bearded-man-study-for-the-baptism-of-christ-1845.jpg\n",
      "Resuming demo/output_validate/camille-corot_head-of-bearded-man-study-for-the-baptism-of-christ-1845.log file\n",
      "---------- Start Time - 2018-09-07 16:03:44.337404 ----------\n",
      "Index of painting: 7\n",
      "Last expected painting index: 7\n",
      "\n",
      "Checking if image {width, height} has 1,000,000 and above pixels...\n",
      "Images (H x W) has dimensions 372 x 249\n",
      "Image {height, width} has below 1000 pixels - (372 x 249)\n",
      "Checking voc-fcn8s/test.prototxt file...\n",
      "Reading file...\n",
      "Reshaping input layer...\n",
      "    shape { dim: 1 dim: 3 dim: 372 dim: 249 }\n",
      "\n",
      "Writing file...\n",
      "Closing file...\n",
      "Checking voc-fcn8s/test.prototxt file...\n",
      "Reading file...\n",
      "Reshaping label layer...\n",
      "    shape { dim: 1 dim: 372 dim: 249 }\n",
      "\n",
      "Writing file...\n",
      "Closing file...\n",
      "Starting to validate the image -- camille-corot_head-of-bearded-man-study-for-the-baptism-of-christ-1845 -- in 0 seconds\n",
      "Number of pixels: 92628\n",
      "Extract Unique Pixel Classes:\n",
      "\n",
      "1. [0, 0, 0]\n",
      "2. [192, 128, 128]\n",
      "---------- Class Names - RGB Value ----------\n",
      "Class ID: 0\n",
      "Class Color: (0, 0, 0)\n",
      "Class Name: background\n",
      "Percentage of region: 75.624%\n",
      "\n",
      "\n",
      "Class ID: 15\n",
      "Class Color: (192, 128, 128)\n",
      "Class Name: person\n",
      "Percentage of region: 24.376%\n",
      "\n",
      "\n",
      "---------- Colors Present In Image ----------\n",
      "\n",
      "RGB Color - HSV - Proportion - Hue Color: Rgb(r=51, g=38, b=29) - (24.545454545454543, 0.43137254901960786, 51) - 18.759986181284276% - red\n",
      "RGB Color - HSV - Proportion - Hue Color: Rgb(r=130, g=140, b=122) - (93.33333333333333, 0.12857142857142856, 140) - 0.0021591743317355442% - yellow\n",
      "RGB Color - HSV - Proportion - Hue Color: Rgb(r=165, g=156, b=123) - (47.142857142857146, 0.2545454545454545, 165) - 25.46530206848901% - red\n",
      "RGB Color - HSV - Proportion - Hue Color: Rgb(r=21, g=20, b=26) - (250.00000000000003, 0.23076923076923078, 26) - 0.6801399144966964% - blue\n",
      "RGB Color - HSV - Proportion - Hue Color: Rgb(r=85, g=57, b=44) - (19.024390243902435, 0.4823529411764706, 85) - 0.0971628449280995% - red\n",
      "RGB Color - HSV - Proportion - Hue Color: Rgb(r=81, g=94, b=97) - (191.25, 0.16494845360824742, 97) - 0.06909357861553742% - cyan\n",
      "RGB Color - HSV - Proportion - Hue Color: Rgb(r=44, g=52, b=44) - (120.0, 0.15384615384615385, 52) - 0.5343956471045472% - green\n",
      "RGB Color - HSV - Proportion - Hue Color: Rgb(r=122, g=132, b=115) - (95.29411764705883, 0.12878787878787878, 132) - 0.0021591743317355442% - yellow\n",
      "RGB Color - HSV - Proportion - Hue Color: Rgb(r=57, g=68, b=58) - (125.45454545454544, 0.16176470588235295, 68) - 0.08636697326942178% - green\n",
      "RGB Color - HSV - Proportion - Hue Color: Rgb(r=227, g=194, b=138) - (37.752808988764045, 0.3920704845814978, 227) - 0.4091635358638856% - red\n",
      "RGB Color - HSV - Proportion - Hue Color: Rgb(r=80, g=95, b=84) - (136.0, 0.15789473684210525, 95) - 4.913201191864231% - green\n",
      "RGB Color - HSV - Proportion - Hue Color: Rgb(r=79, g=67, b=70) - (345.0, 0.1518987341772152, 79) - 0.010795871658677722% - magenta\n",
      "RGB Color - HSV - Proportion - Hue Color: Rgb(r=78, g=69, b=40) - (45.78947368421053, 0.48717948717948717, 78) - 2.472254609837198% - red\n",
      "RGB Color - HSV - Proportion - Hue Color: Rgb(r=246, g=207, b=147) - (36.36363636363636, 0.4024390243902439, 246) - 0.11767500107958716% - red\n",
      "RGB Color - HSV - Proportion - Hue Color: Rgb(r=78, g=54, b=55) - (357.5, 0.3076923076923077, 78) - 0.005397935829338861% - magenta\n",
      "RGB Color - HSV - Proportion - Hue Color: Rgb(r=110, g=101, b=78) - (43.125, 0.2909090909090909, 110) - 34.81992486073325% - red\n",
      "RGB Color - HSV - Proportion - Hue Color: Rgb(r=139, g=135, b=104) - (53.142857142857146, 0.2517985611510791, 139) - 8.308502828518375% - red\n",
      "RGB Color - HSV - Proportion - Hue Color: Rgb(r=30, g=22, b=25) - (337.5, 0.26666666666666666, 30) - 3.243079846266787% - magenta\n",
      "RGB Color - HSV - Proportion - Hue Color: Rgb(r=165, g=119, b=94) - (21.12676056338028, 0.4303030303030303, 165) - 0.0032387614976033163% - red\n",
      "\n",
      "\n",
      "---------- Hue Colors - Hue Proportions ----------\n",
      "\n",
      "Color\t -\t Color Proportion\t -\t No. of instances\n",
      "Red    \t -\t 90.453%\t\t\t -\t 9\n",
      "Yellow \t -\t 0.004%\t\t\t -\t 2\n",
      "Green \t -\t 5.534%\t\t\t -\t 3\n",
      "Cyan   \t -\t 0.069%\t\t\t -\t 1\n",
      "Blue   \t -\t 0.680%\t\t\t -\t 1\n",
      "Magenta\t -\t 3.259%\t\t\t -\t 3\n",
      "--------------------------------------------------\n",
      "Total number of colors: 19\n",
      "\n",
      "Ground truth image array: [ 0. 15.]\n",
      "Segmentation result image array: [ 0. 15.]\n",
      "Creating confusion matrix...\n",
      "Ground truth: (92628,)\n",
      "Segmeted output: (92628,)\n",
      ">>>2018-09-07 16:03:54.455005 Iteration: 1 Loss: 63687.54296875\n",
      ">>>2018-09-07 16:03:54.656639 Iteration: 1 Overall accuracy: 0.8450468540829986\n",
      ">>>2018-09-07 16:03:54.857412 Iteration: 1 Mean Accuracy: 0.7998926375353863\n",
      ">>>2018-09-07 16:03:55.058546 Iteration: 1 Mean IU: 0.6990064563149649\n",
      ">>>2018-09-07 16:03:55.259552 Iteration: 1 Fwavacc: 0.7236447687834107\n",
      "Collecting confusion matrix...\n",
      "Storing confusion matrix...\n",
      "Reading demo/validation_scores.txt file...\n",
      "Error <class 'IndexError'> found! Writing error log.\n",
      "Checking demo/error.log file...\n",
      "Writing error file...\n",
      "Closing error file...\n",
      "---------- End Time - 2018-09-07 16:03:55.589682 ----------\n",
      "Elapsed time is: 0:00:11.252278\n",
      "Index of painting: 7\n",
      "Last expected painting index: 7\n",
      "\n",
      "Checking demo/resume.txt file...\n",
      "Saving last segmented image path...\n",
      "Writing file...\n",
      "Closing file...\n",
      "Do you want to show accuracy plot? [y/n]: y\n",
      "Checking demo/results.log file...\n",
      "Writing mean results file...\n",
      "Closing mean results file...\n",
      "Loss: 0\n",
      "Overall Accuracy (mean): nan\n",
      "Mean Accuracy (mean): nan\n",
      "Mean IU (mean): nan\n",
      "Fwavacc Accuracy (mean): nan\n",
      "Reading demo/validation_scores.txt file...\n"
     ]
    },
    {
     "name": "stderr",
     "output_type": "stream",
     "text": [
      "/home/butchersix/anaconda3/lib/python3.6/site-packages/numpy/core/fromnumeric.py:2957: RuntimeWarning: Mean of empty slice.\n",
      "  out=out, **kwargs)\n",
      "/home/butchersix/anaconda3/lib/python3.6/site-packages/numpy/core/_methods.py:80: RuntimeWarning: invalid value encountered in double_scalars\n",
      "  ret = ret.dtype.type(ret / rcount)\n"
     ]
    },
    {
     "ename": "IndexError",
     "evalue": "list index out of range",
     "output_type": "error",
     "traceback": [
      "\u001b[0;31m---------------------------------------------------------------------------\u001b[0m",
      "\u001b[0;31mIndexError\u001b[0m                                Traceback (most recent call last)",
      "\u001b[0;32m<ipython-input-32-2fa79aeabc0d>\u001b[0m in \u001b[0;36m<module>\u001b[0;34m()\u001b[0m\n\u001b[1;32m     22\u001b[0m \u001b[0;31m# print(paintings)\u001b[0m\u001b[0;34m\u001b[0m\u001b[0;34m\u001b[0m\u001b[0m\n\u001b[1;32m     23\u001b[0m \u001b[0;34m\u001b[0m\u001b[0m\n\u001b[0;32m---> 24\u001b[0;31m \u001b[0mloop\u001b[0m\u001b[0;34m(\u001b[0m\u001b[0mpaintings_path\u001b[0m\u001b[0;34m,\u001b[0m \u001b[0mlabels_path\u001b[0m\u001b[0;34m,\u001b[0m \u001b[0mpaintings\u001b[0m\u001b[0;34m,\u001b[0m \u001b[0mcurrent_painting\u001b[0m\u001b[0;34m)\u001b[0m\u001b[0;34m\u001b[0m\u001b[0m\n\u001b[0m",
      "\u001b[0;32m<ipython-input-21-956314c0f660>\u001b[0m in \u001b[0;36mloop\u001b[0;34m(paintings_path, labels_path, paintings, current_painting)\u001b[0m\n\u001b[1;32m     85\u001b[0m \u001b[0;34m\u001b[0m\u001b[0m\n\u001b[1;32m     86\u001b[0m             \u001b[0;31m# method to call show figure of accuracy scores\u001b[0m\u001b[0;34m\u001b[0m\u001b[0;34m\u001b[0m\u001b[0m\n\u001b[0;32m---> 87\u001b[0;31m             \u001b[0mlabels\u001b[0m\u001b[0;34m,\u001b[0m \u001b[0mscores\u001b[0m \u001b[0;34m=\u001b[0m \u001b[0mgetValidationScores\u001b[0m\u001b[0;34m(\u001b[0m\u001b[0;34m)\u001b[0m\u001b[0;34m\u001b[0m\u001b[0m\n\u001b[0m\u001b[1;32m     88\u001b[0m             \u001b[0mshowAccPlot\u001b[0m\u001b[0;34m(\u001b[0m\u001b[0macc_plot\u001b[0m\u001b[0;34m,\u001b[0m \u001b[0mlabels\u001b[0m\u001b[0;34m,\u001b[0m \u001b[0mscores\u001b[0m\u001b[0;34m)\u001b[0m\u001b[0;34m\u001b[0m\u001b[0m\n\u001b[1;32m     89\u001b[0m \u001b[0;34m\u001b[0m\u001b[0m\n",
      "\u001b[0;32m<ipython-input-19-c2aae42427ab>\u001b[0m in \u001b[0;36mgetValidationScores\u001b[0;34m(f)\u001b[0m\n\u001b[1;32m      7\u001b[0m         \u001b[0mdata\u001b[0m \u001b[0;34m=\u001b[0m \u001b[0mfile\u001b[0m\u001b[0;34m.\u001b[0m\u001b[0mreadlines\u001b[0m\u001b[0;34m(\u001b[0m\u001b[0;34m)\u001b[0m\u001b[0;34m\u001b[0m\u001b[0m\n\u001b[1;32m      8\u001b[0m         \u001b[0;32mfor\u001b[0m \u001b[0mx\u001b[0m \u001b[0;32min\u001b[0m \u001b[0mrange\u001b[0m\u001b[0;34m(\u001b[0m\u001b[0mnum_lines\u001b[0m\u001b[0;34m)\u001b[0m\u001b[0;34m:\u001b[0m\u001b[0;34m\u001b[0m\u001b[0m\n\u001b[0;32m----> 9\u001b[0;31m             \u001b[0mdt\u001b[0m \u001b[0;34m=\u001b[0m \u001b[0mlist\u001b[0m\u001b[0;34m(\u001b[0m\u001b[0mfilter\u001b[0m\u001b[0;34m(\u001b[0m\u001b[0;32mNone\u001b[0m\u001b[0;34m,\u001b[0m \u001b[0mre\u001b[0m\u001b[0;34m.\u001b[0m\u001b[0msplit\u001b[0m\u001b[0;34m(\u001b[0m\u001b[0;34m\"(:\\W)\"\u001b[0m\u001b[0;34m,\u001b[0m \u001b[0mdata\u001b[0m\u001b[0;34m[\u001b[0m\u001b[0mx\u001b[0m\u001b[0;34m]\u001b[0m\u001b[0;34m)\u001b[0m\u001b[0;34m)\u001b[0m\u001b[0;34m)\u001b[0m \u001b[0;31m# filter removes blank strings in data[x] list\u001b[0m\u001b[0;34m\u001b[0m\u001b[0m\n\u001b[0m\u001b[1;32m     10\u001b[0m             \u001b[0mlabel\u001b[0m \u001b[0;34m=\u001b[0m \u001b[0mdt\u001b[0m\u001b[0;34m[\u001b[0m\u001b[0;36m0\u001b[0m\u001b[0;34m]\u001b[0m\u001b[0;34m\u001b[0m\u001b[0m\n\u001b[1;32m     11\u001b[0m             \u001b[0mscore\u001b[0m \u001b[0;34m=\u001b[0m \u001b[0mdt\u001b[0m\u001b[0;34m[\u001b[0m\u001b[0mlen\u001b[0m\u001b[0;34m(\u001b[0m\u001b[0mdt\u001b[0m\u001b[0;34m)\u001b[0m \u001b[0;34m-\u001b[0m \u001b[0;36m1\u001b[0m\u001b[0;34m]\u001b[0m\u001b[0;34m\u001b[0m\u001b[0m\n",
      "\u001b[0;31mIndexError\u001b[0m: list index out of range"
     ]
    },
    {
     "data": {
      "image/png": "[encoded data removed]",
      "text/plain": [
       "<Figure size 2160x1440 with 2 Axes>"
      ]
     },
     "metadata": {},
     "output_type": "display_data"
    },
    {
     "data": {
      "image/png": "[encoded data removed]",
      "text/plain": [
       "<Figure size 2160x1440 with 1 Axes>"
      ]
     },
     "metadata": {},
     "output_type": "display_data"
    },
    {
     "data": {
      "image/png": "[encoded data removed]",
      "text/plain": [
       "<Figure size 2160x1440 with 1 Axes>"
      ]
     },
     "metadata": {},
     "output_type": "display_data"
    }
   ],
   "source": [
    "# main process\n",
    "delimiter = \"/\"\n",
    "fp_resume = readResume()\n",
    "\n",
    "# current painting\n",
    "current_painting = fp_resume.split(\"/\")\n",
    "current_painting = current_painting[len(current_painting) - 1].rstrip() # rstrip() for removing white spaces and new line instances\n",
    "\n",
    "# paintings_path\n",
    "paintings_path = fp_resume.split(\"/\")\n",
    "paintings_path.remove(paintings_path[len(paintings_path) - 1])\n",
    "paintings_path = delimiter.join(paintings_path)\n",
    "\n",
    "# labels_path\n",
    "labels_path = fp_resume.split(\"/\")\n",
    "labels_path.remove(labels_path[len(labels_path) - 1])\n",
    "labels_path.remove(labels_path[len(labels_path) - 1])\n",
    "labels_path.append(\"SegmentationClassPNG\")\n",
    "labels_path = delimiter.join(labels_path)\n",
    "\n",
    "paintings = getPaintings(paintings_path)\n",
    "# print(paintings)\n",
    "\n",
    "loop(paintings_path, labels_path, paintings, current_painting)"
   ]
  },
  {
   "cell_type": "code",
   "execution_count": null,
   "metadata": {},
   "outputs": [],
   "source": []
  }
 ],
 "metadata": {
  "kernelspec": {
   "display_name": "Python 3",
   "language": "python",
   "name": "python3"
  },
  "language_info": {
   "codemirror_mode": {
    "name": "ipython",
    "version": 3
   },
   "file_extension": ".py",
   "mimetype": "text/x-python",
   "name": "python",
   "nbconvert_exporter": "python",
   "pygments_lexer": "ipython3",
   "version": "3.6.5"
  }
 },
 "nbformat": 4,
 "nbformat_minor": 2
}
