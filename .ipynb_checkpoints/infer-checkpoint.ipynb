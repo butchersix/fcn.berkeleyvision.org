{
 "cells": [
  {
   "cell_type": "markdown",
   "metadata": {},
   "source": [
    "# THESIS NOTEBOOK - infer.py"
   ]
  },
  {
   "cell_type": "markdown",
   "metadata": {},
   "source": [
    "### Libraries are imported here:"
   ]
  },
  {
   "cell_type": "code",
   "execution_count": 2,
   "metadata": {},
   "outputs": [],
   "source": [
    "import numpy as np\n",
    "from PIL import Image\n",
    "\n",
    "import caffe\n",
    "import vis\n",
    "\n",
    "# own libraries\n",
    "import colorgram\n",
    "import os\n",
    "from os import listdir\n",
    "from os.path import isfile, join\n",
    "from pathlib import Path\n",
    "import random\n",
    "import shutil\n",
    "import time\n",
    "import datetime\n",
    "import math\n",
    "import sys\n",
    "\n",
    "import score\n",
    "import voc_layers"
   ]
  },
  {
   "cell_type": "markdown",
   "metadata": {},
   "source": [
    "### Constant and global variables:"
   ]
  },
  {
   "cell_type": "code",
   "execution_count": 4,
   "metadata": {},
   "outputs": [],
   "source": [
    "# own code - Jasper\n",
    "PRINT_SECONDS = 0.2\n",
    "REVIEW_SECONDS = 5\n",
    "REST_SECONDS = 10\n",
    "ERROR_ABOVE = \"Image {height, width} has above 1000 pixels\"\n",
    "PASS_BELOW = \"Image {height, width} has below 1000 pixels\"\n",
    "OUTPUT_FOLDER = \"output_score\" # no slashes both first and last\n",
    "OUTPUT_FOLDER_VALIDATION = \"output_validate\"\n",
    "dm = \"\" # global dimensions string\n",
    "JPG_FILETYPE = \".jpg\"\n",
    "PNG_FILETYPE = \".png\"\n",
    "loss = 0\n",
    "over_acc_scores = []\n",
    "mean_acc_scores = []\n",
    "iu_scores = []\n",
    "freq_scores = []\n",
    "session_count = 0"
   ]
  },
  {
   "cell_type": "markdown",
   "metadata": {},
   "source": [
    "### Function section here:"
   ]
  },
  {
   "cell_type": "markdown",
   "metadata": {},
   "source": [
    "#### trackSession"
   ]
  },
  {
   "cell_type": "code",
   "execution_count": 5,
   "metadata": {},
   "outputs": [],
   "source": [
    "def trackSession():\n",
    "    global session_count\n",
    "    if session_count == 0:\n",
    "        session_count += 1\n",
    "        return True\n",
    "    else:\n",
    "        return False\n",
    "    return False"
   ]
  },
  {
   "cell_type": "markdown",
   "metadata": {},
   "source": [
    "#### setSession"
   ]
  },
  {
   "cell_type": "code",
   "execution_count": null,
   "metadata": {},
   "outputs": [],
   "source": [
    "def setSession(file, flag=True):\n",
    "    now = datetime.datetime.now()\n",
    "    if flag:\n",
    "        file.write(\"\\n-------------------- SESSION - {} -------------------------\\n\".format(now.strftime(\"%Y-%m-%d %H:%M\")))\n",
    "    else:\n",
    "        file.write(\"-------------------- SESSION - {} -------------------------\\n\".format(now.strftime(\"%Y-%m-%d %H:%M\")))"
   ]
  },
  {
   "cell_type": "markdown",
   "metadata": {},
   "source": [
    "#### endSession"
   ]
  },
  {
   "cell_type": "code",
   "execution_count": 6,
   "metadata": {},
   "outputs": [],
   "source": [
    "def endSession(flag=True):\n",
    "    now = datetime.datetime.now()\n",
    "    if flag:\n",
    "        return \"\\n-------------------- END SESSION - {} -------------------------\\n\".format(now.strftime(\"%Y-%m-%d %H:%M\"))\n",
    "    else:\n",
    "        return \"-------------------- END SESSION - {} -------------------------\\n\".format(now.strftime(\"%Y-%m-%d %H:%M\"))\n",
    "    return \"\""
   ]
  },
  {
   "cell_type": "markdown",
   "metadata": {},
   "source": [
    "#### delayPrint"
   ]
  },
  {
   "cell_type": "code",
   "execution_count": 7,
   "metadata": {},
   "outputs": [],
   "source": [
    "def delayPrint(string, seconds): # n seconds delay printing\n",
    "    time.sleep(seconds)\n",
    "    exportLogs(string)\n",
    "    print(string)"
   ]
  },
  {
   "cell_type": "markdown",
   "metadata": {},
   "source": [
    "#### getPaintings"
   ]
  },
  {
   "cell_type": "code",
   "execution_count": 8,
   "metadata": {},
   "outputs": [],
   "source": [
    "def getPaintings(path):\n",
    "    paintings = [f.split(JPG_FILETYPE)[0] for f in listdir(path) if isfile(join(path, f))] # splits only for .jpg images\n",
    "    paintings.sort()\n",
    "    return paintings"
   ]
  },
  {
   "cell_type": "markdown",
   "metadata": {},
   "source": [
    "#### getLabels"
   ]
  },
  {
   "cell_type": "code",
   "execution_count": 9,
   "metadata": {},
   "outputs": [],
   "source": [
    "def getLabels(path):\n",
    "    paintings = [f.split(PNG_FILETYPE)[0] for f in listdir(path) if isfile(join(path, f))] # splits only for .png images\n",
    "    paintings.sort()\n",
    "    return paintings"
   ]
  },
  {
   "cell_type": "markdown",
   "metadata": {},
   "source": [
    "#### exportLogs"
   ]
  },
  {
   "cell_type": "code",
   "execution_count": 10,
   "metadata": {},
   "outputs": [],
   "source": [
    "def exportLogs(logs, f=\"demo/logs.log\"):\n",
    "    logs += \"\\n\"\n",
    "    if(isfile(f)):\n",
    "        file = open(f, \"a\")\n",
    "        if trackSession():\n",
    "            setSession(file)\n",
    "        file.write(logs)\n",
    "        file.close()\n",
    "    else:\n",
    "        print(\"Log file does not exist!\")\n",
    "        print(\"Creating {} file...\".format(f))\n",
    "        file = open(f, \"a+\")\n",
    "        if trackSession():\n",
    "            setSession(file)\n",
    "        file.write(logs)\n",
    "        file.close()"
   ]
  },
  {
   "cell_type": "markdown",
   "metadata": {},
   "source": [
    "#### createCurrentLog"
   ]
  },
  {
   "cell_type": "code",
   "execution_count": 11,
   "metadata": {},
   "outputs": [],
   "source": [
    "def exportLogs(logs, f=\"demo/logs.log\"):\n",
    "    logs += \"\\n\"\n",
    "    if(isfile(f)):\n",
    "        file = open(f, \"a\")\n",
    "        if trackSession():\n",
    "            setSession(file)\n",
    "        file.write(logs)\n",
    "        file.close()\n",
    "    else:\n",
    "        print(\"Log file does not exist!\")\n",
    "        print(\"Creating {} file...\".format(f))\n",
    "        file = open(f, \"a+\")\n",
    "        if trackSession():\n",
    "            setSession(file)\n",
    "        file.write(logs)\n",
    "        file.close()"
   ]
  },
  {
   "cell_type": "markdown",
   "metadata": {},
   "source": [
    "#### readResume"
   ]
  },
  {
   "cell_type": "code",
   "execution_count": 12,
   "metadata": {},
   "outputs": [],
   "source": [
    "def readResume(f=\"demo/resume.txt\"):\n",
    "    fp_resume = \"\"\n",
    "    delayPrint(\"Checking {} file...\".format(f), PRINT_SECONDS)\n",
    "    if(isfile(f)):\n",
    "        file = open(f, \"r\")\n",
    "        delayPrint(\"Reading file...\", PRINT_SECONDS)\n",
    "        fp_resume = file.read()\n",
    "        delayPrint(\"Last segmented image: {}\".format(fp_resume.rstrip()), PRINT_SECONDS)\n",
    "        delayPrint(\"Closing file...\", PRINT_SECONDS)\n",
    "        file.close()\n",
    "    else:\n",
    "        delayPrint(\"File does not exist!\", PRINT_SECONDS)\n",
    "    return fp_resume"
   ]
  },
  {
   "cell_type": "markdown",
   "metadata": {},
   "source": [
    "#### writeResume"
   ]
  },
  {
   "cell_type": "code",
   "execution_count": 13,
   "metadata": {},
   "outputs": [],
   "source": [
    "def writeResume(current_painting_path, f=\"demo/resume.txt\"):\n",
    "    delayPrint(\"Checking {} file...\".format(f), PRINT_SECONDS)\n",
    "    if(isfile(f)):\n",
    "        file = open(f, \"w+\")\n",
    "        delayPrint(\"Saving last segmented image path...\", PRINT_SECONDS)\n",
    "        delayPrint(\"Writing file...\", PRINT_SECONDS)\n",
    "        file.write(current_painting_path)\n",
    "        delayPrint(\"Closing file...\", PRINT_SECONDS)\n",
    "        file.close()\n",
    "    else:\n",
    "        delayPrint(\"File does not exist!\", PRINT_SECONDS)"
   ]
  },
  {
   "cell_type": "markdown",
   "metadata": {},
   "source": [
    "#### writeErrorFile"
   ]
  },
  {
   "cell_type": "code",
   "execution_count": 14,
   "metadata": {},
   "outputs": [],
   "source": [
    "def writeErrorFile(current_painting_path, error=\"\", f=\"demo/error.log\"):\n",
    "    delayPrint(\"Checking {} file...\".format(f), PRINT_SECONDS)\n",
    "    if(isfile(f)):\n",
    "        file = open(f, \"a\")\n",
    "        delayPrint(\"Writing error file...\", PRINT_SECONDS)\n",
    "        file.write(\"{} - {}\\n\".format(current_painting_path, error))\n",
    "        delayPrint(\"Closing error file...\", PRINT_SECONDS)\n",
    "        file.close()\n",
    "    else:\n",
    "        delayPrint(\"{} log file does not exist!\".format(f), PRINT_SECONDS)\n",
    "        delayPrint(\"Creating {} file...\".format(f), PRINT_SECONDS)\n",
    "        delayPrint(\"Writing error file...\", PRINT_SECONDS)\n",
    "        file = open(f, \"a+\")\n",
    "        file.write(\"{} - {}\\n\".format(current_painting_path, error))\n",
    "        delayPrint(\"Closing error file...\", PRINT_SECONDS)\n",
    "        file.close()"
   ]
  },
  {
   "cell_type": "markdown",
   "metadata": {},
   "source": [
    "#### reshapeInputLayer"
   ]
  },
  {
   "cell_type": "code",
   "execution_count": 15,
   "metadata": {},
   "outputs": [],
   "source": [
    "def reshapeInputLayer(img, LINE_NUMBER=7, f=\"voc-fcn8s/test.prototxt\"):\n",
    "    delayPrint(\"Checking {} file...\".format(f), PRINT_SECONDS)\n",
    "    # LINE_NUMBER = 7\n",
    "    width, height = img.size\n",
    "    if(isfile(f)):\n",
    "        with open(f, \"r\") as file:\n",
    "            delayPrint(\"Reading file...\", PRINT_SECONDS)\n",
    "            data = file.readlines()\n",
    "            delayPrint(\"Reshaping input layer...\", PRINT_SECONDS)\n",
    "            data[LINE_NUMBER] = \"    shape { dim: 1 dim: 3 dim: %s dim: %s }\\n\"%(height, width)\n",
    "            delayPrint(data[LINE_NUMBER], PRINT_SECONDS)\n",
    "        with open(f, \"w+\") as file:\n",
    "            delayPrint(\"Writing file...\", PRINT_SECONDS)\n",
    "            file.writelines(data)\n",
    "        delayPrint(\"Closing file...\", PRINT_SECONDS)\n",
    "        file.close()\n",
    "    else:\n",
    "        delayPrint(\"File does not exist!\", PRINT_SECONDS)"
   ]
  },
  {
   "cell_type": "markdown",
   "metadata": {},
   "source": [
    "####"
   ]
  },
  {
   "cell_type": "code",
   "execution_count": null,
   "metadata": {},
   "outputs": [],
   "source": []
  },
  {
   "cell_type": "markdown",
   "metadata": {},
   "source": []
  },
  {
   "cell_type": "code",
   "execution_count": null,
   "metadata": {},
   "outputs": [],
   "source": []
  },
  {
   "cell_type": "markdown",
   "metadata": {},
   "source": []
  },
  {
   "cell_type": "code",
   "execution_count": null,
   "metadata": {},
   "outputs": [],
   "source": []
  },
  {
   "cell_type": "markdown",
   "metadata": {},
   "source": []
  },
  {
   "cell_type": "code",
   "execution_count": null,
   "metadata": {},
   "outputs": [],
   "source": []
  },
  {
   "cell_type": "code",
   "execution_count": null,
   "metadata": {},
   "outputs": [],
   "source": []
  },
  {
   "cell_type": "code",
   "execution_count": null,
   "metadata": {},
   "outputs": [],
   "source": []
  },
  {
   "cell_type": "code",
   "execution_count": null,
   "metadata": {},
   "outputs": [],
   "source": []
  },
  {
   "cell_type": "code",
   "execution_count": null,
   "metadata": {},
   "outputs": [],
   "source": []
  },
  {
   "cell_type": "code",
   "execution_count": null,
   "metadata": {},
   "outputs": [],
   "source": []
  },
  {
   "cell_type": "code",
   "execution_count": null,
   "metadata": {},
   "outputs": [],
   "source": []
  },
  {
   "cell_type": "code",
   "execution_count": null,
   "metadata": {},
   "outputs": [],
   "source": []
  },
  {
   "cell_type": "code",
   "execution_count": null,
   "metadata": {},
   "outputs": [],
   "source": []
  },
  {
   "cell_type": "code",
   "execution_count": null,
   "metadata": {},
   "outputs": [],
   "source": []
  },
  {
   "cell_type": "code",
   "execution_count": null,
   "metadata": {},
   "outputs": [],
   "source": []
  }
 ],
 "metadata": {
  "kernelspec": {
   "display_name": "Python 3",
   "language": "python",
   "name": "python3"
  },
  "language_info": {
   "codemirror_mode": {
    "name": "ipython",
    "version": 3
   },
   "file_extension": ".py",
   "mimetype": "text/x-python",
   "name": "python",
   "nbconvert_exporter": "python",
   "pygments_lexer": "ipython3",
   "version": "3.6.5"
  }
 },
 "nbformat": 4,
 "nbformat_minor": 2
}
